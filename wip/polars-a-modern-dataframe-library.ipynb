{
  "cells": [
    {
      "cell_type": "markdown",
      "metadata": {
        "id": "OE9ltTAn3Bft"
      },
      "source": [
        "<a target=\"_blank\" href=\"https://colab.research.google.com/github/gox6/colab-demos/blob/main/wip/polars-a-modern-dataframe-library.ipynb\">\n",
        "  <img src=\"https://colab.research.google.com/assets/colab-badge.svg\" alt=\"Open In Colab\"/>\n",
        "</a>"
      ]
    },
    {
      "cell_type": "markdown",
      "metadata": {
        "id": "Th4snAyoMQt9"
      },
      "source": [
        "<html>\n",
        "<body>\n",
        "    <div style=\"display: flex;\">\n",
        "        <a href=\"https://towardsdatascience.com/evaluate-rags-rigorously-or-perish-54f790557357\" style=\"width: 45em; height: 15em; background-color: white; padding-left: 1em; display: flex; flex-direction: column; justify-content: center; color: inherit; text-decoration: none;\">\n",
        "            <p style=\"margin: 0; font-size: 1.5em; color: darkblue; font-weight: bold;\">The notebook contains the code for Medium article</p>\n",
        "            <p style=\"margin: 0; font-weight: bold; font-size: 1.5em; color: #3D4849;\">Invent the title</p>\n",
        "        </a>\n",
        "        <a href=\"https://towardsdatascience.com/evaluate-rags-rigorously-or-perish-54f790557357\" style=\"width: 30em; height: 15em;\">\n",
        "            <img src=\"https://images.unsplash.com/photo-1522991150037-09a660b94ba4?q=80&w=1470&auto=format&fit=crop&ixlib=rb-4.0.3&ixid=M3wxMjA3fDB8MHxwaG90by1wYWdlfHx8fGVufDB8fHx8fA%3D%3D\" style=\"width: 100%; height: 100%; object-fit: cover;\">\n",
        "        </a>\n",
        "    </div>\n",
        "</body>\n",
        "</html>"
      ]
    },
    {
      "cell_type": "markdown",
      "metadata": {
        "id": "vmF0y8zEshFD"
      },
      "source": [
        "# Project Setup"
      ]
    },
    {
      "cell_type": "code",
      "execution_count": 11,
      "metadata": {
        "id": "64_rrQSOqu1J"
      },
      "outputs": [],
      "source": [
        "# Installing Python packages quietly\n",
        "\n",
        "!pip install --quiet \\\n",
        "  polars \\\n",
        "  1> /dev/null"
      ]
    },
    {
      "cell_type": "code",
      "execution_count": 12,
      "metadata": {
        "id": "s--h0YVrqu1K"
      },
      "outputs": [],
      "source": [
        "# Importing the packages\n",
        "from getpass import getpass\n",
        "import os\n",
        "\n",
        "import polars as pl"
      ]
    },
    {
      "cell_type": "code",
      "execution_count": 13,
      "metadata": {
        "colab": {
          "base_uri": "https://localhost:8080/"
        },
        "id": "4Gaqge6KmLea",
        "outputId": "a1ad02a0-8b5a-4b87-f3d0-3f4af9502f73"
      },
      "outputs": [
        {
          "output_type": "stream",
          "name": "stdout",
          "text": [
            "Colab runtime\n"
          ]
        }
      ],
      "source": [
        "# Managing secrets\n",
        "# - If using Colab please use Colab Secrets\n",
        "# - If running outside Colab please provide secrets as environmental variables\n",
        "COLAB = os.getenv(\"COLAB_RELEASE_TAG\") is not None\n",
        "\n",
        "if COLAB:\n",
        "    from google.colab import userdata, data_table\n",
        "\n",
        "    # Secrets\n",
        "    OPENAI_API_KEY = userdata.get(\"OPENAI_API_KEY\")\n",
        "    os.environ[\"OPENAI_API_KEY\"] = OPENAI_API_KEY\n",
        "    runtime_info = \"Colab runtime\"\n",
        "\n",
        "    # Enabling Colab's data formatter for pandas\n",
        "    data_table.enable_dataframe_formatter()\n",
        "elif OPENAI_API_KEY := os.environ.get(\"OPENAI_API_KEY\"):\n",
        "    # Secrets\n",
        "    runtime_info = \"Non Colab runtime\"\n",
        "else:\n",
        "    OPENAI_API_KEY = getpass(\"OPENAI_API_KEY\")\n",
        "    os.environ[\"OPENAI_API_KEY\"] = OPENAI_API_KEY\n",
        "    runtime_info = \"Non Colab runtime\"\n",
        "\n",
        "print(runtime_info)"
      ]
    },
    {
      "cell_type": "code",
      "source": [
        "# You need free tier GCP account\n",
        "from google.colab import auth\n",
        "auth.authenticate_user()"
      ],
      "metadata": {
        "id": "hdsEvhm91522"
      },
      "execution_count": 23,
      "outputs": []
    },
    {
      "cell_type": "code",
      "source": [
        "\n",
        "from google.cloud import bigquery\n",
        "client = bigquery.Client(project='handy-buttress-422914-t8')"
      ],
      "metadata": {
        "id": "E2fb23LSrU5R"
      },
      "execution_count": 42,
      "outputs": []
    },
    {
      "cell_type": "code",
      "source": [
        "\n",
        "datasets = list(client.list_datasets())  # Make an API request.\n",
        "project = client.project\n",
        "\n",
        "if datasets:\n",
        "    print(\"Datasets in project {}:\".format(project))\n",
        "    for dataset in datasets:\n",
        "        print(\"\\t{}\".format(dataset.dataset_id))\n",
        "else:\n",
        "    print(\"{} project does not contain any datasets.\".format(project))"
      ],
      "metadata": {
        "id": "5wplUums7i9s",
        "outputId": "c19c5cf9-156f-4a97-c958-ba979b467fa6",
        "colab": {
          "base_uri": "https://localhost:8080/"
        }
      },
      "execution_count": 55,
      "outputs": [
        {
          "output_type": "stream",
          "name": "stdout",
          "text": [
            "Datasets in project bigquery-public-data:\n",
            "\tamerica_health_rankings\n",
            "\taustin_311\n",
            "\taustin_bikeshare\n",
            "\taustin_crime\n",
            "\taustin_incidents\n",
            "\taustin_waste\n",
            "\tbaseball\n",
            "\tbbc_news\n",
            "\tbigqueryml_ncaa\n",
            "\tbitcoin_blockchain\n",
            "\tblackhole_database\n",
            "\tblockchain_analytics_ethereum_mainnet_us\n",
            "\tbls\n",
            "\tbls_qcew\n",
            "\tbreathe\n",
            "\tbroadstreet_adi\n",
            "\tcatalonian_mobile_coverage\n",
            "\tcatalonian_mobile_coverage_eu\n",
            "\tcensus_bureau_acs\n",
            "\tcensus_bureau_construction\n",
            "\tcensus_bureau_international\n",
            "\tcensus_bureau_usa\n",
            "\tcensus_opportunity_atlas\n",
            "\tcensus_utility\n",
            "\tcfpb_complaints\n",
            "\tchicago_crime\n",
            "\tchicago_taxi_trips\n",
            "\tclemson_dice\n",
            "\tcloud_storage_geo_index\n",
            "\tcms_codes\n",
            "\tcms_medicare\n",
            "\tcms_synthetic_patient_data_omop\n",
            "\tcountry_codes\n",
            "\tcovid19_aha\n",
            "\tcovid19_covidtracking\n",
            "\tcovid19_ecdc\n",
            "\tcovid19_ecdc_eu\n",
            "\tcovid19_genome_sequence\n",
            "\tcovid19_geotab_mobility_impact\n",
            "\tcovid19_geotab_mobility_impact_eu\n",
            "\tcovid19_google_mobility\n",
            "\tcovid19_google_mobility_eu\n",
            "\tcovid19_govt_response\n",
            "\tcovid19_italy\n",
            "\tcovid19_italy_eu\n",
            "\tcovid19_jhu_csse\n",
            "\tcovid19_jhu_csse_eu\n",
            "\tcovid19_nyt\n",
            "\tcovid19_open_data\n",
            "\tcovid19_open_data_eu\n",
            "\tcovid19_public_forecasts\n",
            "\tcovid19_public_forecasts_asia_ne1\n",
            "\tcovid19_rxrx19\n",
            "\tcovid19_symptom_search\n",
            "\tcovid19_tracking\n",
            "\tcovid19_usafacts\n",
            "\tcovid19_vaccination_access\n",
            "\tcovid19_vaccination_search_insights\n",
            "\tcovid19_weathersource_com\n",
            "\tcrypto_aptos_mainnet_us\n",
            "\tcrypto_band\n",
            "\tcrypto_bitcoin\n",
            "\tcrypto_bitcoin_cash\n",
            "\tcrypto_dash\n",
            "\tcrypto_dogecoin\n",
            "\tcrypto_ethereum\n",
            "\tcrypto_ethereum_classic\n",
            "\tcrypto_iotex\n",
            "\tcrypto_kusama\n",
            "\tcrypto_litecoin\n",
            "\tcrypto_multiversx_mainnet_eu\n",
            "\tcrypto_near_mainnet_us\n",
            "\tcrypto_polkadot\n",
            "\tcrypto_polygon\n",
            "\tcrypto_solana_mainnet_us\n",
            "\tcrypto_sui_mainnet_us\n",
            "\tcrypto_tezos\n",
            "\tcrypto_theta\n",
            "\tcrypto_zcash\n",
            "\tcrypto_zilliqa\n",
            "\tcymbal_investments\n",
            "\tdataflix_covid\n",
            "\tdataflix_traffic_safety\n",
            "\tdeepmind_alphafold\n",
            "\tdeps_dev_v1\n",
            "\tdimensions_ai_covid19\n",
            "\tebi_chembl\n",
            "\tebi_surechembl\n",
            "\teclipse_megamovie\n",
            "\tepa_historical_air_quality\n",
            "\tethereum_blockchain\n",
            "\tetsi_technical_standards\n",
            "\tfaa\n",
            "\tfcc_political_ads\n",
            "\tfda_drug\n",
            "\tfda_food\n",
            "\tfdic_banks\n",
            "\tfec\n",
            "\tfhir_synthea\n",
            "\tga4_obfuscated_sample_ecommerce\n",
            "\tgbif\n",
            "\tgdelt_hathitrustbooks\n",
            "\tgdelt_internetarchivebooks\n",
            "\tgenomics_cannabis\n",
            "\tgenomics_rice\n",
            "\tgeo_census_blockgroups\n",
            "\tgeo_census_tracts\n",
            "\tgeo_international_ports\n",
            "\tgeo_openstreetmap\n",
            "\tgeo_us_boundaries\n",
            "\tgeo_us_census_places\n",
            "\tgeo_us_roads\n",
            "\tgeo_whos_on_first\n",
            "\tghcn_d\n",
            "\tghcn_m\n",
            "\tgithub_repos\n",
            "\tgnomAD\n",
            "\tgnomAD_asiane1\n",
            "\tgnomAD_eu\n",
            "\tgoog_blockchain_arbitrum_one_us\n",
            "\tgoog_blockchain_avalanche_contract_chain_us\n",
            "\tgoog_blockchain_cronos_mainnet_us\n",
            "\tgoog_blockchain_ethereum_goerli_us\n",
            "\tgoog_blockchain_ethereum_mainnet_us\n",
            "\tgoog_blockchain_fantom_opera_us\n",
            "\tgoog_blockchain_optimism_mainnet_us\n",
            "\tgoog_blockchain_polygon_mainnet_us\n",
            "\tgoog_blockchain_tron_mainnet_us\n",
            "\tgoogle_ads\n",
            "\tgoogle_ads_geo_mapping_asia_east1\n",
            "\tgoogle_ads_geo_mapping_asia_east2\n",
            "\tgoogle_ads_geo_mapping_asia_northeast1\n",
            "\tgoogle_ads_geo_mapping_asia_northeast2\n",
            "\tgoogle_ads_geo_mapping_asia_northeast3\n",
            "\tgoogle_ads_geo_mapping_asia_south1\n",
            "\tgoogle_ads_geo_mapping_asia_south2\n",
            "\tgoogle_ads_geo_mapping_asia_southeast1\n",
            "\tgoogle_ads_geo_mapping_asia_southeast2\n",
            "\tgoogle_ads_geo_mapping_australia_southeast1\n",
            "\tgoogle_ads_geo_mapping_australia_southeast2\n",
            "\tgoogle_ads_geo_mapping_eu\n",
            "\tgoogle_ads_geo_mapping_europe_central2\n",
            "\tgoogle_ads_geo_mapping_europe_north1\n",
            "\tgoogle_ads_geo_mapping_europe_southwest1\n",
            "\tgoogle_ads_geo_mapping_europe_west1\n",
            "\tgoogle_ads_geo_mapping_europe_west12\n",
            "\tgoogle_ads_geo_mapping_europe_west2\n",
            "\tgoogle_ads_geo_mapping_europe_west3\n",
            "\tgoogle_ads_geo_mapping_europe_west4\n",
            "\tgoogle_ads_geo_mapping_europe_west6\n",
            "\tgoogle_ads_geo_mapping_europe_west8\n",
            "\tgoogle_ads_geo_mapping_europe_west9\n",
            "\tgoogle_ads_geo_mapping_me_central1\n",
            "\tgoogle_ads_geo_mapping_me_central2\n",
            "\tgoogle_ads_geo_mapping_me_west1\n",
            "\tgoogle_ads_geo_mapping_northamerica_northeast1\n",
            "\tgoogle_ads_geo_mapping_northamerica_northeast2\n",
            "\tgoogle_ads_geo_mapping_southamerica_east1\n",
            "\tgoogle_ads_geo_mapping_southamerica_west1\n",
            "\tgoogle_ads_geo_mapping_us\n",
            "\tgoogle_ads_geo_mapping_us_central1\n",
            "\tgoogle_ads_geo_mapping_us_central2\n",
            "\tgoogle_ads_geo_mapping_us_east1\n",
            "\tgoogle_ads_geo_mapping_us_east4\n",
            "\tgoogle_ads_geo_mapping_us_east5\n",
            "\tgoogle_ads_geo_mapping_us_south1\n",
            "\tgoogle_ads_geo_mapping_us_west1\n",
            "\tgoogle_ads_geo_mapping_us_west2\n",
            "\tgoogle_ads_geo_mapping_us_west3\n",
            "\tgoogle_ads_geo_mapping_us_west4\n",
            "\tgoogle_ads_transparency_center\n",
            "\tgoogle_analytics_sample\n",
            "\tgoogle_books_ngrams_2020\n",
            "\tgoogle_cfe\n",
            "\tgoogle_cloud_release_notes\n",
            "\tgoogle_dei\n",
            "\tgoogle_patents_research\n",
            "\tgoogle_political_ads\n",
            "\tgoogle_trends\n",
            "\tgretel_synthetic_text_to_sql\n",
            "\tgrid_ac\n",
            "\thacker_news\n",
            "\thud_zipcode_crosswalk\n",
            "\thuman_genome_variants\n",
            "\thuman_variant_annotation\n",
            "\tidc_current\n",
            "\tidc_current_clinical\n",
            "\tidc_v1\n",
            "\tidc_v10\n",
            "\tidc_v11\n",
            "\tidc_v11_clinical\n",
            "\tidc_v12\n",
            "\tidc_v12_clinical\n",
            "\tidc_v13\n",
            "\tidc_v13_clinical\n",
            "\tidc_v14\n",
            "\tidc_v14_clinical\n",
            "\tidc_v15\n",
            "\tidc_v15_clinical\n",
            "\tidc_v16\n",
            "\tidc_v16_clinical\n",
            "\tidc_v17\n",
            "\tidc_v17_clinical\n",
            "\tidc_v18\n",
            "\tidc_v18_clinical\n",
            "\tidc_v2\n",
            "\tidc_v3\n",
            "\tidc_v4\n",
            "\tidc_v5\n",
            "\tidc_v6\n",
            "\tidc_v7\n",
            "\tidc_v8\n",
            "\tidc_v9\n",
            "\timdb\n",
            "\timmune_epitope_db\n",
            "\tiowa_liquor_sales\n",
            "\tiowa_liquor_sales_forecasting\n",
            "\tirs_990\n",
            "\tlabeled_patents\n",
            "\tlibraries_io\n",
            "\tlistenbrainz\n",
            "\tlondon_bicycles\n",
            "\tlondon_crime\n",
            "\tlondon_fire_brigade\n",
            "\tmarec\n",
            "\tmedicare\n",
            "\tml_datasets\n",
            "\tml_datasets_uscentral1\n",
            "\tmodis_terra_net_primary_production\n",
            "\tmoon_phases\n",
            "\tmultilingual_spoken_words_corpus\n",
            "\tnasa_wildfire\n",
            "\tnational_water_model\n",
            "\tncaa_basketball\n",
            "\tnces_ipeds\n",
            "\tnew_york\n",
            "\tnew_york_311\n",
            "\tnew_york_citibike\n",
            "\tnew_york_mv_collisions\n",
            "\tnew_york_subway\n",
            "\tnew_york_taxi_trips\n",
            "\tnew_york_trees\n",
            "\tnhtsa_traffic_fatalities\n",
            "\tnih_gudid\n",
            "\tnih_sequence_read\n",
            "\tnlm_rxnorm\n",
            "\tnoaa_global_forecast_system\n",
            "\tnoaa_goes16\n",
            "\tnoaa_goes17\n",
            "\tnoaa_gsod\n",
            "\tnoaa_historic_severe_storms\n",
            "\tnoaa_hurricanes\n",
            "\tnoaa_icoads\n",
            "\tnoaa_lightning\n",
            "\tnoaa_nwm\n",
            "\tnoaa_passive_acoustic_index\n",
            "\tnoaa_passive_bioacoustic\n",
            "\tnoaa_pifsc_metadata\n",
            "\tnoaa_preliminary_severe_storms\n",
            "\tnoaa_significant_earthquakes\n",
            "\tnoaa_tsunami\n",
            "\tnppes\n",
            "\tnrel_nsrdb\n",
            "\topen_buildings\n",
            "\topen_images\n",
            "\topen_targets_genetics\n",
            "\topen_targets_platform\n",
            "\topenaq\n",
            "\toverture_maps\n",
            "\tpatents\n",
            "\tpatents_cpc\n",
            "\tpatents_dsep\n",
            "\tpatents_view\n",
            "\tpersistent_udfs\n",
            "\tproperati_properties_ar\n",
            "\tproperati_properties_br\n",
            "\tproperati_properties_cl\n",
            "\tproperati_properties_co\n",
            "\tproperati_properties_mx\n",
            "\tproperati_properties_pe\n",
            "\tproperati_properties_uy\n",
            "\tpypi\n",
            "\tsamples\n",
            "\tsan_francisco\n",
            "\tsan_francisco_311\n",
            "\tsan_francisco_bikeshare\n",
            "\tsan_francisco_film_locations\n",
            "\tsan_francisco_neighborhoods\n",
            "\tsan_francisco_sffd_service_calls\n",
            "\tsan_francisco_sfpd_incidents\n",
            "\tsan_francisco_transit_muni\n",
            "\tsan_francisco_trees\n",
            "\tsdoh_bea_cainc30\n",
            "\tsdoh_cdc_wonder_natality\n",
            "\tsdoh_cms_dual_eligible_enrollment\n",
            "\tsdoh_hrsa_shortage_areas\n",
            "\tsdoh_hud_housing\n",
            "\tsdoh_hud_pit_homelessness\n",
            "\tsdoh_snap_enrollment\n",
            "\tsec_quarterly_financials\n",
            "\tstackoverflow\n",
            "\tsunroof_solar\n",
            "\tthe_general_index\n",
            "\tthe_met\n",
            "\tthelook_ecommerce\n",
            "\tucb_fung_patent_data\n",
            "\tumiami_lincs\n",
            "\tun_sdg\n",
            "\tus_res_real_est_data\n",
            "\tusa_contagious_disease\n",
            "\tusa_names\n",
            "\tusda_nass_agriculture\n",
            "\tusfs_fia\n",
            "\tusitc_investigations\n",
            "\tuspto_oce_assignment\n",
            "\tuspto_oce_cancer\n",
            "\tuspto_oce_claims\n",
            "\tuspto_oce_litigation\n",
            "\tuspto_oce_office_actions\n",
            "\tuspto_oce_pair\n",
            "\tuspto_ptab\n",
            "\tutility_eu\n",
            "\tutility_us\n",
            "\twikipedia\n",
            "\twise_all_sky_data_release\n",
            "\tworld_bank_global_population\n",
            "\tworld_bank_health_population\n",
            "\tworld_bank_intl_debt\n",
            "\tworld_bank_intl_education\n",
            "\tworld_bank_wdi\n",
            "\tworldbank_wdi\n",
            "\tworldpop\n"
          ]
        }
      ]
    },
    {
      "cell_type": "code",
      "execution_count": 68,
      "metadata": {
        "colab": {
          "base_uri": "https://localhost:8080/"
        },
        "id": "wNHP5BEfeRsC",
        "outputId": "ba1b81d3-2e2e-4d2c-d774-d641e16f2bbf"
      },
      "outputs": [
        {
          "output_type": "stream",
          "name": "stdout",
          "text": [
            "CPU times: user 20.4 s, sys: 18.5 s, total: 38.8 s\n",
            "Wall time: 32.1 s\n"
          ]
        }
      ],
      "source": [
        "# Perform a query.\n",
        "%%time\n",
        "client = bigquery.Client(project='handy-buttress-422914-t8')\n",
        "QUERY = (\n",
        "    \"\"\"SELECT * FROM `bigquery-public-data.chicago_taxi_trips.taxi_trips`\n",
        "    LIMIT 10000000\"\"\"\n",
        "    )\n",
        "query_job = client.query(QUERY)  # API request\n",
        "rows = query_job.result()  # Waits for query to finish\n",
        "\n",
        "df = pl.from_arrow(rows.to_arrow())"
      ]
    },
    {
      "cell_type": "code",
      "source": [
        "df.describe()"
      ],
      "metadata": {
        "id": "0AmlVb5qIGX8",
        "outputId": "f3a0f9bd-525c-4174-a6c1-8d5841ddcf83",
        "colab": {
          "base_uri": "https://localhost:8080/",
          "height": 452
        }
      },
      "execution_count": 67,
      "outputs": [
        {
          "output_type": "execute_result",
          "data": {
            "text/plain": [
              "shape: (9, 24)\n",
              "┌───────────┬───────────┬───────────┬───────────┬───┬───────────┬───────────┬───────────┬──────────┐\n",
              "│ describe  ┆ unique_ke ┆ taxi_id   ┆ trip_star ┆ … ┆ pickup_lo ┆ dropoff_l ┆ dropoff_l ┆ dropoff_ │\n",
              "│ ---       ┆ y         ┆ ---       ┆ t_timesta ┆   ┆ cation    ┆ atitude   ┆ ongitude  ┆ location │\n",
              "│ str       ┆ ---       ┆ str       ┆ mp        ┆   ┆ ---       ┆ ---       ┆ ---       ┆ ---      │\n",
              "│           ┆ str       ┆           ┆ ---       ┆   ┆ str       ┆ f64       ┆ f64       ┆ str      │\n",
              "│           ┆           ┆           ┆ str       ┆   ┆           ┆           ┆           ┆          │\n",
              "╞═══════════╪═══════════╪═══════════╪═══════════╪═══╪═══════════╪═══════════╪═══════════╪══════════╡\n",
              "│ count     ┆ 1000000   ┆ 1000000   ┆ 1000000   ┆ … ┆ 422182    ┆ 483949.0  ┆ 483949.0  ┆ 483949   │\n",
              "│ null_coun ┆ 0         ┆ 0         ┆ 0         ┆ … ┆ 577818    ┆ 516051.0  ┆ 516051.0  ┆ 516051   │\n",
              "│ t         ┆           ┆           ┆           ┆   ┆           ┆           ┆           ┆          │\n",
              "│ mean      ┆ null      ┆ null      ┆ null      ┆ … ┆ null      ┆ 41.907358 ┆ -87.66795 ┆ null     │\n",
              "│           ┆           ┆           ┆           ┆   ┆           ┆           ┆ 5         ┆          │\n",
              "│ std       ┆ null      ┆ null      ┆ null      ┆ … ┆ null      ┆ 0.045144  ┆ 0.077432  ┆ null     │\n",
              "│ min       ┆ 000004c5d ┆ 0005e9157 ┆ 2013-04-1 ┆ … ┆ POINT (-8 ┆ 41.660136 ┆ -87.91362 ┆ POINT    │\n",
              "│           ┆ 7cfd455bc ┆ e3cfe5294 ┆ 1 16:00:0 ┆   ┆ 7.5349029 ┆           ┆ 5         ┆ (-87.534 │\n",
              "│           ┆ 45d89eb2a ┆ 8317ab208 ┆ 0+00:00   ┆   ┆ 012 41.70 ┆           ┆           ┆ 9029012  │\n",
              "│           ┆ a49b4…    ┆ 9170a…    ┆           ┆   ┆ 73114…    ┆           ┆           ┆ 41.70731 │\n",
              "│           ┆           ┆           ┆           ┆   ┆           ┆           ┆           ┆ 14…      │\n",
              "│ 25%       ┆ null      ┆ null      ┆ null      ┆ … ┆ null      ┆ 41.880994 ┆ -87.66407 ┆ null     │\n",
              "│           ┆           ┆           ┆           ┆   ┆           ┆           ┆ 8         ┆          │\n",
              "│ 50%       ┆ null      ┆ null      ┆ null      ┆ … ┆ null      ┆ 41.895033 ┆ -87.63784 ┆ null     │\n",
              "│           ┆           ┆           ┆           ┆   ┆           ┆           ┆ 4         ┆          │\n",
              "│ 75%       ┆ null      ┆ null      ┆ null      ┆ … ┆ null      ┆ 41.936237 ┆ -87.62621 ┆ null     │\n",
              "│           ┆           ┆           ┆           ┆   ┆           ┆           ┆ 5         ┆          │\n",
              "│ max       ┆ ffffb296e ┆ fff84aa08 ┆ 2022-10-3 ┆ … ┆ POINT (-8 ┆ 42.021224 ┆ -87.53490 ┆ POINT    │\n",
              "│           ┆ b928b43c5 ┆ ac78890c6 ┆ 0 12:15:0 ┆   ┆ 7.9136245 ┆           ┆ 3         ┆ (-87.913 │\n",
              "│           ┆ 56e726d88 ┆ e7da64b81 ┆ 0+00:00   ┆   ┆ 96 41.980 ┆           ┆           ┆ 624596   │\n",
              "│           ┆ 4144f…    ┆ 7cbd9…    ┆           ┆   ┆ 26431…    ┆           ┆           ┆ 41.98026 │\n",
              "│           ┆           ┆           ┆           ┆   ┆           ┆           ┆           ┆ 431…     │\n",
              "└───────────┴───────────┴───────────┴───────────┴───┴───────────┴───────────┴───────────┴──────────┘"
            ],
            "text/html": [
              "<div><style>\n",
              ".dataframe > thead > tr,\n",
              ".dataframe > tbody > tr {\n",
              "  text-align: right;\n",
              "  white-space: pre-wrap;\n",
              "}\n",
              "</style>\n",
              "<small>shape: (9, 24)</small><table border=\"1\" class=\"dataframe\"><thead><tr><th>describe</th><th>unique_key</th><th>taxi_id</th><th>trip_start_timestamp</th><th>trip_end_timestamp</th><th>trip_seconds</th><th>trip_miles</th><th>pickup_census_tract</th><th>dropoff_census_tract</th><th>pickup_community_area</th><th>dropoff_community_area</th><th>fare</th><th>tips</th><th>tolls</th><th>extras</th><th>trip_total</th><th>payment_type</th><th>company</th><th>pickup_latitude</th><th>pickup_longitude</th><th>pickup_location</th><th>dropoff_latitude</th><th>dropoff_longitude</th><th>dropoff_location</th></tr><tr><td>str</td><td>str</td><td>str</td><td>str</td><td>str</td><td>f64</td><td>f64</td><td>f64</td><td>f64</td><td>f64</td><td>f64</td><td>f64</td><td>f64</td><td>f64</td><td>f64</td><td>f64</td><td>str</td><td>str</td><td>f64</td><td>f64</td><td>str</td><td>f64</td><td>f64</td><td>str</td></tr></thead><tbody><tr><td>&quot;count&quot;</td><td>&quot;1000000&quot;</td><td>&quot;1000000&quot;</td><td>&quot;1000000&quot;</td><td>&quot;999998&quot;</td><td>999853.0</td><td>999963.0</td><td>328025.0</td><td>347805.0</td><td>422165.0</td><td>482220.0</td><td>999943.0</td><td>999943.0</td><td>764017.0</td><td>999943.0</td><td>999943.0</td><td>&quot;1000000&quot;</td><td>&quot;474449&quot;</td><td>422182.0</td><td>422182.0</td><td>&quot;422182&quot;</td><td>483949.0</td><td>483949.0</td><td>&quot;483949&quot;</td></tr><tr><td>&quot;null_count&quot;</td><td>&quot;0&quot;</td><td>&quot;0&quot;</td><td>&quot;0&quot;</td><td>&quot;2&quot;</td><td>147.0</td><td>37.0</td><td>671975.0</td><td>652195.0</td><td>577835.0</td><td>517780.0</td><td>57.0</td><td>57.0</td><td>235983.0</td><td>57.0</td><td>57.0</td><td>&quot;0&quot;</td><td>&quot;525551&quot;</td><td>577818.0</td><td>577818.0</td><td>&quot;577818&quot;</td><td>516051.0</td><td>516051.0</td><td>&quot;516051&quot;</td></tr><tr><td>&quot;mean&quot;</td><td>null</td><td>null</td><td>null</td><td>null</td><td>829.627538</td><td>4.308541</td><td>1.7031e10</td><td>1.7031e10</td><td>21.926488</td><td>23.550624</td><td>12.678485</td><td>1.154758</td><td>0.011009</td><td>0.937429</td><td>14.826923</td><td>null</td><td>null</td><td>41.904451</td><td>-87.658214</td><td>null</td><td>41.907358</td><td>-87.667955</td><td>null</td></tr><tr><td>&quot;std&quot;</td><td>null</td><td>null</td><td>null</td><td>null</td><td>1600.702144</td><td>11.452632</td><td>340391.465488</td><td>343293.185461</td><td>19.592892</td><td>21.028473</td><td>57.1031</td><td>2.730116</td><td>1.704209</td><td>6.726246</td><td>58.374663</td><td>null</td><td>null</td><td>0.036569</td><td>0.069566</td><td>null</td><td>0.045144</td><td>0.077432</td><td>null</td></tr><tr><td>&quot;min&quot;</td><td>&quot;000004c5d7cfd4…</td><td>&quot;0005e9157e3cfe…</td><td>&quot;2013-04-11 16:…</td><td>&quot;2013-04-11 16:…</td><td>0.0</td><td>0.0</td><td>1.7031e10</td><td>1.7031e10</td><td>1.0</td><td>1.0</td><td>0.0</td><td>0.0</td><td>0.0</td><td>0.0</td><td>0.0</td><td>&quot;Cash&quot;</td><td>&quot;1085 - 72312 N…</td><td>41.67382</td><td>-87.913625</td><td>&quot;POINT (-87.534…</td><td>41.660136</td><td>-87.913625</td><td>&quot;POINT (-87.534…</td></tr><tr><td>&quot;25%&quot;</td><td>null</td><td>null</td><td>null</td><td>null</td><td>300.0</td><td>0.8</td><td>1.7031e10</td><td>1.7031e10</td><td>8.0</td><td>8.0</td><td>5.25</td><td>0.0</td><td>0.0</td><td>0.0</td><td>6.05</td><td>null</td><td>null</td><td>41.884987</td><td>-87.655998</td><td>null</td><td>41.880994</td><td>-87.664078</td><td>null</td></tr><tr><td>&quot;50%&quot;</td><td>null</td><td>null</td><td>null</td><td>null</td><td>540.0</td><td>1.7</td><td>1.7031e10</td><td>1.7031e10</td><td>8.0</td><td>21.0</td><td>7.65</td><td>0.0</td><td>0.0</td><td>0.0</td><td>9.0</td><td>null</td><td>null</td><td>41.892658</td><td>-87.632746</td><td>null</td><td>41.895033</td><td>-87.637844</td><td>null</td></tr><tr><td>&quot;75%&quot;</td><td>null</td><td>null</td><td>null</td><td>null</td><td>983.0</td><td>4.5</td><td>1.7032e10</td><td>1.7032e10</td><td>32.0</td><td>32.0</td><td>13.0</td><td>2.0</td><td>0.0</td><td>1.0</td><td>14.65</td><td>null</td><td>null</td><td>41.922083</td><td>-87.626211</td><td>null</td><td>41.936237</td><td>-87.626215</td><td>null</td></tr><tr><td>&quot;max&quot;</td><td>&quot;ffffb296eb928b…</td><td>&quot;fff84aa08ac788…</td><td>&quot;2022-10-30 12:…</td><td>&quot;2022-10-30 12:…</td><td>86388.0</td><td>2151.86</td><td>1.7032e10</td><td>1.7032e10</td><td>77.0</td><td>77.0</td><td>9140.71</td><td>800.0</td><td>999.99</td><td>5560.55</td><td>9190.71</td><td>&quot;Unknown&quot;</td><td>&quot;Yellow Cab&quot;</td><td>42.021224</td><td>-87.534903</td><td>&quot;POINT (-87.913…</td><td>42.021224</td><td>-87.534903</td><td>&quot;POINT (-87.913…</td></tr></tbody></table></div>"
            ]
          },
          "metadata": {},
          "execution_count": 67
        }
      ]
    },
    {
      "cell_type": "code",
      "source": [
        "import polars as pl\n",
        "from google.cloud import bigquery\n",
        "\n",
        "client = bigquery.Client()\n",
        "\n",
        "# Perform a query.\n",
        "QUERY = (\n",
        "    'SELECT * FROM `bigquery-public-data.usa_names.usa_1910_2013` LIMIT 100')\n",
        "query_job = client.query(QUERY)  # API request\n",
        "rows = query_job.result()  # Waits for query to finish\n",
        "\n",
        "df = pl.from_arrow(rows.to_arrow())"
      ],
      "metadata": {
        "id": "Wts1hs6lE9lr",
        "outputId": "2f7a5e4f-d405-48af-8ccd-d7cc2eb3f76e",
        "colab": {
          "base_uri": "https://localhost:8080/",
          "height": 426
        }
      },
      "execution_count": 60,
      "outputs": [
        {
          "output_type": "error",
          "ename": "NotFound",
          "evalue": "404 POST https://bigquery.googleapis.com/bigquery/v2/projects//jobs?prettyPrint=false: Request couldn't be served.\n\nLocation: None\nJob ID: 45407d9a-8fce-48a3-8925-b764285b9980\n",
          "traceback": [
            "\u001b[0;31m---------------------------------------------------------------------------\u001b[0m",
            "\u001b[0;31mNotFound\u001b[0m                                  Traceback (most recent call last)",
            "\u001b[0;32m<ipython-input-60-6b0dd921bd27>\u001b[0m in \u001b[0;36m<cell line: 9>\u001b[0;34m()\u001b[0m\n\u001b[1;32m      7\u001b[0m QUERY = (\n\u001b[1;32m      8\u001b[0m     'SELECT * FROM `bigquery-public-data.usa_names.usa_1910_2013` LIMIT 100')\n\u001b[0;32m----> 9\u001b[0;31m \u001b[0mquery_job\u001b[0m \u001b[0;34m=\u001b[0m \u001b[0mclient\u001b[0m\u001b[0;34m.\u001b[0m\u001b[0mquery\u001b[0m\u001b[0;34m(\u001b[0m\u001b[0mQUERY\u001b[0m\u001b[0;34m)\u001b[0m  \u001b[0;31m# API request\u001b[0m\u001b[0;34m\u001b[0m\u001b[0;34m\u001b[0m\u001b[0m\n\u001b[0m\u001b[1;32m     10\u001b[0m \u001b[0mrows\u001b[0m \u001b[0;34m=\u001b[0m \u001b[0mquery_job\u001b[0m\u001b[0;34m.\u001b[0m\u001b[0mresult\u001b[0m\u001b[0;34m(\u001b[0m\u001b[0;34m)\u001b[0m  \u001b[0;31m# Waits for query to finish\u001b[0m\u001b[0;34m\u001b[0m\u001b[0;34m\u001b[0m\u001b[0m\n\u001b[1;32m     11\u001b[0m \u001b[0;34m\u001b[0m\u001b[0m\n",
            "\u001b[0;32m/usr/local/lib/python3.10/dist-packages/google/cloud/bigquery/client.py\u001b[0m in \u001b[0;36mquery\u001b[0;34m(self, query, job_config, job_id, job_id_prefix, location, project, retry, timeout, job_retry, api_method)\u001b[0m\n\u001b[1;32m   3481\u001b[0m             )\n\u001b[1;32m   3482\u001b[0m         \u001b[0;32melif\u001b[0m \u001b[0mapi_method\u001b[0m \u001b[0;34m==\u001b[0m \u001b[0menums\u001b[0m\u001b[0;34m.\u001b[0m\u001b[0mQueryApiMethod\u001b[0m\u001b[0;34m.\u001b[0m\u001b[0mINSERT\u001b[0m\u001b[0;34m:\u001b[0m\u001b[0;34m\u001b[0m\u001b[0;34m\u001b[0m\u001b[0m\n\u001b[0;32m-> 3483\u001b[0;31m             return _job_helpers.query_jobs_insert(\n\u001b[0m\u001b[1;32m   3484\u001b[0m                 \u001b[0mself\u001b[0m\u001b[0;34m,\u001b[0m\u001b[0;34m\u001b[0m\u001b[0;34m\u001b[0m\u001b[0m\n\u001b[1;32m   3485\u001b[0m                 \u001b[0mquery\u001b[0m\u001b[0;34m,\u001b[0m\u001b[0;34m\u001b[0m\u001b[0;34m\u001b[0m\u001b[0m\n",
            "\u001b[0;32m/usr/local/lib/python3.10/dist-packages/google/cloud/bigquery/_job_helpers.py\u001b[0m in \u001b[0;36mquery_jobs_insert\u001b[0;34m(client, query, job_config, job_id, job_id_prefix, location, project, retry, timeout, job_retry)\u001b[0m\n\u001b[1;32m    156\u001b[0m             \u001b[0;32mreturn\u001b[0m \u001b[0mquery_job\u001b[0m\u001b[0;34m\u001b[0m\u001b[0;34m\u001b[0m\u001b[0m\n\u001b[1;32m    157\u001b[0m \u001b[0;34m\u001b[0m\u001b[0m\n\u001b[0;32m--> 158\u001b[0;31m     \u001b[0mfuture\u001b[0m \u001b[0;34m=\u001b[0m \u001b[0mdo_query\u001b[0m\u001b[0;34m(\u001b[0m\u001b[0;34m)\u001b[0m\u001b[0;34m\u001b[0m\u001b[0;34m\u001b[0m\u001b[0m\n\u001b[0m\u001b[1;32m    159\u001b[0m     \u001b[0;31m# The future might be in a failed state now, but if it's\u001b[0m\u001b[0;34m\u001b[0m\u001b[0;34m\u001b[0m\u001b[0m\n\u001b[1;32m    160\u001b[0m     \u001b[0;31m# unrecoverable, we'll find out when we ask for it's result, at which\u001b[0m\u001b[0;34m\u001b[0m\u001b[0;34m\u001b[0m\u001b[0m\n",
            "\u001b[0;32m/usr/local/lib/python3.10/dist-packages/google/cloud/bigquery/_job_helpers.py\u001b[0m in \u001b[0;36mdo_query\u001b[0;34m()\u001b[0m\n\u001b[1;32m    133\u001b[0m \u001b[0;34m\u001b[0m\u001b[0m\n\u001b[1;32m    134\u001b[0m         \u001b[0;32mtry\u001b[0m\u001b[0;34m:\u001b[0m\u001b[0;34m\u001b[0m\u001b[0;34m\u001b[0m\u001b[0m\n\u001b[0;32m--> 135\u001b[0;31m             \u001b[0mquery_job\u001b[0m\u001b[0;34m.\u001b[0m\u001b[0m_begin\u001b[0m\u001b[0;34m(\u001b[0m\u001b[0mretry\u001b[0m\u001b[0;34m=\u001b[0m\u001b[0mretry\u001b[0m\u001b[0;34m,\u001b[0m \u001b[0mtimeout\u001b[0m\u001b[0;34m=\u001b[0m\u001b[0mtimeout\u001b[0m\u001b[0;34m)\u001b[0m\u001b[0;34m\u001b[0m\u001b[0;34m\u001b[0m\u001b[0m\n\u001b[0m\u001b[1;32m    136\u001b[0m         \u001b[0;32mexcept\u001b[0m \u001b[0mcore_exceptions\u001b[0m\u001b[0;34m.\u001b[0m\u001b[0mConflict\u001b[0m \u001b[0;32mas\u001b[0m \u001b[0mcreate_exc\u001b[0m\u001b[0;34m:\u001b[0m\u001b[0;34m\u001b[0m\u001b[0;34m\u001b[0m\u001b[0m\n\u001b[1;32m    137\u001b[0m             \u001b[0;31m# The thought is if someone is providing their own job IDs and they get\u001b[0m\u001b[0;34m\u001b[0m\u001b[0;34m\u001b[0m\u001b[0m\n",
            "\u001b[0;32m/usr/local/lib/python3.10/dist-packages/google/cloud/bigquery/job/query.py\u001b[0m in \u001b[0;36m_begin\u001b[0;34m(self, client, retry, timeout)\u001b[0m\n\u001b[1;32m   1372\u001b[0m \u001b[0;34m\u001b[0m\u001b[0m\n\u001b[1;32m   1373\u001b[0m         \u001b[0;32mtry\u001b[0m\u001b[0;34m:\u001b[0m\u001b[0;34m\u001b[0m\u001b[0;34m\u001b[0m\u001b[0m\n\u001b[0;32m-> 1374\u001b[0;31m             \u001b[0msuper\u001b[0m\u001b[0;34m(\u001b[0m\u001b[0mQueryJob\u001b[0m\u001b[0;34m,\u001b[0m \u001b[0mself\u001b[0m\u001b[0;34m)\u001b[0m\u001b[0;34m.\u001b[0m\u001b[0m_begin\u001b[0m\u001b[0;34m(\u001b[0m\u001b[0mclient\u001b[0m\u001b[0;34m=\u001b[0m\u001b[0mclient\u001b[0m\u001b[0;34m,\u001b[0m \u001b[0mretry\u001b[0m\u001b[0;34m=\u001b[0m\u001b[0mretry\u001b[0m\u001b[0;34m,\u001b[0m \u001b[0mtimeout\u001b[0m\u001b[0;34m=\u001b[0m\u001b[0mtimeout\u001b[0m\u001b[0;34m)\u001b[0m\u001b[0;34m\u001b[0m\u001b[0;34m\u001b[0m\u001b[0m\n\u001b[0m\u001b[1;32m   1375\u001b[0m         \u001b[0;32mexcept\u001b[0m \u001b[0mexceptions\u001b[0m\u001b[0;34m.\u001b[0m\u001b[0mGoogleAPICallError\u001b[0m \u001b[0;32mas\u001b[0m \u001b[0mexc\u001b[0m\u001b[0;34m:\u001b[0m\u001b[0;34m\u001b[0m\u001b[0;34m\u001b[0m\u001b[0m\n\u001b[1;32m   1376\u001b[0m             exc.message = _EXCEPTION_FOOTER_TEMPLATE.format(\n",
            "\u001b[0;32m/usr/local/lib/python3.10/dist-packages/google/cloud/bigquery/job/base.py\u001b[0m in \u001b[0;36m_begin\u001b[0;34m(self, client, retry, timeout)\u001b[0m\n\u001b[1;32m    738\u001b[0m         \u001b[0;31m# job has an ID.\u001b[0m\u001b[0;34m\u001b[0m\u001b[0;34m\u001b[0m\u001b[0m\n\u001b[1;32m    739\u001b[0m         \u001b[0mspan_attributes\u001b[0m \u001b[0;34m=\u001b[0m \u001b[0;34m{\u001b[0m\u001b[0;34m\"path\"\u001b[0m\u001b[0;34m:\u001b[0m \u001b[0mpath\u001b[0m\u001b[0;34m}\u001b[0m\u001b[0;34m\u001b[0m\u001b[0;34m\u001b[0m\u001b[0m\n\u001b[0;32m--> 740\u001b[0;31m         api_response = client._call_api(\n\u001b[0m\u001b[1;32m    741\u001b[0m             \u001b[0mretry\u001b[0m\u001b[0;34m,\u001b[0m\u001b[0;34m\u001b[0m\u001b[0;34m\u001b[0m\u001b[0m\n\u001b[1;32m    742\u001b[0m             \u001b[0mspan_name\u001b[0m\u001b[0;34m=\u001b[0m\u001b[0;34m\"BigQuery.job.begin\"\u001b[0m\u001b[0;34m,\u001b[0m\u001b[0;34m\u001b[0m\u001b[0;34m\u001b[0m\u001b[0m\n",
            "\u001b[0;32m/usr/local/lib/python3.10/dist-packages/google/cloud/bigquery/client.py\u001b[0m in \u001b[0;36m_call_api\u001b[0;34m(self, retry, span_name, span_attributes, job_ref, headers, **kwargs)\u001b[0m\n\u001b[1;32m    829\u001b[0m                 \u001b[0mname\u001b[0m\u001b[0;34m=\u001b[0m\u001b[0mspan_name\u001b[0m\u001b[0;34m,\u001b[0m \u001b[0mattributes\u001b[0m\u001b[0;34m=\u001b[0m\u001b[0mspan_attributes\u001b[0m\u001b[0;34m,\u001b[0m \u001b[0mclient\u001b[0m\u001b[0;34m=\u001b[0m\u001b[0mself\u001b[0m\u001b[0;34m,\u001b[0m \u001b[0mjob_ref\u001b[0m\u001b[0;34m=\u001b[0m\u001b[0mjob_ref\u001b[0m\u001b[0;34m\u001b[0m\u001b[0;34m\u001b[0m\u001b[0m\n\u001b[1;32m    830\u001b[0m             ):\n\u001b[0;32m--> 831\u001b[0;31m                 \u001b[0;32mreturn\u001b[0m \u001b[0mcall\u001b[0m\u001b[0;34m(\u001b[0m\u001b[0;34m)\u001b[0m\u001b[0;34m\u001b[0m\u001b[0;34m\u001b[0m\u001b[0m\n\u001b[0m\u001b[1;32m    832\u001b[0m \u001b[0;34m\u001b[0m\u001b[0m\n\u001b[1;32m    833\u001b[0m         \u001b[0;32mreturn\u001b[0m \u001b[0mcall\u001b[0m\u001b[0;34m(\u001b[0m\u001b[0;34m)\u001b[0m\u001b[0;34m\u001b[0m\u001b[0;34m\u001b[0m\u001b[0m\n",
            "\u001b[0;32m/usr/local/lib/python3.10/dist-packages/google/api_core/retry.py\u001b[0m in \u001b[0;36mretry_wrapped_func\u001b[0;34m(*args, **kwargs)\u001b[0m\n\u001b[1;32m    347\u001b[0m                 \u001b[0mself\u001b[0m\u001b[0;34m.\u001b[0m\u001b[0m_initial\u001b[0m\u001b[0;34m,\u001b[0m \u001b[0mself\u001b[0m\u001b[0;34m.\u001b[0m\u001b[0m_maximum\u001b[0m\u001b[0;34m,\u001b[0m \u001b[0mmultiplier\u001b[0m\u001b[0;34m=\u001b[0m\u001b[0mself\u001b[0m\u001b[0;34m.\u001b[0m\u001b[0m_multiplier\u001b[0m\u001b[0;34m\u001b[0m\u001b[0;34m\u001b[0m\u001b[0m\n\u001b[1;32m    348\u001b[0m             )\n\u001b[0;32m--> 349\u001b[0;31m             return retry_target(\n\u001b[0m\u001b[1;32m    350\u001b[0m                 \u001b[0mtarget\u001b[0m\u001b[0;34m,\u001b[0m\u001b[0;34m\u001b[0m\u001b[0;34m\u001b[0m\u001b[0m\n\u001b[1;32m    351\u001b[0m                 \u001b[0mself\u001b[0m\u001b[0;34m.\u001b[0m\u001b[0m_predicate\u001b[0m\u001b[0;34m,\u001b[0m\u001b[0;34m\u001b[0m\u001b[0;34m\u001b[0m\u001b[0m\n",
            "\u001b[0;32m/usr/local/lib/python3.10/dist-packages/google/api_core/retry.py\u001b[0m in \u001b[0;36mretry_target\u001b[0;34m(target, predicate, sleep_generator, timeout, on_error, **kwargs)\u001b[0m\n\u001b[1;32m    189\u001b[0m     \u001b[0;32mfor\u001b[0m \u001b[0msleep\u001b[0m \u001b[0;32min\u001b[0m \u001b[0msleep_generator\u001b[0m\u001b[0;34m:\u001b[0m\u001b[0;34m\u001b[0m\u001b[0;34m\u001b[0m\u001b[0m\n\u001b[1;32m    190\u001b[0m         \u001b[0;32mtry\u001b[0m\u001b[0;34m:\u001b[0m\u001b[0;34m\u001b[0m\u001b[0;34m\u001b[0m\u001b[0m\n\u001b[0;32m--> 191\u001b[0;31m             \u001b[0;32mreturn\u001b[0m \u001b[0mtarget\u001b[0m\u001b[0;34m(\u001b[0m\u001b[0;34m)\u001b[0m\u001b[0;34m\u001b[0m\u001b[0;34m\u001b[0m\u001b[0m\n\u001b[0m\u001b[1;32m    192\u001b[0m \u001b[0;34m\u001b[0m\u001b[0m\n\u001b[1;32m    193\u001b[0m         \u001b[0;31m# pylint: disable=broad-except\u001b[0m\u001b[0;34m\u001b[0m\u001b[0;34m\u001b[0m\u001b[0m\n",
            "\u001b[0;32m/usr/local/lib/python3.10/dist-packages/google/cloud/_http/__init__.py\u001b[0m in \u001b[0;36mapi_request\u001b[0;34m(self, method, path, query_params, data, content_type, headers, api_base_url, api_version, expect_json, _target_object, timeout, extra_api_info)\u001b[0m\n\u001b[1;32m    492\u001b[0m \u001b[0;34m\u001b[0m\u001b[0m\n\u001b[1;32m    493\u001b[0m         \u001b[0;32mif\u001b[0m \u001b[0;32mnot\u001b[0m \u001b[0;36m200\u001b[0m \u001b[0;34m<=\u001b[0m \u001b[0mresponse\u001b[0m\u001b[0;34m.\u001b[0m\u001b[0mstatus_code\u001b[0m \u001b[0;34m<\u001b[0m \u001b[0;36m300\u001b[0m\u001b[0;34m:\u001b[0m\u001b[0;34m\u001b[0m\u001b[0;34m\u001b[0m\u001b[0m\n\u001b[0;32m--> 494\u001b[0;31m             \u001b[0;32mraise\u001b[0m \u001b[0mexceptions\u001b[0m\u001b[0;34m.\u001b[0m\u001b[0mfrom_http_response\u001b[0m\u001b[0;34m(\u001b[0m\u001b[0mresponse\u001b[0m\u001b[0;34m)\u001b[0m\u001b[0;34m\u001b[0m\u001b[0;34m\u001b[0m\u001b[0m\n\u001b[0m\u001b[1;32m    495\u001b[0m \u001b[0;34m\u001b[0m\u001b[0m\n\u001b[1;32m    496\u001b[0m         \u001b[0;32mif\u001b[0m \u001b[0mexpect_json\u001b[0m \u001b[0;32mand\u001b[0m \u001b[0mresponse\u001b[0m\u001b[0;34m.\u001b[0m\u001b[0mcontent\u001b[0m\u001b[0;34m:\u001b[0m\u001b[0;34m\u001b[0m\u001b[0;34m\u001b[0m\u001b[0m\n",
            "\u001b[0;31mNotFound\u001b[0m: 404 POST https://bigquery.googleapis.com/bigquery/v2/projects//jobs?prettyPrint=false: Request couldn't be served.\n\nLocation: None\nJob ID: 45407d9a-8fce-48a3-8925-b764285b9980\n"
          ]
        }
      ]
    },
    {
      "cell_type": "code",
      "source": [
        "import pandas as pd\n",
        "\n",
        "# https://cloud.google.com/resource-manager/docs/creating-managing-projects\n",
        "project_id = 'handy-buttress-422914-t8'\n",
        "sample_count = 2000\n",
        "\n",
        "row_count = pd.io.gbq.read_gbq('''\n",
        "  SELECT\n",
        "    COUNT(*) as total\n",
        "  FROM `bigquery-public-data.chicago_taxi_trips.taxi_trips`\n",
        "''', project_id=project_id).total[0]\n",
        "\n",
        "df = pd.io.gbq.read_gbq(f'''\n",
        "  SELECT\n",
        "    *\n",
        "  FROM\n",
        "    `bigquery-public-data.samples.gsod`\n",
        "  WHERE RAND() < {sample_count}/{row_count}\n",
        "''', project_id=project_id)\n",
        "\n",
        "print(f'Full dataset has {row_count} rows')"
      ],
      "metadata": {
        "id": "G0ii8yTUGfOX",
        "outputId": "9a3dab19-7636-4a67-ab45-1f0f1ba321f9",
        "colab": {
          "base_uri": "https://localhost:8080/"
        }
      },
      "execution_count": 58,
      "outputs": [
        {
          "output_type": "stream",
          "name": "stdout",
          "text": [
            "Full dataset has 102589284 rows\n"
          ]
        }
      ]
    },
    {
      "cell_type": "markdown",
      "metadata": {
        "id": "jVdU_VDxNO8L"
      },
      "source": [
        "<html>\n",
        "<body>\n",
        "    <div style=\"display: flex;\">\n",
        "            <a href=\"https://medium.com/@jgrygolec\" style=\"width: 45em; height: 15em; background-color: white; padding-left: 1em; display: flex; flex-direction: column; justify-content: center; color: inherit; text-decoration: none;\">\n",
        "            <p style=\"margin: 0; font-size: 1.5em; color: #3D4849;\">Thank you for attention!</p>\n",
        "            <p style=\"margin: 0; font-size: 1.5em; color: #3D4849; font-weight: bold;\">Click to see more of my articles on Medium.</p>\n",
        "            <p style=\"margin: 0; font-size: 1.5em; color: #3D4849;\">BR,</p>\n",
        "            <p style=\"margin: 0; font-size: 1.5em; color: #3D4849;\">Jarek Grygolec</p>\n",
        "        </a>\n",
        "        <a href=\"https://medium.com/@jgrygolec\" style=\"width: 30em; height: 15em; background-repeat: no-repeat; background-size: cover; background-position: center;\">\n",
        "                    <img src=\"https://miro.medium.com/v2/resize:fit:3992/0*WCQwsoZC0FA2-haq\" style=\"width: 100%; height: 100%; object-fit: cover;\"></a>\n",
        "    </div>\n",
        "</body>\n",
        "</html>"
      ]
    }
  ],
  "metadata": {
    "colab": {
      "provenance": []
    },
    "kernelspec": {
      "display_name": "rtb",
      "language": "python",
      "name": "python3"
    },
    "language_info": {
      "codemirror_mode": {
        "name": "ipython",
        "version": 3
      },
      "file_extension": ".py",
      "mimetype": "text/x-python",
      "name": "python",
      "nbconvert_exporter": "python",
      "pygments_lexer": "ipython3",
      "version": "3.11.4"
    }
  },
  "nbformat": 4,
  "nbformat_minor": 0
}