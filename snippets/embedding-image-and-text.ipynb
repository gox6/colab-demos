{
 "cells": [
  {
   "cell_type": "markdown",
   "metadata": {},
   "source": [
    "<a target=\"_blank\" href=\"https://colab.research.google.com/github/gox6/colab-demos/blob/main/use-cases/getting-youtube-transcripts\n",
    ".ipynb\">\n",
    "  <img src=\"https://colab.research.google.com/assets/colab-badge.svg\" alt=\"Open In Colab\"/>\n",
    "</a>"
   ]
  },
  {
   "cell_type": "markdown",
   "metadata": {},
   "source": [
    "<!DOCTYPE html>\n",
    "<html>\n",
    "<body>\n",
    "    <div style=\"display: flex;\">\n",
    "        <a href=\"https://www.example1.com\" style=\"width: 120px; height: 200px; background-image: url('https://images.unsplash.com/photo-1584645304588-e1c8b63d7e3d?q=80&w=1287&auto=format&fit=crop&ixlib=rb-4.0.3&ixid=M3wxMjA3fDB8MHxwaG90by1wYWdlfHx8fGVufDB8fHx8fA%3D%3D'); background-repeat: no-repeat; background-size: cover;\"></a>\n",
    "        <a href=\"https://www.example2.com\" style=\"width: 480px; height: 200px; background-color: white; padding-left: 20px; display: flex; flex-direction: column; justify-content: center; color: inherit; text-decoration: none;\">\n",
    "            <p style=\"margin: 0; font-weight: bold; font-size: 1.5em;\">First line</p>\n",
    "            <p style=\"margin: 0;\">Second line</p>\n",
    "        </a>\n",
    "    </div>\n",
    "</body>\n",
    "</html>"
   ]
  },
  {
   "cell_type": "markdown",
   "metadata": {},
   "source": [
    "<!DOCTYPE html>\n",
    "<html>\n",
    "<body>\n",
    "    <div style=\"display: flex;\">\n",
    "        <a href=\"https://www.example1.com\" style=\"width: 10em; height: 15em; background-image: url('https://images.unsplash.com/photo-1584645304588-e1c8b63d7e3d?q=80&w=1287&auto=format&fit=crop&ixlib=rb-4.0.3&ixid=M3wxMjA3fDB8MHxwaG90by1wYWdlfHx8fGVufDB8fHx8fA%3D%3D'); background-repeat: no-repeat; background-size: cover; background-position: center;\"></a>\n",
    "        <a href=\"https://www.example2.com\" style=\"width: 50em; height: 15em; background-color: white; padding-left: 1em; display: flex; flex-direction: column; justify-content: center; color: inherit; text-decoration: none;\">\n",
    "            <p style=\"margin: 0; font-size: 1em; color: green;; font-weight: bold;\">The notebook contains the code for Medium article</p><br>\n",
    "            <p style=\"margin: 0; font-weight: bold; font-size: 1.5em;\">Evaluate RAGs Rigorously or Perish</p>\n",
    "            <p style=\"margin: 0; font-size: 1em;\">A simple framework to evaluate the quality of your RAGs</p>\n",
    "        </a>\n",
    "    </div>\n",
    "</body>\n",
    "</html>"
   ]
  },
  {
   "cell_type": "markdown",
   "metadata": {},
   "source": [
    "<!DOCTYPE html>\n",
    "<html>\n",
    "<body>\n",
    "    <a href=\"https://medium.com/towards-data-science/evaluate-rags-rigorously-or-perish-54f790557357\" style=\"display: flex; width: 100%; height: 200px; color: inherit; text-decoration: none;\">\n",
    "        <div style=\"width: 600px; height: 200px; background-image: url('https://miro.medium.com/v2/resize:fit:720/format:webp/1*IwfvT_JVXD2YnEw95DdWlw.png'); background-repeat: no-repeat; background-size: cover; background-color: white;\"></div>\n",
    "        <div style=\"padding-left: 20px; display: flex; flex-direction: column; justify-content: center;\">\n",
    "            <p style=\"margin: 0; font-size: 1.5em; color: green;; font-weight: bold;\">The notebook contains the code for Medium article</p><br>\n",
    "            <p style=\"margin: 0; font-weight: bold; font-size: 1.5em;\">Evaluate RAGs Rigorously or Perish</p>\n",
    "            <p style=\"margin: 0; font-size: 1em;\">A simple framework to evaluate the quality of your RAGs</p>\n",
    "        </div>\n",
    "    </a>\n",
    "</body>\n",
    "</html>"
   ]
  },
  {
   "cell_type": "markdown",
   "metadata": {},
   "source": [
    "<!DOCTYPE html>\n",
    "<html>\n",
    "<body>\n",
    "    <div style=\"display: flex;\">\n",
    "        <a href=\"https://www.example1.com\" style=\"width: 30em; height: 15em; background-image: url('https://miro.medium.com/v2/resize:fit:720/format:webp/1*IwfvT_JVXD2YnEw95DdWlw.png'); background-repeat: no-repeat; background-size: cover; background-position: center;\"></a>\n",
    "        <a href=\"https://www.example2.com\" style=\"width: 70em; height: 15em; background-color: white; padding-left: 1em; display: flex; flex-direction: column; justify-content: center; color: inherit; text-decoration: none;\">\n",
    "            <p style=\"margin: 0; font-size: 1.5em; color: darkblue;; font-weight: bold;\">The notebook contains the code for Medium article</p><br>\n",
    "            <p style=\"margin: 0; font-weight: bold; font-size: 1.5em; color: #3D4849;\">Evaluate RAGs Rigorously or Perish</p>\n",
    "            <p style=\"margin: 0; font-size: 1em; color: #3D4849;\">A simple framework to evaluate the quality of your RAGs</p>\n",
    "        </a>\n",
    "    </div>\n",
    "</body>\n",
    "</html>"
   ]
  }
 ],
 "metadata": {
  "kernelspec": {
   "display_name": "Python 3",
   "language": "python",
   "name": "python3"
  },
  "language_info": {
   "name": "python",
   "version": "3.9.6"
  }
 },
 "nbformat": 4,
 "nbformat_minor": 2
}
