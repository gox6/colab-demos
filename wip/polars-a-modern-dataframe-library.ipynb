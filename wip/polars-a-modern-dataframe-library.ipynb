{
  "cells": [
    {
      "cell_type": "markdown",
      "metadata": {
        "id": "OE9ltTAn3Bft"
      },
      "source": [
        "<a target=\"_blank\" href=\"https://colab.research.google.com/github/gox6/colab-demos/blob/main/wip/polars-a-modern-dataframe-library.ipynb\">\n",
        "  <img src=\"https://colab.research.google.com/assets/colab-badge.svg\" alt=\"Open In Colab\"/>\n",
        "</a>"
      ]
    },
    {
      "cell_type": "markdown",
      "metadata": {
        "id": "Th4snAyoMQt9"
      },
      "source": [
        "<html>\n",
        "<body>\n",
        "    <div style=\"display: flex;\">\n",
        "        <a href=\"https://towardsdatascience.com/evaluate-rags-rigorously-or-perish-54f790557357\" style=\"width: 45em; height: 15em; background-color: white; padding-left: 1em; display: flex; flex-direction: column; justify-content: center; color: inherit; text-decoration: none;\">\n",
        "            <p style=\"margin: 0; font-size: 1.5em; color: darkblue; font-weight: bold;\">The notebook contains the code for Medium article</p>\n",
        "            <p style=\"margin: 0; font-weight: bold; font-size: 1.5em; color: #3D4849;\">Invent the title</p>\n",
        "        </a>\n",
        "        <a href=\"https://towardsdatascience.com/evaluate-rags-rigorously-or-perish-54f790557357\" style=\"width: 30em; height: 15em;\">\n",
        "            <img src=\"https://images.unsplash.com/photo-1522991150037-09a660b94ba4?q=80&w=1470&auto=format&fit=crop&ixlib=rb-4.0.3&ixid=M3wxMjA3fDB8MHxwaG90by1wYWdlfHx8fGVufDB8fHx8fA%3D%3D\" style=\"width: 100%; height: 100%; object-fit: cover;\">\n",
        "        </a>\n",
        "    </div>\n",
        "</body>\n",
        "</html>"
      ]
    },
    {
      "cell_type": "markdown",
      "metadata": {
        "id": "vmF0y8zEshFD"
      },
      "source": [
        "# Project Setup"
      ]
    },
    {
      "cell_type": "code",
      "execution_count": 3,
      "metadata": {
        "id": "XabXrMzWo9kF"
      },
      "outputs": [],
      "source": [
        "# Installing Python packages quietly\n",
        "\n",
        "!pip install --quiet \\\n",
        "  httpx \\\n",
        "  pandas \\\n",
        "  polars \\\n",
        "  pyarrow \\\n",
        "  1> /dev/null"
      ]
    },
    {
      "cell_type": "code",
      "execution_count": 34,
      "metadata": {
        "id": "u3-Muf2go9kG"
      },
      "outputs": [],
      "source": [
        "# Importing the packages\n",
        "from getpass import getpass\n",
        "from io import BytesIO\n",
        "import os\n",
        "from zipfile import ZipFile\n",
        "\n",
        "\n",
        "import httpx\n",
        "import pandas as pd\n",
        "import polars as pl"
      ]
    },
    {
      "cell_type": "code",
      "execution_count": 5,
      "metadata": {
        "colab": {
          "base_uri": "https://localhost:8080/"
        },
        "id": "4Gaqge6KmLea",
        "outputId": "ce3b264e-845d-4283-f543-a215e690375e"
      },
      "outputs": [
        {
          "output_type": "stream",
          "name": "stdout",
          "text": [
            "Colab runtime\n"
          ]
        }
      ],
      "source": [
        "# Managing secrets\n",
        "# - If using Colab please use Colab Secrets\n",
        "# - If running outside Colab please provide secrets as environmental variables\n",
        "COLAB = os.getenv(\"COLAB_RELEASE_TAG\") is not None\n",
        "\n",
        "if COLAB:\n",
        "    from google.colab import userdata, data_table\n",
        "    runtime_info = \"Colab runtime\"\n",
        "\n",
        "    # Enabling Colab's data formatter for pandas\n",
        "    data_table.enable_dataframe_formatter()\n",
        "else:\n",
        "    runtime_info = \"Non Colab runtime\"\n",
        "\n",
        "print(runtime_info)"
      ]
    },
    {
      "cell_type": "code",
      "source": [
        "# Download a zip file into the buffer\n",
        "url = \"https://archive.ics.uci.edu/static/public/791/metropt+3+dataset.zip\"\n",
        "with httpx.Client() as client:\n",
        "    response = client.get(url)\n",
        "    buffer = BytesIO(response.content)\n",
        "\n",
        "# Unzip into the current directory\n",
        "with ZipFile(buffer) as zip_ref:\n",
        "    # Extract all files to the current directory\n",
        "    zip_ref.extractall('.')\n"
      ],
      "metadata": {
        "id": "mNzKH9_NrrTb"
      },
      "execution_count": 27,
      "outputs": []
    },
    {
      "cell_type": "code",
      "source": [
        "%%timeit -r 2-\n",
        "df_pl = pl.read_csv('MetroPT3(AirCompressor).csv')\n"
      ],
      "metadata": {
        "id": "5RzXX5bet9Fm",
        "outputId": "0b043b4c-925f-4907-8fdd-ead69aafddb7",
        "colab": {
          "base_uri": "https://localhost:8080/"
        }
      },
      "execution_count": 38,
      "outputs": [
        {
          "output_type": "stream",
          "name": "stdout",
          "text": [
            "1.23 s ± 73.3 ms per loop (mean ± std. dev. of 7 runs, 1 loop each)\n"
          ]
        }
      ]
    },
    {
      "cell_type": "code",
      "source": [
        "%%timeit -r 20\n",
        "df_pd = pd.read_csv('MetroPT3(AirCompressor).csv')"
      ],
      "metadata": {
        "id": "lDu-E5Poy9Bq",
        "outputId": "2850cadb-1727-4765-bd89-c8fad6ff612a",
        "colab": {
          "base_uri": "https://localhost:8080/"
        }
      },
      "execution_count": 57,
      "outputs": [
        {
          "output_type": "stream",
          "name": "stdout",
          "text": [
            "4.56 s ± 695 ms per loop (mean ± std. dev. of 7 runs, 1 loop each)\n"
          ]
        }
      ]
    },
    {
      "cell_type": "code",
      "source": [
        "%%timeit -r 20\n",
        "df_pl.describe()"
      ],
      "metadata": {
        "id": "wiK5nIZE0f_2",
        "outputId": "140f9af7-457a-4866-8e54-c5d8fc9a6a73",
        "colab": {
          "base_uri": "https://localhost:8080/"
        }
      },
      "execution_count": 61,
      "outputs": [
        {
          "output_type": "stream",
          "name": "stdout",
          "text": [
            "893 ms ± 232 ms per loop (mean ± std. dev. of 20 runs, 1 loop each)\n"
          ]
        }
      ]
    },
    {
      "cell_type": "code",
      "source": [
        "%%timeit  -r 20\n",
        "df_pd.describe()"
      ],
      "metadata": {
        "id": "JRwgo1e71RLh",
        "outputId": "7724f96c-b99f-4591-928d-1367ef35ed8e",
        "colab": {
          "base_uri": "https://localhost:8080/"
        }
      },
      "execution_count": 62,
      "outputs": [
        {
          "output_type": "stream",
          "name": "stdout",
          "text": [
            "931 ms ± 118 ms per loop (mean ± std. dev. of 20 runs, 1 loop each)\n"
          ]
        }
      ]
    },
    {
      "cell_type": "code",
      "source": [
        "%%time\n",
        "df_pd.mean()"
      ],
      "metadata": {
        "id": "XZ8sAGnUAR3v"
      },
      "execution_count": null,
      "outputs": []
    },
    {
      "cell_type": "code",
      "execution_count": null,
      "metadata": {
        "id": "wNHP5BEfeRsC"
      },
      "outputs": [],
      "source": [
        "# Seeing news data\n",
        "# if COLAB:\n",
        "#   display(data_table.DataTable(news_pd, include_index=False, num_rows_per_page=5))\n",
        "# else:\n",
        "#   display(news_pd.head(5))"
      ]
    },
    {
      "cell_type": "markdown",
      "metadata": {
        "id": "jVdU_VDxNO8L"
      },
      "source": [
        "<html>\n",
        "<body>\n",
        "    <div style=\"display: flex;\">\n",
        "            <a href=\"https://medium.com/@jgrygolec\" style=\"width: 45em; height: 15em; background-color: white; padding-left: 1em; display: flex; flex-direction: column; justify-content: center; color: inherit; text-decoration: none;\">\n",
        "            <p style=\"margin: 0; font-size: 1.5em; color: #3D4849;\">Thank you for attention!</p>\n",
        "            <p style=\"margin: 0; font-size: 1.5em; color: #3D4849; font-weight: bold;\">Click to see more of my articles on Medium.</p>\n",
        "            <p style=\"margin: 0; font-size: 1.5em; color: #3D4849;\">BR,</p>\n",
        "            <p style=\"margin: 0; font-size: 1.5em; color: #3D4849;\">Jarek Grygolec</p>\n",
        "        </a>\n",
        "        <a href=\"https://medium.com/@jgrygolec\" style=\"width: 30em; height: 15em; background-repeat: no-repeat; background-size: cover; background-position: center;\">\n",
        "                    <img src=\"https://miro.medium.com/v2/resize:fit:3992/0*WCQwsoZC0FA2-haq\" style=\"width: 100%; height: 100%; object-fit: cover;\"></a>\n",
        "    </div>\n",
        "</body>\n",
        "</html>"
      ]
    }
  ],
  "metadata": {
    "colab": {
      "provenance": []
    },
    "kernelspec": {
      "display_name": "rtb",
      "language": "python",
      "name": "python3"
    },
    "language_info": {
      "codemirror_mode": {
        "name": "ipython",
        "version": 3
      },
      "file_extension": ".py",
      "mimetype": "text/x-python",
      "name": "python",
      "nbconvert_exporter": "python",
      "pygments_lexer": "ipython3",
      "version": "3.9.6"
    }
  },
  "nbformat": 4,
  "nbformat_minor": 0
}