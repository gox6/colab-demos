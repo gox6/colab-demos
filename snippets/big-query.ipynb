{
  "cells": [
    {
      "cell_type": "markdown",
      "metadata": {
        "id": "OE9ltTAn3Bft"
      },
      "source": [
        "<a target=\"_blank\" href=\"https://colab.research.google.com/github/gox6/colab-demos/blob/main/wip/polars-a-modern-dataframe-library.ipynb\">\n",
        "  <img src=\"https://colab.research.google.com/assets/colab-badge.svg\" alt=\"Open In Colab\"/>\n",
        "</a>"
      ]
    },
    {
      "cell_type": "markdown",
      "metadata": {
        "id": "Th4snAyoMQt9"
      },
      "source": [
        "<html>\n",
        "<body>\n",
        "    <div style=\"display: flex;\">\n",
        "        <a href=\"https://towardsdatascience.com/evaluate-rags-rigorously-or-perish-54f790557357\" style=\"width: 45em; height: 15em; background-color: white; padding-left: 1em; display: flex; flex-direction: column; justify-content: center; color: inherit; text-decoration: none;\">\n",
        "            <p style=\"margin: 0; font-size: 1.5em; color: darkblue; font-weight: bold;\">The notebook contains the code for Medium article</p>\n",
        "            <p style=\"margin: 0; font-weight: bold; font-size: 1.5em; color: #3D4849;\">Invent the title</p>\n",
        "        </a>\n",
        "        <a href=\"https://towardsdatascience.com/evaluate-rags-rigorously-or-perish-54f790557357\" style=\"width: 30em; height: 15em;\">\n",
        "            <img src=\"https://images.unsplash.com/photo-1522991150037-09a660b94ba4?q=80&w=1470&auto=format&fit=crop&ixlib=rb-4.0.3&ixid=M3wxMjA3fDB8MHxwaG90by1wYWdlfHx8fGVufDB8fHx8fA%3D%3D\" style=\"width: 100%; height: 100%; object-fit: cover;\">\n",
        "        </a>\n",
        "    </div>\n",
        "</body>\n",
        "</html>"
      ]
    },
    {
      "cell_type": "markdown",
      "metadata": {
        "id": "vmF0y8zEshFD"
      },
      "source": [
        "# Project Setup"
      ]
    },
    {
      "cell_type": "code",
      "execution_count": 2,
      "metadata": {
        "id": "64_rrQSOqu1J"
      },
      "outputs": [],
      "source": [
        "# Installing Python packages quietly\n",
        "\n",
        "!pip install --quiet \\\n",
        "  polars \\\n",
        "  1> /dev/null"
      ]
    },
    {
      "cell_type": "code",
      "execution_count": 3,
      "metadata": {
        "id": "s--h0YVrqu1K"
      },
      "outputs": [],
      "source": [
        "# Importing the packages\n",
        "from getpass import getpass\n",
        "import os\n",
        "\n",
        "import polars as pl"
      ]
    },
    {
      "cell_type": "code",
      "execution_count": 4,
      "metadata": {
        "colab": {
          "base_uri": "https://localhost:8080/"
        },
        "id": "4Gaqge6KmLea",
        "outputId": "aa4f81bd-e9b2-42aa-a543-622deb36a7de"
      },
      "outputs": [
        {
          "output_type": "stream",
          "name": "stdout",
          "text": [
            "Colab runtime\n"
          ]
        }
      ],
      "source": [
        "# Managing secrets\n",
        "# - If using Colab please use Colab Secrets\n",
        "# - If running outside Colab please provide secrets as environmental variables\n",
        "COLAB = os.getenv(\"COLAB_RELEASE_TAG\") is not None\n",
        "\n",
        "if COLAB:\n",
        "    from google.colab import userdata, data_table\n",
        "\n",
        "    # Secrets\n",
        "    OPENAI_API_KEY = userdata.get(\"OPENAI_API_KEY\")\n",
        "    os.environ[\"OPENAI_API_KEY\"] = OPENAI_API_KEY\n",
        "    runtime_info = \"Colab runtime\"\n",
        "\n",
        "    # Enabling Colab's data formatter for pandas\n",
        "    data_table.enable_dataframe_formatter()\n",
        "elif OPENAI_API_KEY := os.environ.get(\"OPENAI_API_KEY\"):\n",
        "    # Secrets\n",
        "    runtime_info = \"Non Colab runtime\"\n",
        "else:\n",
        "    OPENAI_API_KEY = getpass(\"OPENAI_API_KEY\")\n",
        "    os.environ[\"OPENAI_API_KEY\"] = OPENAI_API_KEY\n",
        "    runtime_info = \"Non Colab runtime\"\n",
        "\n",
        "print(runtime_info)"
      ]
    },
    {
      "cell_type": "code",
      "source": [
        "# You need free tier GCP account\n",
        "from google.colab import auth\n",
        "auth.authenticate_user()"
      ],
      "metadata": {
        "id": "hdsEvhm91522"
      },
      "execution_count": 5,
      "outputs": []
    },
    {
      "cell_type": "code",
      "execution_count": 6,
      "metadata": {
        "colab": {
          "base_uri": "https://localhost:8080/"
        },
        "id": "wNHP5BEfeRsC",
        "outputId": "ae83b7ca-ae2f-4b65-f0de-9d154907f1f7"
      },
      "outputs": [
        {
          "output_type": "stream",
          "name": "stdout",
          "text": [
            "CPU times: user 25 s, sys: 12.4 s, total: 37.4 s\n",
            "Wall time: 46.9 s\n"
          ]
        }
      ],
      "source": [
        "# Perform a query.\n",
        "%%time\n",
        "from google.cloud import bigquery\n",
        "\n",
        "client = bigquery.Client(project='handy-buttress-422914-t8')\n",
        "QUERY = (\n",
        "    \"\"\"SELECT * FROM `bigquery-public-data.chicago_taxi_trips.taxi_trips`\n",
        "    LIMIT 10000000\"\"\"\n",
        "    )\n",
        "query_job = client.query(QUERY)  # API request\n",
        "rows = query_job.result()  # Waits for query to finish\n",
        "\n",
        "df_pl = pl.from_arrow(rows.to_arrow())"
      ]
    },
    {
      "cell_type": "code",
      "source": [
        "df_pl.describe()"
      ],
      "metadata": {
        "id": "0AmlVb5qIGX8",
        "outputId": "facea0b9-5403-40bd-d3ce-a11087454628",
        "colab": {
          "base_uri": "https://localhost:8080/",
          "height": 452
        }
      },
      "execution_count": 7,
      "outputs": [
        {
          "output_type": "execute_result",
          "data": {
            "text/plain": [
              "shape: (9, 24)\n",
              "┌───────────┬───────────┬───────────┬───────────┬───┬───────────┬───────────┬───────────┬──────────┐\n",
              "│ describe  ┆ unique_ke ┆ taxi_id   ┆ trip_star ┆ … ┆ pickup_lo ┆ dropoff_l ┆ dropoff_l ┆ dropoff_ │\n",
              "│ ---       ┆ y         ┆ ---       ┆ t_timesta ┆   ┆ cation    ┆ atitude   ┆ ongitude  ┆ location │\n",
              "│ str       ┆ ---       ┆ str       ┆ mp        ┆   ┆ ---       ┆ ---       ┆ ---       ┆ ---      │\n",
              "│           ┆ str       ┆           ┆ ---       ┆   ┆ str       ┆ f64       ┆ f64       ┆ str      │\n",
              "│           ┆           ┆           ┆ str       ┆   ┆           ┆           ┆           ┆          │\n",
              "╞═══════════╪═══════════╪═══════════╪═══════════╪═══╪═══════════╪═══════════╪═══════════╪══════════╡\n",
              "│ count     ┆ 10000000  ┆ 10000000  ┆ 10000000  ┆ … ┆ 8400944   ┆ 8.343984e ┆ 8.343984e ┆ 8343984  │\n",
              "│           ┆           ┆           ┆           ┆   ┆           ┆ 6         ┆ 6         ┆          │\n",
              "│ null_coun ┆ 0         ┆ 0         ┆ 0         ┆ … ┆ 1599056   ┆ 1.656016e ┆ 1.656016e ┆ 1656016  │\n",
              "│ t         ┆           ┆           ┆           ┆   ┆           ┆ 6         ┆ 6         ┆          │\n",
              "│ mean      ┆ null      ┆ null      ┆ null      ┆ … ┆ null      ┆ 41.901224 ┆ -87.65539 ┆ null     │\n",
              "│           ┆           ┆           ┆           ┆   ┆           ┆           ┆ 5         ┆          │\n",
              "│ std       ┆ null      ┆ null      ┆ null      ┆ … ┆ null      ┆ 0.038818  ┆ 0.061827  ┆ null     │\n",
              "│ min       ┆ 000000831 ┆ 0005e9157 ┆ 2013-01-0 ┆ … ┆ POINT (-8 ┆ 41.660136 ┆ -87.91362 ┆ POINT    │\n",
              "│           ┆ 23c5984fa ┆ e3cfe5294 ┆ 1 00:15:0 ┆   ┆ 7.5349029 ┆           ┆ 5         ┆ (-87.531 │\n",
              "│           ┆ 57717f28f ┆ 8317ab208 ┆ 0+00:00   ┆   ┆ 012 41.70 ┆           ┆           ┆ 3862567  │\n",
              "│           ┆ 6ead1…    ┆ 9170a…    ┆           ┆   ┆ 73114…    ┆           ┆           ┆ 41.72046 │\n",
              "│           ┆           ┆           ┆           ┆   ┆           ┆           ┆           ┆ 32…      │\n",
              "│ 25%       ┆ null      ┆ null      ┆ null      ┆ … ┆ null      ┆ 41.880994 ┆ -87.65599 ┆ null     │\n",
              "│           ┆           ┆           ┆           ┆   ┆           ┆           ┆ 8         ┆          │\n",
              "│ 50%       ┆ null      ┆ null      ┆ null      ┆ … ┆ null      ┆ 41.892508 ┆ -87.63274 ┆ null     │\n",
              "│           ┆           ┆           ┆           ┆   ┆           ┆           ┆ 6         ┆          │\n",
              "│ 75%       ┆ null      ┆ null      ┆ null      ┆ … ┆ null      ┆ 41.914747 ┆ -87.62621 ┆ null     │\n",
              "│           ┆           ┆           ┆           ┆   ┆           ┆           ┆ 1         ┆          │\n",
              "│ max       ┆ ffffff732 ┆ fff84aa08 ┆ 2023-12-3 ┆ … ┆ POINT (-8 ┆ 42.021224 ┆ -87.53138 ┆ POINT    │\n",
              "│           ┆ 0d385a77d ┆ ac78890c6 ┆ 0 23:00:0 ┆   ┆ 7.9136245 ┆           ┆ 6         ┆ (-87.913 │\n",
              "│           ┆ 8aded54d2 ┆ e7da64b81 ┆ 0+00:00   ┆   ┆ 96 41.980 ┆           ┆           ┆ 624596   │\n",
              "│           ┆ d7c64…    ┆ 7cbd9…    ┆           ┆   ┆ 26431…    ┆           ┆           ┆ 41.98026 │\n",
              "│           ┆           ┆           ┆           ┆   ┆           ┆           ┆           ┆ 431…     │\n",
              "└───────────┴───────────┴───────────┴───────────┴───┴───────────┴───────────┴───────────┴──────────┘"
            ],
            "text/html": [
              "<div><style>\n",
              ".dataframe > thead > tr,\n",
              ".dataframe > tbody > tr {\n",
              "  text-align: right;\n",
              "  white-space: pre-wrap;\n",
              "}\n",
              "</style>\n",
              "<small>shape: (9, 24)</small><table border=\"1\" class=\"dataframe\"><thead><tr><th>describe</th><th>unique_key</th><th>taxi_id</th><th>trip_start_timestamp</th><th>trip_end_timestamp</th><th>trip_seconds</th><th>trip_miles</th><th>pickup_census_tract</th><th>dropoff_census_tract</th><th>pickup_community_area</th><th>dropoff_community_area</th><th>fare</th><th>tips</th><th>tolls</th><th>extras</th><th>trip_total</th><th>payment_type</th><th>company</th><th>pickup_latitude</th><th>pickup_longitude</th><th>pickup_location</th><th>dropoff_latitude</th><th>dropoff_longitude</th><th>dropoff_location</th></tr><tr><td>str</td><td>str</td><td>str</td><td>str</td><td>str</td><td>f64</td><td>f64</td><td>f64</td><td>f64</td><td>f64</td><td>f64</td><td>f64</td><td>f64</td><td>f64</td><td>f64</td><td>f64</td><td>str</td><td>str</td><td>f64</td><td>f64</td><td>str</td><td>f64</td><td>f64</td><td>str</td></tr></thead><tbody><tr><td>&quot;count&quot;</td><td>&quot;10000000&quot;</td><td>&quot;10000000&quot;</td><td>&quot;10000000&quot;</td><td>&quot;9999570&quot;</td><td>9.995447e6</td><td>9.999831e6</td><td>6.332347e6</td><td>6.334679e6</td><td>8.399841e6</td><td>8.31957e6</td><td>9.999701e6</td><td>9.999701e6</td><td>7.826915e6</td><td>9.999701e6</td><td>9.999701e6</td><td>&quot;10000000&quot;</td><td>&quot;7038257&quot;</td><td>8.400944e6</td><td>8.400944e6</td><td>&quot;8400944&quot;</td><td>8.343984e6</td><td>8.343984e6</td><td>&quot;8343984&quot;</td></tr><tr><td>&quot;null_count&quot;</td><td>&quot;0&quot;</td><td>&quot;0&quot;</td><td>&quot;0&quot;</td><td>&quot;430&quot;</td><td>4553.0</td><td>169.0</td><td>3.667653e6</td><td>3.665321e6</td><td>1.600159e6</td><td>1.68043e6</td><td>299.0</td><td>299.0</td><td>2.173085e6</td><td>299.0</td><td>299.0</td><td>&quot;0&quot;</td><td>&quot;2961743&quot;</td><td>1.599056e6</td><td>1.599056e6</td><td>&quot;1599056&quot;</td><td>1.656016e6</td><td>1.656016e6</td><td>&quot;1656016&quot;</td></tr><tr><td>&quot;mean&quot;</td><td>null</td><td>null</td><td>null</td><td>null</td><td>830.940642</td><td>3.951144</td><td>1.7031e10</td><td>1.7031e10</td><td>23.85362</td><td>22.08319</td><td>13.29451</td><td>1.409008</td><td>0.007202</td><td>0.990582</td><td>15.761887</td><td>null</td><td>null</td><td>41.901105</td><td>-87.659719</td><td>null</td><td>41.901224</td><td>-87.655395</td><td>null</td></tr><tr><td>&quot;std&quot;</td><td>null</td><td>null</td><td>null</td><td>null</td><td>1463.502409</td><td>17.236593</td><td>344129.45913</td><td>335766.338394</td><td>19.953093</td><td>18.141551</td><td>47.74395</td><td>2.721428</td><td>0.877186</td><td>11.775439</td><td>50.206026</td><td>null</td><td>null</td><td>0.038236</td><td>0.073829</td><td>null</td><td>0.038818</td><td>0.061827</td><td>null</td></tr><tr><td>&quot;min&quot;</td><td>&quot;00000083123c59…</td><td>&quot;0005e9157e3cfe…</td><td>&quot;2013-01-01 00:…</td><td>&quot;2013-01-01 00:…</td><td>0.0</td><td>0.0</td><td>1.7031e10</td><td>1.7031e10</td><td>1.0</td><td>1.0</td><td>0.0</td><td>0.0</td><td>0.0</td><td>0.0</td><td>0.0</td><td>&quot;Cash&quot;</td><td>&quot;0118 - 42111 G…</td><td>41.660136</td><td>-87.913625</td><td>&quot;POINT (-87.534…</td><td>41.660136</td><td>-87.913625</td><td>&quot;POINT (-87.531…</td></tr><tr><td>&quot;25%&quot;</td><td>null</td><td>null</td><td>null</td><td>null</td><td>360.0</td><td>0.7</td><td>1.7031e10</td><td>1.7031e10</td><td>8.0</td><td>8.0</td><td>6.0</td><td>0.0</td><td>0.0</td><td>0.0</td><td>7.0</td><td>null</td><td>null</td><td>41.880994</td><td>-87.655879</td><td>null</td><td>41.880994</td><td>-87.655998</td><td>null</td></tr><tr><td>&quot;50%&quot;</td><td>null</td><td>null</td><td>null</td><td>null</td><td>556.0</td><td>1.5</td><td>1.7031e10</td><td>1.7031e10</td><td>24.0</td><td>22.0</td><td>8.05</td><td>0.0</td><td>0.0</td><td>0.0</td><td>9.6</td><td>null</td><td>null</td><td>41.892073</td><td>-87.632746</td><td>null</td><td>41.892508</td><td>-87.632746</td><td>null</td></tr><tr><td>&quot;75%&quot;</td><td>null</td><td>null</td><td>null</td><td>null</td><td>960.0</td><td>3.6</td><td>1.7032e10</td><td>1.7032e10</td><td>32.0</td><td>32.0</td><td>13.45</td><td>2.0</td><td>0.0</td><td>1.0</td><td>15.3</td><td>null</td><td>null</td><td>41.907492</td><td>-87.626211</td><td>null</td><td>41.914747</td><td>-87.626211</td><td>null</td></tr><tr><td>&quot;max&quot;</td><td>&quot;ffffff7320d385…</td><td>&quot;fff84aa08ac788…</td><td>&quot;2023-12-30 23:…</td><td>&quot;2023-12-30 23:…</td><td>86398.0</td><td>3353.1</td><td>1.7032e10</td><td>1.7032e10</td><td>77.0</td><td>77.0</td><td>9715.7</td><td>881.0</td><td>999.99</td><td>7789.97</td><td>9716.7</td><td>&quot;Way2ride&quot;</td><td>&quot;Yellow Cab&quot;</td><td>42.021224</td><td>-87.534903</td><td>&quot;POINT (-87.913…</td><td>42.021224</td><td>-87.531386</td><td>&quot;POINT (-87.913…</td></tr></tbody></table></div>"
            ]
          },
          "metadata": {},
          "execution_count": 7
        }
      ]
    },
    {
      "cell_type": "code",
      "source": [
        "%%time\n",
        "results_pl = (\n",
        "    df_pl\n",
        "    .filter(pl.col(\"trip_miles\") <= pl.lit(5))\n",
        "    .group_by(\"payment_type\")\n",
        "    .agg(pl.col(\"fare\").mean())\n",
        ")"
      ],
      "metadata": {
        "id": "F9fmmuaOpcVS",
        "outputId": "74a251f4-0540-426e-eb24-a0e0576e1695",
        "colab": {
          "base_uri": "https://localhost:8080/"
        }
      },
      "execution_count": 8,
      "outputs": [
        {
          "output_type": "stream",
          "name": "stdout",
          "text": [
            "CPU times: user 4 s, sys: 5.95 s, total: 9.95 s\n",
            "Wall time: 5.38 s\n"
          ]
        }
      ]
    },
    {
      "cell_type": "code",
      "source": [
        "df_pd = df_pl.to_pandas()\n"
      ],
      "metadata": {
        "id": "QiS_IkY3r116"
      },
      "execution_count": 9,
      "outputs": []
    },
    {
      "cell_type": "code",
      "source": [
        "%%time\n",
        "results_pd = df_pd[df_pd[\"trip_miles\"] <= 5].groupby(\"payment_type\")[[\"fare\"]].mean()"
      ],
      "metadata": {
        "id": "u7w5RgnZr-s0",
        "outputId": "27d63bcc-2277-419f-db7c-41dd37e9f33c",
        "colab": {
          "base_uri": "https://localhost:8080/"
        }
      },
      "execution_count": 10,
      "outputs": [
        {
          "output_type": "stream",
          "name": "stdout",
          "text": [
            "CPU times: user 1.72 s, sys: 682 ms, total: 2.4 s\n",
            "Wall time: 2.41 s\n"
          ]
        }
      ]
    },
    {
      "cell_type": "code",
      "source": [
        "results_pl"
      ],
      "metadata": {
        "id": "SlhuExsFt0YA",
        "outputId": "0f753780-c1c1-40dd-afd1-1c1ea8721f35",
        "colab": {
          "base_uri": "https://localhost:8080/",
          "height": 443
        }
      },
      "execution_count": 11,
      "outputs": [
        {
          "output_type": "execute_result",
          "data": {
            "text/plain": [
              "shape: (11, 2)\n",
              "┌──────────────┬───────────┐\n",
              "│ payment_type ┆ fare      │\n",
              "│ ---          ┆ ---       │\n",
              "│ str          ┆ f64       │\n",
              "╞══════════════╪═══════════╡\n",
              "│ No Charge    ┆ 8.901794  │\n",
              "│ Unknown      ┆ 12.110854 │\n",
              "│ Prepaid      ┆ 7.254213  │\n",
              "│ Mobile       ┆ 8.465049  │\n",
              "│ …            ┆ …         │\n",
              "│ Way2ride     ┆ 6.847222  │\n",
              "│ Dispute      ┆ 9.858734  │\n",
              "│ Pcard        ┆ 7.272641  │\n",
              "│ Prcard       ┆ 9.17012   │\n",
              "└──────────────┴───────────┘"
            ],
            "text/html": [
              "<div><style>\n",
              ".dataframe > thead > tr,\n",
              ".dataframe > tbody > tr {\n",
              "  text-align: right;\n",
              "  white-space: pre-wrap;\n",
              "}\n",
              "</style>\n",
              "<small>shape: (11, 2)</small><table border=\"1\" class=\"dataframe\"><thead><tr><th>payment_type</th><th>fare</th></tr><tr><td>str</td><td>f64</td></tr></thead><tbody><tr><td>&quot;No Charge&quot;</td><td>8.901794</td></tr><tr><td>&quot;Unknown&quot;</td><td>12.110854</td></tr><tr><td>&quot;Prepaid&quot;</td><td>7.254213</td></tr><tr><td>&quot;Mobile&quot;</td><td>8.465049</td></tr><tr><td>&quot;Split&quot;</td><td>8.457831</td></tr><tr><td>&quot;Credit Card&quot;</td><td>9.387332</td></tr><tr><td>&quot;Cash&quot;</td><td>8.520036</td></tr><tr><td>&quot;Way2ride&quot;</td><td>6.847222</td></tr><tr><td>&quot;Dispute&quot;</td><td>9.858734</td></tr><tr><td>&quot;Pcard&quot;</td><td>7.272641</td></tr><tr><td>&quot;Prcard&quot;</td><td>9.17012</td></tr></tbody></table></div>"
            ]
          },
          "metadata": {},
          "execution_count": 11
        }
      ]
    },
    {
      "cell_type": "code",
      "source": [
        "results_pd"
      ],
      "metadata": {
        "id": "Pc9zxY6Yt2mk"
      },
      "execution_count": null,
      "outputs": []
    },
    {
      "cell_type": "markdown",
      "metadata": {
        "id": "jVdU_VDxNO8L"
      },
      "source": [
        "<html>\n",
        "<body>\n",
        "    <div style=\"display: flex;\">\n",
        "            <a href=\"https://medium.com/@jgrygolec\" style=\"width: 45em; height: 15em; background-color: white; padding-left: 1em; display: flex; flex-direction: column; justify-content: center; color: inherit; text-decoration: none;\">\n",
        "            <p style=\"margin: 0; font-size: 1.5em; color: #3D4849;\">Thank you for attention!</p>\n",
        "            <p style=\"margin: 0; font-size: 1.5em; color: #3D4849; font-weight: bold;\">Click to see more of my articles on Medium.</p>\n",
        "            <p style=\"margin: 0; font-size: 1.5em; color: #3D4849;\">BR,</p>\n",
        "            <p style=\"margin: 0; font-size: 1.5em; color: #3D4849;\">Jarek Grygolec</p>\n",
        "        </a>\n",
        "        <a href=\"https://medium.com/@jgrygolec\" style=\"width: 30em; height: 15em; background-repeat: no-repeat; background-size: cover; background-position: center;\">\n",
        "                    <img src=\"https://miro.medium.com/v2/resize:fit:3992/0*WCQwsoZC0FA2-haq\" style=\"width: 100%; height: 100%; object-fit: cover;\"></a>\n",
        "    </div>\n",
        "</body>\n",
        "</html>"
      ]
    },
    {
      "cell_type": "code",
      "source": [],
      "metadata": {
        "id": "skm7q6KMpbTl"
      },
      "execution_count": 10,
      "outputs": []
    }
  ],
  "metadata": {
    "colab": {
      "provenance": []
    },
    "kernelspec": {
      "display_name": "rtb",
      "language": "python",
      "name": "python3"
    },
    "language_info": {
      "codemirror_mode": {
        "name": "ipython",
        "version": 3
      },
      "file_extension": ".py",
      "mimetype": "text/x-python",
      "name": "python",
      "nbconvert_exporter": "python",
      "pygments_lexer": "ipython3",
      "version": "3.11.4"
    }
  },
  "nbformat": 4,
  "nbformat_minor": 0
}