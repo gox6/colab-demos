{
  "cells": [
    {
      "cell_type": "markdown",
      "metadata": {
        "id": "9Z5ErNjoL9jP"
      },
      "source": [
        "<a target=\"_blank\" href=\"https://colab.research.google.com/github/gox6/colab-demos/blob/main/practical-examples/jump-into-into-lcel-and-runnables.ipynb\">\n",
        "  <img src=\"https://colab.research.google.com/assets/colab-badge.svg\" alt=\"Open In Colab\"/>\n",
        "</a>"
      ]
    },
    {
      "cell_type": "markdown",
      "source": [
        "# The code for the Medium article:\n",
        "# [The Practical Example: Jump into LCEL and Runnables](https://medium.com/@jgrygolec/the-practical-example-jump-into-lcel-and-runnables-39eb3596cca1)"
      ],
      "metadata": {
        "id": "vnfJJJ0fMloL"
      }
    },
    {
      "cell_type": "markdown",
      "source": [
        "# Project Setup"
      ],
      "metadata": {
        "id": "Ez6CT2kJMQP1"
      }
    },
    {
      "cell_type": "code",
      "source": [
        "# Installing Python packages & hiding\n",
        "\n",
        "!pip install --quiet \\\n",
        "  chromadb \\\n",
        "  datasets \\\n",
        "  langchain \\\n",
        "\n",
        "\n",
        "  1> /dev/null"
      ],
      "metadata": {
        "id": "tntGoRXdMUyM"
      },
      "execution_count": null,
      "outputs": []
    },
    {
      "cell_type": "code",
      "source": [
        "# Importing the packages"
      ],
      "metadata": {
        "id": "pLYpWzE7MXID"
      },
      "execution_count": null,
      "outputs": []
    },
    {
      "cell_type": "code",
      "source": [
        "# Managing secrets\n",
        "# - If using Colab please use Colab Secrets\n",
        "# - If running outside Colab please provide secrets as environmental variables\n",
        "COLAB = os.getenv(\"COLAB_RELEASE_TAG\") is not None\n",
        "\n",
        "if COLAB:\n",
        "  from google.colab import userdata, data_table\n",
        "  # Secrets\n",
        "  OPENAI_API_KEY = userdata.get('OPENAI_API_KEY')\n",
        "  os.environ[\"OPENAI_API_KEY\"] = OPENAI_API_KEY\n",
        "  runtime_info = \"Colab runtime\"\n",
        "\n",
        "  # Enabling Colab's data formatter for pandas\n",
        "  data_table.enable_dataframe_formatter()\n",
        "elif OPENAI_API_KEY := os.environ.get('OPENAI_API_KEY'):\n",
        "  # Secrets\n",
        "  runtime_info = \"Non Colab runtime\"\n",
        "else:\n",
        "  OPENAI_API_KEY = getpass(\"OPENAI_API_KEY\")\n",
        "  os.environ[\"OPENAI_API_KEY\"] = OPENAI_API_KEY\n",
        "  runtime_info = \"Non Colab runtime\"\n",
        "\n",
        "print(runtime_info)"
      ],
      "metadata": {
        "id": "qdJUgpRPMaa5"
      },
      "execution_count": null,
      "outputs": []
    }
  ],
  "metadata": {
    "language_info": {
      "name": "python"
    },
    "colab": {
      "provenance": [],
      "toc_visible": true
    }
  },
  "nbformat": 4,
  "nbformat_minor": 0
}