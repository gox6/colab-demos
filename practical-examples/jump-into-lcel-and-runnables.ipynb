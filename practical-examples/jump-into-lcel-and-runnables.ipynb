{
  "cells": [
    {
      "cell_type": "markdown",
      "metadata": {
        "id": "9Z5ErNjoL9jP"
      },
      "source": [
        "<a target=\"_blank\" href=\"https://colab.research.google.com/github/gox6/colab-demos/blob/main/practical-examples/jump-into-lcel-and-runnables.ipynb\">\n",
        "  <img src=\"https://colab.research.google.com/assets/colab-badge.svg\" alt=\"Open In Colab\"/>\n",
        "</a>"
      ]
    },
    {
      "cell_type": "markdown",
      "source": [
        "# The code for the Medium article: [The Practical Example: Jump into LCEL and Runnables](https://medium.com/@jgrygolec/the-practical-example-jump-into-lcel-and-runnables-39eb3596cca1)"
      ],
      "metadata": {
        "id": "vnfJJJ0fMloL"
      }
    },
    {
      "cell_type": "markdown",
      "source": [
        "# Project Setup"
      ],
      "metadata": {
        "id": "Ez6CT2kJMQP1"
      }
    },
    {
      "cell_type": "code",
      "source": [
        "# Installing Python packages & hiding\n",
        "!apt-get install -q libgraphviz-dev 1> /dev/null # Only required on Colab to iinstal pygraphviz\n",
        "\n",
        "!pip install --quiet \\\n",
        "  grandalf \\\n",
        "  langchain \\\n",
        "  langchain-openai \\\n",
        "  pygraphviz \\\n",
        "  1> /dev/null"
      ],
      "metadata": {
        "id": "tntGoRXdMUyM"
      },
      "execution_count": 1,
      "outputs": []
    },
    {
      "cell_type": "markdown",
      "source": [],
      "metadata": {
        "id": "Ju-fpiKDzes3"
      }
    },
    {
      "cell_type": "code",
      "source": [
        "# Importing the packages\n",
        "import getpass\n",
        "from operator import itemgetter\n",
        "import os\n",
        "\n",
        "\n",
        "from langchain_core.prompts import ChatPromptTemplate\n",
        "from langchain_core.output_parsers import StrOutputParser\n",
        "from langchain_core.runnables import (\n",
        "    RunnableLambda,\n",
        "    RunnableParallel,\n",
        "    RunnablePassthrough,\n",
        "    RunnableSequence,\n",
        "    ConfigurableField\n",
        ")\n",
        "from langchain_openai import ChatOpenAI\n",
        "from langchain.output_parsers.openai_tools import JsonOutputToolsParser"
      ],
      "metadata": {
        "id": "pLYpWzE7MXID"
      },
      "execution_count": 251,
      "outputs": []
    },
    {
      "cell_type": "code",
      "source": [
        "# Managing secrets\n",
        "# - If using Colab please use Colab Secrets\n",
        "# - If running outside Colab please provide secrets as environmental variables\n",
        "COLAB = os.getenv(\"COLAB_RELEASE_TAG\") is not None\n",
        "\n",
        "if COLAB:\n",
        "  from google.colab import userdata, data_table\n",
        "  # Secrets\n",
        "  OPENAI_API_KEY = userdata.get('OPENAI_API_KEY')\n",
        "  os.environ[\"OPENAI_API_KEY\"] = OPENAI_API_KEY\n",
        "  runtime_info = \"Colab runtime\"\n",
        "\n",
        "  # Enabling Colab's data formatter for pandas\n",
        "  data_table.enable_dataframe_formatter()\n",
        "elif OPENAI_API_KEY := os.environ.get('OPENAI_API_KEY'):\n",
        "  # Secrets\n",
        "  runtime_info = \"Non Colab runtime\"\n",
        "else:\n",
        "  OPENAI_API_KEY = getpass(\"OPENAI_API_KEY\")\n",
        "  os.environ[\"OPENAI_API_KEY\"] = OPENAI_API_KEY\n",
        "  runtime_info = \"Non Colab runtime\"\n",
        "\n",
        "print(runtime_info)"
      ],
      "metadata": {
        "colab": {
          "base_uri": "https://localhost:8080/"
        },
        "id": "qdJUgpRPMaa5",
        "outputId": "9c35d870-c3af-4a94-c3a0-87caed920f7a"
      },
      "execution_count": 3,
      "outputs": [
        {
          "output_type": "stream",
          "name": "stdout",
          "text": [
            "Colab runtime\n"
          ]
        }
      ]
    },
    {
      "cell_type": "markdown",
      "source": [
        "# Simple Chain in LCEL"
      ],
      "metadata": {
        "id": "bTz3X3DgOqO_"
      }
    },
    {
      "cell_type": "code",
      "source": [
        "# Defining a chain with LCEL\n",
        "prompt = ChatPromptTemplate.from_template(\n",
        "    \"Provide a definition of the term: {term}\"\n",
        ")\n",
        "output_parser = StrOutputParser()\n",
        "model = ChatOpenAI(model=\"gpt-3.5-turbo\")\n",
        "\n",
        "chain = prompt | model | output_parser\n",
        "\n",
        "\n",
        "chain.invoke(\"evolution\")\n",
        "\n",
        "# Output:\n",
        "# Evolution is the process through which species of organisms\n",
        "# change over time, typically through genetic variation,\n",
        "# natural selection, and adaptation to their environment,\n",
        "# resulting in the development of new species. It is a\n",
        "# fundamental principle of biology and explains the diversity\n",
        "# of life on Earth."
      ],
      "metadata": {
        "id": "l9T56rOqQdkL",
        "outputId": "71a5f466-fb4d-4138-e26e-6d686feedc45",
        "colab": {
          "base_uri": "https://localhost:8080/",
          "height": 87
        }
      },
      "execution_count": 4,
      "outputs": [
        {
          "output_type": "execute_result",
          "data": {
            "text/plain": [
              "'Evolution is the process through which species of organisms change over time, typically through genetic variation, natural selection, and adaptation to their environment, resulting in the development of new species. It is a fundamental principle of biology and explains the diversity of life on Earth.'"
            ],
            "application/vnd.google.colaboratory.intrinsic+json": {
              "type": "string"
            }
          },
          "metadata": {},
          "execution_count": 4
        }
      ]
    },
    {
      "cell_type": "code",
      "source": [
        "# The simplest way to draw the chain as a graph\n",
        "chain.get_graph().print_ascii()\n",
        "\n",
        "# Output:\n",
        "#      +-------------+\n",
        "#      | PromptInput |\n",
        "#      +-------------+\n",
        "#             *\n",
        "#             *\n",
        "#             *\n",
        "#   +--------------------+\n",
        "#   | ChatPromptTemplate |\n",
        "#   +--------------------+\n",
        "#             *\n",
        "#             *\n",
        "#             *\n",
        "#       +------------+\n",
        "#       | ChatOpenAI |\n",
        "#       +------------+\n",
        "#             *\n",
        "#             *\n",
        "#             *\n",
        "#    +-----------------+\n",
        "#    | StrOutputParser |\n",
        "#    +-----------------+\n",
        "#             *\n",
        "#             *\n",
        "#             *\n",
        "# +-----------------------+\n",
        "# | StrOutputParserOutput |\n",
        "# +-----------------------+"
      ],
      "metadata": {
        "colab": {
          "base_uri": "https://localhost:8080/"
        },
        "id": "5gH9Fe4-AT4A",
        "outputId": "2556a2cf-abb5-497c-ab39-11c6129b4b9c"
      },
      "execution_count": 65,
      "outputs": [
        {
          "output_type": "stream",
          "name": "stdout",
          "text": [
            "     +-------------+       \n",
            "     | PromptInput |       \n",
            "     +-------------+       \n",
            "            *              \n",
            "            *              \n",
            "            *              \n",
            "  +--------------------+   \n",
            "  | ChatPromptTemplate |   \n",
            "  +--------------------+   \n",
            "            *              \n",
            "            *              \n",
            "            *              \n",
            "      +------------+       \n",
            "      | ChatOpenAI |       \n",
            "      +------------+       \n",
            "            *              \n",
            "            *              \n",
            "            *              \n",
            "   +-----------------+     \n",
            "   | StrOutputParser |     \n",
            "   +-----------------+     \n",
            "            *              \n",
            "            *              \n",
            "            *              \n",
            "+-----------------------+  \n",
            "| StrOutputParserOutput |  \n",
            "+-----------------------+  \n"
          ]
        }
      ]
    },
    {
      "cell_type": "code",
      "source": [
        "# Inspecting chain' input schema\n",
        "chain.input_schema().schema()\n",
        "\n",
        "# Output:\n",
        "# {'title': 'PromptInput',\n",
        "#  'type': 'object',\n",
        "#  'properties': {'term': {'title': 'Term', 'type': 'string'}}}"
      ],
      "metadata": {
        "colab": {
          "base_uri": "https://localhost:8080/"
        },
        "id": "UCiUjoaRAMzT",
        "outputId": "0ca7cce2-d836-4d1b-f068-4cd3a5af50a0"
      },
      "execution_count": 63,
      "outputs": [
        {
          "output_type": "execute_result",
          "data": {
            "text/plain": [
              "{'title': 'PromptInput',\n",
              " 'type': 'object',\n",
              " 'properties': {'term': {'title': 'Term', 'type': 'string'}}}"
            ]
          },
          "metadata": {},
          "execution_count": 63
        }
      ]
    },
    {
      "cell_type": "code",
      "source": [
        "# Inspecting chain' output schema\n",
        "chain.output_schema().schema()\n",
        "\n",
        "# Output:\n",
        "# {'title': 'StrOutputParserOutput', 'type': 'string'}"
      ],
      "metadata": {
        "colab": {
          "base_uri": "https://localhost:8080/"
        },
        "id": "em4v21zoAQRF",
        "outputId": "20256a60-c979-45e2-e23f-4eb3f581d109"
      },
      "execution_count": 64,
      "outputs": [
        {
          "output_type": "execute_result",
          "data": {
            "text/plain": [
              "{'title': 'StrOutputParserOutput', 'type': 'string'}"
            ]
          },
          "metadata": {},
          "execution_count": 64
        }
      ]
    },
    {
      "cell_type": "code",
      "source": [
        "# Drawing a chain in colors\n",
        "# For more advanced options to draw chains see:\n",
        "# https://github.com/langchain-ai/langgraph/blob/main/examples/visualization.ipynb\n",
        "from IPython.display import Image\n",
        "Image(chain.get_graph().draw_png())"
      ],
      "metadata": {
        "colab": {
          "base_uri": "https://localhost:8080/",
          "height": 652
        },
        "id": "olhgNE-i29hL",
        "outputId": "08190462-2147-445f-fa75-77f4abb842f5"
      },
      "execution_count": 57,
      "outputs": [
        {
          "output_type": "execute_result",
          "data": {
            "image/png": "[encoded data removed]",
            "text/plain": [
              "<IPython.core.display.Image object>"
            ]
          },
          "metadata": {},
          "execution_count": 57
        }
      ]
    },
    {
      "cell_type": "markdown",
      "source": [
        "# Examples of LCEL primitives"
      ],
      "metadata": {
        "id": "s8fnTL9BeIMX"
      }
    },
    {
      "cell_type": "code",
      "source": [
        "runnable_passthrough = RunnablePassthrough()\n",
        "runnable_passthrough.invoke({\"greeting\": \"Hello World!\"})\n",
        "\n",
        "# Output:\n",
        "# {'greeting': 'Hello World!'}"
      ],
      "metadata": {
        "colab": {
          "base_uri": "https://localhost:8080/"
        },
        "id": "t-EkX4cAvwwz",
        "outputId": "8063b1db-5581-47ff-c751-6e09c77349f2"
      },
      "execution_count": 96,
      "outputs": [
        {
          "output_type": "execute_result",
          "data": {
            "text/plain": [
              "{'greeting': 'Hello World!'}"
            ]
          },
          "metadata": {},
          "execution_count": 96
        }
      ]
    },
    {
      "cell_type": "code",
      "source": [
        "runnable_sequence = RunnableSequence(\n",
        "    RunnablePassthrough(),\n",
        "    RunnablePassthrough()\n",
        ")\n",
        "runnable_sequence\n",
        "\n",
        "# Output:\n",
        "# RunnablePassthrough()\n",
        "# | RunnablePassthrough()"
      ],
      "metadata": {
        "colab": {
          "base_uri": "https://localhost:8080/"
        },
        "id": "fe8tUD2NvbCE",
        "outputId": "d40d708d-1795-4d53-8c8f-8613191b28b6"
      },
      "execution_count": 98,
      "outputs": [
        {
          "output_type": "execute_result",
          "data": {
            "text/plain": [
              "RunnablePassthrough()\n",
              "| RunnablePassthrough()"
            ]
          },
          "metadata": {},
          "execution_count": 98
        }
      ]
    },
    {
      "cell_type": "code",
      "source": [
        "runnable_sequence.invoke({'greeting': 'Hello World!'})\n",
        "\n",
        "# Output:\n",
        "# {'greeting': 'Hello World!'}"
      ],
      "metadata": {
        "colab": {
          "base_uri": "https://localhost:8080/"
        },
        "id": "WC04_ktRMcQb",
        "outputId": "b211fc90-d1bb-4b95-b1ab-70e22da163ce"
      },
      "execution_count": 85,
      "outputs": [
        {
          "output_type": "execute_result",
          "data": {
            "text/plain": [
              "{'greeting': 'Hello World!'}"
            ]
          },
          "metadata": {},
          "execution_count": 85
        }
      ]
    },
    {
      "cell_type": "code",
      "source": [
        "runnable_parallel = RunnableParallel(\n",
        "    first=RunnablePassthrough(),\n",
        "    second=RunnablePassthrough()\n",
        ")\n",
        "runnable_parallel\n",
        "\n",
        "# Output:\n",
        "# {\n",
        "#   first: RunnablePassthrough(),\n",
        "#   second: RunnablePassthrough()\n",
        "# }"
      ],
      "metadata": {
        "colab": {
          "base_uri": "https://localhost:8080/"
        },
        "id": "f92LHr_1ScSX",
        "outputId": "be06d43c-e12f-4eff-f956-550487d4f44a"
      },
      "execution_count": 91,
      "outputs": [
        {
          "output_type": "execute_result",
          "data": {
            "text/plain": [
              "{\n",
              "  first: RunnablePassthrough(),\n",
              "  second: RunnablePassthrough()\n",
              "}"
            ]
          },
          "metadata": {},
          "execution_count": 91
        }
      ]
    },
    {
      "cell_type": "code",
      "source": [
        "runnable_parallel_alt = RunnableParallel(\n",
        "    {\n",
        "    \"first\": RunnablePassthrough(),\n",
        "    \"second\": RunnablePassthrough()\n",
        "    }\n",
        ")\n",
        "runnable_parallel_alt\n",
        "\n",
        "# Output:\n",
        "# {\n",
        "#   first: RunnablePassthrough(),\n",
        "#   second: RunnablePassthrough()\n",
        "# }"
      ],
      "metadata": {
        "colab": {
          "base_uri": "https://localhost:8080/"
        },
        "id": "6lrIOiyCUGKU",
        "outputId": "51e77167-2a9e-44a1-9a3e-470f8cea9fd8"
      },
      "execution_count": 94,
      "outputs": [
        {
          "output_type": "execute_result",
          "data": {
            "text/plain": [
              "{\n",
              "  first: RunnablePassthrough(),\n",
              "  second: RunnablePassthrough()\n",
              "}"
            ]
          },
          "metadata": {},
          "execution_count": 94
        }
      ]
    },
    {
      "cell_type": "code",
      "source": [
        "runnable_lambda = RunnableLambda(lambda x: x + 1)\n",
        "runnable_lambda.invoke(1)\n",
        "\n",
        "# Output:\n",
        "# 2"
      ],
      "metadata": {
        "colab": {
          "base_uri": "https://localhost:8080/"
        },
        "id": "fpgfzNL6alaA",
        "outputId": "b67d37ec-89e2-4da5-9e8b-33223b59f3c9"
      },
      "execution_count": 101,
      "outputs": [
        {
          "output_type": "execute_result",
          "data": {
            "text/plain": [
              "2"
            ]
          },
          "metadata": {},
          "execution_count": 101
        }
      ]
    },
    {
      "cell_type": "code",
      "source": [
        "runnable_lambda = itemgetter(\"a\") | RunnableLambda(lambda x: x + 1)\n",
        "runnable_lambda.invoke({\"a\": 1, \"b\": -1})\n",
        "\n",
        "# Output:\n",
        "# 2"
      ],
      "metadata": {
        "colab": {
          "base_uri": "https://localhost:8080/"
        },
        "id": "62iSg-CLaw3a",
        "outputId": "fc6f11f8-3013-4207-9fc6-bb7cc1b558eb"
      },
      "execution_count": 109,
      "outputs": [
        {
          "output_type": "execute_result",
          "data": {
            "text/plain": [
              "2"
            ]
          },
          "metadata": {},
          "execution_count": 109
        }
      ]
    },
    {
      "cell_type": "code",
      "source": [
        "runnable_passthrough_assign = RunnablePassthrough.assign(c=lambda x: x[\"a\"]+2)\n",
        "runnable_passthrough_assign.invoke({\"a\": 1})\n",
        "\n",
        "# Output:\n",
        "# {'a': 1, 'c': 3}"
      ],
      "metadata": {
        "colab": {
          "base_uri": "https://localhost:8080/"
        },
        "id": "qKM4qIlzjezL",
        "outputId": "cf44cf56-1eae-4d46-fdf3-d056606b7a51"
      },
      "execution_count": 163,
      "outputs": [
        {
          "output_type": "execute_result",
          "data": {
            "text/plain": [
              "{'a': 1, 'c': 3}"
            ]
          },
          "metadata": {},
          "execution_count": 163
        }
      ]
    },
    {
      "cell_type": "code",
      "source": [
        "from langchain_core.runnables import ConfigurableField\n",
        "from langchain_openai import ChatOpenAI\n",
        "\n",
        "model_with_temperature = ChatOpenAI(temperature=0).configurable_fields(\n",
        "    temperature=ConfigurableField(\n",
        "        id=\"llm_temperature\",\n",
        "        name=\"LLM Temperature\",\n",
        "        description=\"The temperature of the LLM\",\n",
        "    )\n",
        ")\n",
        "\n",
        "chain_with_temperature = model_with_temperature | output_parser\n",
        "\n",
        "(\n",
        "    chain_with_temperature\n",
        "        .with_config(configurable={\"llm_temperature\": 0})\n",
        "        .invoke(\"Choose a radnom word\")\n",
        ")\n",
        "\n",
        "# Output\n",
        "# Elephant"
      ],
      "metadata": {
        "id": "RcJtg6WuIWWE",
        "outputId": "a5504a66-56a6-4aab-f4c4-105bb8931b77",
        "colab": {
          "base_uri": "https://localhost:8080/",
          "height": 35
        }
      },
      "execution_count": 269,
      "outputs": [
        {
          "output_type": "execute_result",
          "data": {
            "text/plain": [
              "'Elephant'"
            ],
            "application/vnd.google.colaboratory.intrinsic+json": {
              "type": "string"
            }
          },
          "metadata": {},
          "execution_count": 269
        }
      ]
    },
    {
      "cell_type": "code",
      "source": [
        "llm = ChatAnthropic(temperature=0).configurable_alternatives(\n",
        "    # This gives this field an id\n",
        "    # When configuring the end runnable, we can then use this id to configure this field\n",
        "    ConfigurableField(id=\"llm\"),\n",
        "    # This sets a default_key.\n",
        "    # If we specify this key, the default LLM (ChatAnthropic initialized above) will be used\n",
        "    default_key=\"anthropic\",\n",
        "    # This adds a new option, with name `openai` that is equal to `ChatOpenAI()`\n",
        "    openai=ChatOpenAI(),\n",
        "    # This adds a new option, with name `gpt4` that is equal to `ChatOpenAI(model=\"gpt-4\")`\n",
        "    gpt4=ChatOpenAI(model=\"gpt-4\"),\n",
        "    # You can add more configuration options here\n",
        ")\n",
        "prompt = PromptTemplate.from_template(\"Tell me a joke about {topic}\")\n",
        "chain = prompt | llm"
      ],
      "metadata": {
        "id": "wqXz6AQsKJQa"
      },
      "execution_count": null,
      "outputs": []
    },
    {
      "cell_type": "code",
      "source": [
        "from langchain.output_parsers.openai_tools import JsonOutputToolsParser\n",
        "\n",
        "tools = [\n",
        "    {\n",
        "        \"type\": \"function\",\n",
        "        \"function\": {\n",
        "            \"name\": \"calculate\",\n",
        "            \"description\": \"Compute the arithmetic equation\",\n",
        "            \"parameters\": {\n",
        "                \"type\": \"object\",\n",
        "                \"properties\": {\n",
        "                    \"equation\": {\n",
        "                        \"type\": \"string\",\n",
        "                        \"description\": \"Arithmetic equation expressed in natural language\",\n",
        "                    },\n",
        "                    \"solution\": {\n",
        "                    \"type\": \"string\",\n",
        "                    \"description\": \"The solution to the equation\",\n",
        "                        },\n",
        "                },\n",
        "\n",
        "                \"required\": [\"equation\", \"solution\"],\n",
        "            },\n",
        "        },\n",
        "    }\n",
        "]\n",
        "\n",
        "\n",
        "openai_parser = JsonOutputToolsParser()\n",
        "model_with_tools = ChatOpenAI(model=\"gpt-3.5-turbo\",\n",
        "                              temperature=0).bind(tools=tools)\n",
        "calculator_chain = model_with_tools | openai_parser\n",
        "\n",
        "calculator_chain.invoke(\"1 plus 8 and then take the sum to power 2\")\n",
        "\n",
        "# Output\n",
        "# [{'args': {'equation': '1 + 8 = 9, then 9 ^ 2 = 81', 'solution': '81'},\n",
        "#   'type': 'calculate'}]"
      ],
      "metadata": {
        "id": "ccs0BFt99b57",
        "outputId": "68b42fcf-6a49-44fb-c171-a77994ca9d67",
        "colab": {
          "base_uri": "https://localhost:8080/"
        }
      },
      "execution_count": 258,
      "outputs": [
        {
          "output_type": "execute_result",
          "data": {
            "text/plain": [
              "[{'args': {'equation': '1 + 8 = 9, then 9 ^ 2 = 81', 'solution': '81'},\n",
              "  'type': 'calculate'}]"
            ]
          },
          "metadata": {},
          "execution_count": 258
        }
      ]
    }
  ],
  "metadata": {
    "language_info": {
      "name": "python"
    },
    "colab": {
      "provenance": [],
      "toc_visible": true
    },
    "kernelspec": {
      "name": "python3",
      "display_name": "Python 3"
    }
  },
  "nbformat": 4,
  "nbformat_minor": 0
}