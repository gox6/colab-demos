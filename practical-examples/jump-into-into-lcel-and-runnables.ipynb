{
  "cells": [
    {
      "cell_type": "markdown",
      "metadata": {
        "id": "9Z5ErNjoL9jP"
      },
      "source": [
        "<a target=\"_blank\" href=\"https://colab.research.google.com/github/gox6/colab-demos/blob/main/practical-examples/jump-into-lcel-and-runnables.ipynb\">\n",
        "  <img src=\"https://colab.research.google.com/assets/colab-badge.svg\" alt=\"Open In Colab\"/>\n",
        "</a>"
      ]
    },
    {
      "cell_type": "markdown",
      "source": [
        "# The code for the Medium article:\n",
        "# [The Practical Example: Jump into LCEL and Runnables](https://medium.com/@jgrygolec/the-practical-example-jump-into-lcel-and-runnables-39eb3596cca1)"
      ],
      "metadata": {
        "id": "vnfJJJ0fMloL"
      }
    },
    {
      "cell_type": "markdown",
      "source": [
        "# Project Setup"
      ],
      "metadata": {
        "id": "Ez6CT2kJMQP1"
      }
    },
    {
      "cell_type": "code",
      "source": [
        "# Installing Python packages & hiding\n",
        "\n",
        "!pip install --quiet \\\n",
        "  langchain \\\n",
        "  langchain-openai \\\n",
        "  1> /dev/null"
      ],
      "metadata": {
        "id": "tntGoRXdMUyM"
      },
      "execution_count": 5,
      "outputs": []
    },
    {
      "cell_type": "code",
      "source": [
        "# Importing the packages\n",
        "import getpass\n",
        "import os\n",
        "\n",
        "from langchain_openai import ChatOpenAI\n",
        "from langchain_core.prompts import ChatPromptTemplate\n",
        "from langchain_core.output_parsers import StrOutputParser\n",
        "from langchain_core.runnables import RunnablePassthrough"
      ],
      "metadata": {
        "id": "pLYpWzE7MXID"
      },
      "execution_count": 6,
      "outputs": []
    },
    {
      "cell_type": "code",
      "source": [
        "# Managing secrets\n",
        "# - If using Colab please use Colab Secrets\n",
        "# - If running outside Colab please provide secrets as environmental variables\n",
        "COLAB = os.getenv(\"COLAB_RELEASE_TAG\") is not None\n",
        "\n",
        "if COLAB:\n",
        "  from google.colab import userdata, data_table\n",
        "  # Secrets\n",
        "  OPENAI_API_KEY = userdata.get('OPENAI_API_KEY')\n",
        "  os.environ[\"OPENAI_API_KEY\"] = OPENAI_API_KEY\n",
        "  runtime_info = \"Colab runtime\"\n",
        "\n",
        "  # Enabling Colab's data formatter for pandas\n",
        "  data_table.enable_dataframe_formatter()\n",
        "elif OPENAI_API_KEY := os.environ.get('OPENAI_API_KEY'):\n",
        "  # Secrets\n",
        "  runtime_info = \"Non Colab runtime\"\n",
        "else:\n",
        "  OPENAI_API_KEY = getpass(\"OPENAI_API_KEY\")\n",
        "  os.environ[\"OPENAI_API_KEY\"] = OPENAI_API_KEY\n",
        "  runtime_info = \"Non Colab runtime\"\n",
        "\n",
        "print(runtime_info)"
      ],
      "metadata": {
        "colab": {
          "base_uri": "https://localhost:8080/"
        },
        "id": "qdJUgpRPMaa5",
        "outputId": "3b9355bf-9075-4b74-c4bb-28179661a26b"
      },
      "execution_count": 7,
      "outputs": [
        {
          "output_type": "stream",
          "name": "stdout",
          "text": [
            "Colab runtime\n"
          ]
        }
      ]
    },
    {
      "cell_type": "markdown",
      "source": [
        "# Simple Chain in LCEL"
      ],
      "metadata": {
        "id": "bTz3X3DgOqO_"
      }
    },
    {
      "cell_type": "code",
      "source": [
        "prompt = ChatPromptTemplate.from_template(\n",
        "    \"Provide a definition of the term: {term}\"\n",
        ")\n",
        "output_parser = StrOutputParser()\n",
        "model = ChatOpenAI(model=\"gpt-3.5-turbo\")\n",
        "\n",
        "chain = prompt | model | output_parser\n",
        "\n",
        "\n",
        "chain.invoke(\"evolution\")"
      ],
      "metadata": {
        "id": "l9T56rOqQdkL",
        "outputId": "05e2a77a-cc12-43ce-9230-b9c14856f08e",
        "colab": {
          "base_uri": "https://localhost:8080/",
          "height": 87
        }
      },
      "execution_count": 20,
      "outputs": [
        {
          "output_type": "execute_result",
          "data": {
            "text/plain": [
              "'Evolution is the process by which different kinds of living organisms have developed and diversified from earlier forms over time through natural selection, genetic mutation, and other mechanisms. It is the gradual change in a population of organisms over generations, leading to the development of new species.'"
            ],
            "application/vnd.google.colaboratory.intrinsic+json": {
              "type": "string"
            }
          },
          "metadata": {},
          "execution_count": 20
        }
      ]
    },
    {
      "cell_type": "code",
      "source": [
        "model.input_schema().schema()"
      ],
      "metadata": {
        "id": "yJgdSbLrQ6cl",
        "outputId": "11e1079b-70c7-4f3e-a76f-a777ae693988",
        "colab": {
          "base_uri": "https://localhost:8080/"
        }
      },
      "execution_count": 21,
      "outputs": [
        {
          "output_type": "execute_result",
          "data": {
            "text/plain": [
              "{'title': 'ChatOpenAIInput',\n",
              " 'anyOf': [{'type': 'string'},\n",
              "  {'$ref': '#/definitions/StringPromptValue'},\n",
              "  {'$ref': '#/definitions/ChatPromptValueConcrete'},\n",
              "  {'type': 'array',\n",
              "   'items': {'anyOf': [{'$ref': '#/definitions/AIMessage'},\n",
              "     {'$ref': '#/definitions/HumanMessage'},\n",
              "     {'$ref': '#/definitions/ChatMessage'},\n",
              "     {'$ref': '#/definitions/SystemMessage'},\n",
              "     {'$ref': '#/definitions/FunctionMessage'},\n",
              "     {'$ref': '#/definitions/ToolMessage'}]}}],\n",
              " 'definitions': {'StringPromptValue': {'title': 'StringPromptValue',\n",
              "   'description': 'String prompt value.',\n",
              "   'type': 'object',\n",
              "   'properties': {'text': {'title': 'Text', 'type': 'string'},\n",
              "    'type': {'title': 'Type',\n",
              "     'default': 'StringPromptValue',\n",
              "     'enum': ['StringPromptValue'],\n",
              "     'type': 'string'}},\n",
              "   'required': ['text']},\n",
              "  'ToolCall': {'title': 'ToolCall',\n",
              "   'type': 'object',\n",
              "   'properties': {'name': {'title': 'Name', 'type': 'string'},\n",
              "    'args': {'title': 'Args', 'type': 'object'},\n",
              "    'id': {'title': 'Id', 'type': 'string'}},\n",
              "   'required': ['name', 'args', 'id']},\n",
              "  'InvalidToolCall': {'title': 'InvalidToolCall',\n",
              "   'type': 'object',\n",
              "   'properties': {'name': {'title': 'Name', 'type': 'string'},\n",
              "    'args': {'title': 'Args', 'type': 'string'},\n",
              "    'id': {'title': 'Id', 'type': 'string'},\n",
              "    'error': {'title': 'Error', 'type': 'string'}},\n",
              "   'required': ['name', 'args', 'id', 'error']},\n",
              "  'AIMessage': {'title': 'AIMessage',\n",
              "   'description': 'Message from an AI.',\n",
              "   'type': 'object',\n",
              "   'properties': {'content': {'title': 'Content',\n",
              "     'anyOf': [{'type': 'string'},\n",
              "      {'type': 'array',\n",
              "       'items': {'anyOf': [{'type': 'string'}, {'type': 'object'}]}}]},\n",
              "    'additional_kwargs': {'title': 'Additional Kwargs', 'type': 'object'},\n",
              "    'response_metadata': {'title': 'Response Metadata', 'type': 'object'},\n",
              "    'type': {'title': 'Type',\n",
              "     'default': 'ai',\n",
              "     'enum': ['ai'],\n",
              "     'type': 'string'},\n",
              "    'name': {'title': 'Name', 'type': 'string'},\n",
              "    'id': {'title': 'Id', 'type': 'string'},\n",
              "    'example': {'title': 'Example', 'default': False, 'type': 'boolean'},\n",
              "    'tool_calls': {'title': 'Tool Calls',\n",
              "     'default': [],\n",
              "     'type': 'array',\n",
              "     'items': {'$ref': '#/definitions/ToolCall'}},\n",
              "    'invalid_tool_calls': {'title': 'Invalid Tool Calls',\n",
              "     'default': [],\n",
              "     'type': 'array',\n",
              "     'items': {'$ref': '#/definitions/InvalidToolCall'}}},\n",
              "   'required': ['content']},\n",
              "  'HumanMessage': {'title': 'HumanMessage',\n",
              "   'description': 'Message from a human.',\n",
              "   'type': 'object',\n",
              "   'properties': {'content': {'title': 'Content',\n",
              "     'anyOf': [{'type': 'string'},\n",
              "      {'type': 'array',\n",
              "       'items': {'anyOf': [{'type': 'string'}, {'type': 'object'}]}}]},\n",
              "    'additional_kwargs': {'title': 'Additional Kwargs', 'type': 'object'},\n",
              "    'response_metadata': {'title': 'Response Metadata', 'type': 'object'},\n",
              "    'type': {'title': 'Type',\n",
              "     'default': 'human',\n",
              "     'enum': ['human'],\n",
              "     'type': 'string'},\n",
              "    'name': {'title': 'Name', 'type': 'string'},\n",
              "    'id': {'title': 'Id', 'type': 'string'},\n",
              "    'example': {'title': 'Example', 'default': False, 'type': 'boolean'}},\n",
              "   'required': ['content']},\n",
              "  'ChatMessage': {'title': 'ChatMessage',\n",
              "   'description': 'Message that can be assigned an arbitrary speaker (i.e. role).',\n",
              "   'type': 'object',\n",
              "   'properties': {'content': {'title': 'Content',\n",
              "     'anyOf': [{'type': 'string'},\n",
              "      {'type': 'array',\n",
              "       'items': {'anyOf': [{'type': 'string'}, {'type': 'object'}]}}]},\n",
              "    'additional_kwargs': {'title': 'Additional Kwargs', 'type': 'object'},\n",
              "    'response_metadata': {'title': 'Response Metadata', 'type': 'object'},\n",
              "    'type': {'title': 'Type',\n",
              "     'default': 'chat',\n",
              "     'enum': ['chat'],\n",
              "     'type': 'string'},\n",
              "    'name': {'title': 'Name', 'type': 'string'},\n",
              "    'id': {'title': 'Id', 'type': 'string'},\n",
              "    'role': {'title': 'Role', 'type': 'string'}},\n",
              "   'required': ['content', 'role']},\n",
              "  'SystemMessage': {'title': 'SystemMessage',\n",
              "   'description': 'Message for priming AI behavior, usually passed in as the first of a sequence\\nof input messages.',\n",
              "   'type': 'object',\n",
              "   'properties': {'content': {'title': 'Content',\n",
              "     'anyOf': [{'type': 'string'},\n",
              "      {'type': 'array',\n",
              "       'items': {'anyOf': [{'type': 'string'}, {'type': 'object'}]}}]},\n",
              "    'additional_kwargs': {'title': 'Additional Kwargs', 'type': 'object'},\n",
              "    'response_metadata': {'title': 'Response Metadata', 'type': 'object'},\n",
              "    'type': {'title': 'Type',\n",
              "     'default': 'system',\n",
              "     'enum': ['system'],\n",
              "     'type': 'string'},\n",
              "    'name': {'title': 'Name', 'type': 'string'},\n",
              "    'id': {'title': 'Id', 'type': 'string'}},\n",
              "   'required': ['content']},\n",
              "  'FunctionMessage': {'title': 'FunctionMessage',\n",
              "   'description': 'Message for passing the result of executing a function back to a model.',\n",
              "   'type': 'object',\n",
              "   'properties': {'content': {'title': 'Content',\n",
              "     'anyOf': [{'type': 'string'},\n",
              "      {'type': 'array',\n",
              "       'items': {'anyOf': [{'type': 'string'}, {'type': 'object'}]}}]},\n",
              "    'additional_kwargs': {'title': 'Additional Kwargs', 'type': 'object'},\n",
              "    'response_metadata': {'title': 'Response Metadata', 'type': 'object'},\n",
              "    'type': {'title': 'Type',\n",
              "     'default': 'function',\n",
              "     'enum': ['function'],\n",
              "     'type': 'string'},\n",
              "    'name': {'title': 'Name', 'type': 'string'},\n",
              "    'id': {'title': 'Id', 'type': 'string'}},\n",
              "   'required': ['content', 'name']},\n",
              "  'ToolMessage': {'title': 'ToolMessage',\n",
              "   'description': 'Message for passing the result of executing a tool back to a model.',\n",
              "   'type': 'object',\n",
              "   'properties': {'content': {'title': 'Content',\n",
              "     'anyOf': [{'type': 'string'},\n",
              "      {'type': 'array',\n",
              "       'items': {'anyOf': [{'type': 'string'}, {'type': 'object'}]}}]},\n",
              "    'additional_kwargs': {'title': 'Additional Kwargs', 'type': 'object'},\n",
              "    'response_metadata': {'title': 'Response Metadata', 'type': 'object'},\n",
              "    'type': {'title': 'Type',\n",
              "     'default': 'tool',\n",
              "     'enum': ['tool'],\n",
              "     'type': 'string'},\n",
              "    'name': {'title': 'Name', 'type': 'string'},\n",
              "    'id': {'title': 'Id', 'type': 'string'},\n",
              "    'tool_call_id': {'title': 'Tool Call Id', 'type': 'string'}},\n",
              "   'required': ['content', 'tool_call_id']},\n",
              "  'ChatPromptValueConcrete': {'title': 'ChatPromptValueConcrete',\n",
              "   'description': 'Chat prompt value which explicitly lists out the message types it accepts.\\nFor use in external schemas.',\n",
              "   'type': 'object',\n",
              "   'properties': {'messages': {'title': 'Messages',\n",
              "     'type': 'array',\n",
              "     'items': {'anyOf': [{'$ref': '#/definitions/AIMessage'},\n",
              "       {'$ref': '#/definitions/HumanMessage'},\n",
              "       {'$ref': '#/definitions/ChatMessage'},\n",
              "       {'$ref': '#/definitions/SystemMessage'},\n",
              "       {'$ref': '#/definitions/FunctionMessage'},\n",
              "       {'$ref': '#/definitions/ToolMessage'}]}},\n",
              "    'type': {'title': 'Type',\n",
              "     'default': 'ChatPromptValueConcrete',\n",
              "     'enum': ['ChatPromptValueConcrete'],\n",
              "     'type': 'string'}},\n",
              "   'required': ['messages']}}}"
            ]
          },
          "metadata": {},
          "execution_count": 21
        }
      ]
    }
  ],
  "metadata": {
    "language_info": {
      "name": "python"
    },
    "colab": {
      "provenance": [],
      "toc_visible": true
    },
    "kernelspec": {
      "name": "python3",
      "display_name": "Python 3"
    }
  },
  "nbformat": 4,
  "nbformat_minor": 0
}