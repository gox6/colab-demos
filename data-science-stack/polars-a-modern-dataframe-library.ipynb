{
  "cells": [
    {
      "cell_type": "markdown",
      "metadata": {
        "id": "OE9ltTAn3Bft"
      },
      "source": [
        "<a target=\"_blank\" href=\"https://colab.research.google.com/github/gox6/colab-demos/blob/main/data-science-stack/polars-a-modern-dataframe-library.ipynb\">\n",
        "  <img src=\"https://colab.research.google.com/assets/colab-badge.svg\" alt=\"Open In Colab\"/>\n",
        "</a>"
      ]
    },
    {
      "cell_type": "markdown",
      "metadata": {
        "id": "Th4snAyoMQt9"
      },
      "source": [
        "<html>\n",
        "<body>\n",
        "    <div style=\"display: flex;\">\n",
        "        <a href=\"https://medium.com/@jgrygolec/polars-a-modern-dataframe-library-dcce43f43f3b\" style=\"width: 45em; height: 15em; background-color: white; padding-left: 1em; display: flex; flex-direction: column; justify-content: center; color: inherit; text-decoration: none;\">\n",
        "            <p style=\"margin: 0; font-size: 1.5em; color: darkblue; font-weight: bold;\">The notebook contains the code for Medium article</p>\n",
        "            <p style=\"margin: 0; font-weight: bold; font-size: 1.5em; color: #3D4849;\">Polars: A Modern DataFrame Library</p>\n",
        "        </a>\n",
        "        <a href=\"https://medium.com/@jgrygolec/polars-a-modern-dataframe-library-dcce43f43f3b\" style=\"width: 15em; height: 15em;\">\n",
        "            <img src=\"https://cdn-images-1.medium.com/max/800/1*Oe1Jsf_23vUOma_2v6z75Q.png\" style=\"width: 100%; height: 100%; object-fit: cover;\">\n",
        "        </a>\n",
        "    </div>\n",
        "</body>\n",
        "</html>"
      ]
    },
    {
      "cell_type": "markdown",
      "metadata": {
        "id": "vmF0y8zEshFD"
      },
      "source": [
        "# Project Setup"
      ]
    },
    {
      "cell_type": "code",
      "execution_count": 24,
      "metadata": {
        "id": "XabXrMzWo9kF"
      },
      "outputs": [
        {
          "name": "stdout",
          "output_type": "stream",
          "text": [
            "\n",
            "\u001b[1m[\u001b[0m\u001b[34;49mnotice\u001b[0m\u001b[1;39;49m]\u001b[0m\u001b[39;49m A new release of pip is available: \u001b[0m\u001b[31;49m23.1.2\u001b[0m\u001b[39;49m -> \u001b[0m\u001b[32;49m24.0\u001b[0m\n",
            "\u001b[1m[\u001b[0m\u001b[34;49mnotice\u001b[0m\u001b[1;39;49m]\u001b[0m\u001b[39;49m To update, run: \u001b[0m\u001b[32;49mpip install --upgrade pip\u001b[0m\n",
            "\n",
            "\u001b[1m[\u001b[0m\u001b[34;49mnotice\u001b[0m\u001b[1;39;49m]\u001b[0m\u001b[39;49m A new release of pip is available: \u001b[0m\u001b[31;49m23.1.2\u001b[0m\u001b[39;49m -> \u001b[0m\u001b[32;49m24.0\u001b[0m\n",
            "\u001b[1m[\u001b[0m\u001b[34;49mnotice\u001b[0m\u001b[1;39;49m]\u001b[0m\u001b[39;49m To update, run: \u001b[0m\u001b[32;49mpip install --upgrade pip\u001b[0m\n"
          ]
        }
      ],
      "source": [
        "# Installing Python packages quietly\n",
        "\n",
        "!pip install --quiet \\\n",
        "  datasets \\\n",
        "  duckdb \\\n",
        "  httpx \\\n",
        "  pandas \\\n",
        "  plotly \\\n",
        "  polars \\\n",
        "  pyarrow \\\n",
        "  pympler \\\n",
        "  1> /dev/null\n",
        "\n",
        "!pip install nbformat 1> /dev/null"
      ]
    },
    {
      "cell_type": "code",
      "execution_count": 25,
      "metadata": {
        "id": "u3-Muf2go9kG"
      },
      "outputs": [],
      "source": [
        "# Importing the packages\n",
        "from io import BytesIO\n",
        "import os\n",
        "from pathlib import Path\n",
        "import time\n",
        "from zipfile import ZipFile\n",
        "\n",
        "from datasets import Dataset\n",
        "import duckdb\n",
        "import httpx\n",
        "import multiprocessing\n",
        "import pandas as pd\n",
        "import plotly.express as px\n",
        "import polars as pl\n",
        "import polars.selectors as cs\n",
        "from pympler import asizeof"
      ]
    },
    {
      "cell_type": "code",
      "execution_count": 3,
      "metadata": {
        "colab": {
          "base_uri": "https://localhost:8080/"
        },
        "id": "4Gaqge6KmLea",
        "outputId": "5da1cf49-bd58-401b-a90e-c9b325da6579"
      },
      "outputs": [
        {
          "name": "stdout",
          "output_type": "stream",
          "text": [
            "Non Colab runtime\n"
          ]
        }
      ],
      "source": [
        "# Managing secrets\n",
        "# - If using Colab please use Colab Secrets\n",
        "# - If running outside Colab please provide secrets as environmental variables\n",
        "COLAB = os.getenv(\"COLAB_RELEASE_TAG\") is not None\n",
        "\n",
        "if COLAB:\n",
        "    from google.colab import userdata, data_table\n",
        "\n",
        "    runtime_info = \"Colab runtime\"\n",
        "\n",
        "    # Enabling Colab's data formatter for pandas\n",
        "    data_table.enable_dataframe_formatter()\n",
        "else:\n",
        "    runtime_info = \"Non Colab runtime\"\n",
        "\n",
        "print(runtime_info)"
      ]
    },
    {
      "cell_type": "markdown",
      "metadata": {},
      "source": [
        "# Interoperability"
      ]
    },
    {
      "cell_type": "code",
      "execution_count": 28,
      "metadata": {},
      "outputs": [
        {
          "name": "stdout",
          "output_type": "stream",
          "text": [
            "shape: (3, 3)\n",
            "┌─────┬──────┬──────────┐\n",
            "│ foo ┆ pi   ┆ greeting │\n",
            "│ --- ┆ ---  ┆ ---      │\n",
            "│ i64 ┆ f64  ┆ str      │\n",
            "╞═════╪══════╪══════════╡\n",
            "│ 1   ┆ 3.14 ┆ Hi       │\n",
            "│ 2   ┆ 3.14 ┆ Hello    │\n",
            "│ 3   ┆ 3.14 ┆ Bye      │\n",
            "└─────┴──────┴──────────┘\n"
          ]
        }
      ],
      "source": [
        "# Creating a Polars DataFrame\n",
        "example = pl.DataFrame(\n",
        "    {\"foo\": [1, 2, 3], \n",
        "    \"pi\": [3.14, 3.14, 3.14],\n",
        "    \"greeting\": [\"Hi\", \"Hello\", \"Bye\"]}\n",
        "    )\n",
        "\n",
        "# From Polars DataFrames to other data structures\n",
        "example_pd = example.to_pandas() # to Pandas\n",
        "example_pa = example.to_arrow() # to PyArrow\n",
        "example_np = example.to_numpy() # to NumPy\n",
        "example_hf = Dataset(example.to_arrow()) # to Hugging Face\n",
        "example_duckdb = duckdb.sql(\"select * from example\") # to DuckDB\n",
        "\n",
        "# From other data structures to Polars DataFrames\n",
        "example_from_pd = pl.from_pandas(example_pd) # from Pandas\n",
        "example_from_pa = pl.from_arrow(example_pa) # from PyArrow\n",
        "example_from_np = pl.from_numpy(example_np) # from NumPy\n",
        "example_from_hf = pl.from_arrow(example_hf.data.table) # from Hugging Face\n",
        "example_from_duckdb =example_duckdb.pl() # from DuckDB"
      ]
    },
    {
      "cell_type": "code",
      "execution_count": 34,
      "metadata": {},
      "outputs": [
        {
          "data": {
            "text/plain": [
              "┌───────┬────────┬──────────┬─────────┐\n",
              "│  foo  │   pi   │ greeting │ foo_max │\n",
              "│ int64 │ double │ varchar  │  int64  │\n",
              "├───────┼────────┼──────────┼─────────┤\n",
              "│     1 │   3.14 │ Hi       │       3 │\n",
              "│     2 │   3.14 │ Hello    │       3 │\n",
              "│     3 │   3.14 │ Bye      │       3 │\n",
              "└───────┴────────┴──────────┴─────────┘"
            ]
          },
          "execution_count": 34,
          "metadata": {},
          "output_type": "execute_result"
        }
      ],
      "source": [
        "duckdb.sql(\"\"\"SELECT \n",
        "                  t1.*, \n",
        "                  max(t1.foo) over() as foo_max \n",
        "              FROM example t1\n",
        "           \"\"\")"
      ]
    },
    {
      "cell_type": "code",
      "execution_count": 33,
      "metadata": {},
      "outputs": [
        {
          "ename": "ComputeError",
          "evalue": "at least one key is required in a group_by operation",
          "output_type": "error",
          "traceback": [
            "\u001b[0;31m---------------------------------------------------------------------------\u001b[0m",
            "\u001b[0;31mComputeError\u001b[0m                              Traceback (most recent call last)",
            "Cell \u001b[0;32mIn[33], line 4\u001b[0m\n\u001b[1;32m      1\u001b[0m res \u001b[38;5;241m=\u001b[39m pl\u001b[38;5;241m.\u001b[39mSQLContext(example\u001b[38;5;241m=\u001b[39mexample)\u001b[38;5;241m.\u001b[39mexecute(\n\u001b[1;32m      2\u001b[0m     \u001b[38;5;124m\"\u001b[39m\u001b[38;5;124mSELECT *, max(foo) over() as foo_max FROM example\u001b[39m\u001b[38;5;124m\"\u001b[39m\n\u001b[1;32m      3\u001b[0m )\n\u001b[0;32m----> 4\u001b[0m \u001b[43mres\u001b[49m\u001b[38;5;241;43m.\u001b[39;49m\u001b[43mcollect\u001b[49m\u001b[43m(\u001b[49m\u001b[43m)\u001b[49m\n",
            "File \u001b[0;32m~/.local/lib/python3.11/site-packages/polars/lazyframe/frame.py:1816\u001b[0m, in \u001b[0;36mLazyFrame.collect\u001b[0;34m(self, type_coercion, predicate_pushdown, projection_pushdown, simplify_expression, slice_pushdown, comm_subplan_elim, comm_subexpr_elim, no_optimization, streaming, background, _eager, **_kwargs)\u001b[0m\n\u001b[1;32m   1813\u001b[0m \u001b[38;5;66;03m# Only for testing purposes atm.\u001b[39;00m\n\u001b[1;32m   1814\u001b[0m callback \u001b[38;5;241m=\u001b[39m _kwargs\u001b[38;5;241m.\u001b[39mget(\u001b[38;5;124m\"\u001b[39m\u001b[38;5;124mpost_opt_callback\u001b[39m\u001b[38;5;124m\"\u001b[39m)\n\u001b[0;32m-> 1816\u001b[0m \u001b[38;5;28;01mreturn\u001b[39;00m wrap_df(\u001b[43mldf\u001b[49m\u001b[38;5;241;43m.\u001b[39;49m\u001b[43mcollect\u001b[49m\u001b[43m(\u001b[49m\u001b[43mcallback\u001b[49m\u001b[43m)\u001b[49m)\n",
            "\u001b[0;31mComputeError\u001b[0m: at least one key is required in a group_by operation"
          ]
        }
      ],
      "source": [
        "res = pl.SQLContext(example=example).execute(\n",
        "    (\"\"\"SELECT \n",
        "                  t1.*, \n",
        "                  max(t1.foo) over() as foo_max \n",
        "              FROM example t1\n",
        "           \"\"\")\n",
        ")\n",
        "res.collect()"
      ]
    },
    {
      "cell_type": "code",
      "execution_count": 4,
      "metadata": {
        "id": "mNzKH9_NrrTb"
      },
      "outputs": [],
      "source": [
        "# Download a zip file into the buffer\n",
        "\n",
        "if not Path(\"./data/MetroPT3(AirCompressor).csv\").exists():\n",
        "    url = \"https://archive.ics.uci.edu/static/public/791/metropt+3+dataset.zip\"\n",
        "    with httpx.Client() as client:\n",
        "        response = client.get(url)\n",
        "        buffer = BytesIO(response.content)\n",
        "\n",
        "    # Unzip into the current directory\n",
        "    with ZipFile(buffer) as zip_ref:\n",
        "        # Extract all files to the current directory\n",
        "        zip_ref.extractall(\"./data/\")"
      ]
    },
    {
      "cell_type": "code",
      "execution_count": 8,
      "metadata": {
        "id": "TuUA_CjwJCcF"
      },
      "outputs": [],
      "source": [
        "# We need to load the data\n",
        "df_pl = pl.read_csv(\"./data/MetroPT3(AirCompressor).csv\", try_parse_dates=True)\n",
        "\n",
        "# It is faster to convert to pandas from polars, than load with pandas\n",
        "df_pd = df_pl.to_pandas()"
      ]
    },
    {
      "cell_type": "code",
      "execution_count": null,
      "metadata": {},
      "outputs": [],
      "source": []
    },
    {
      "cell_type": "code",
      "execution_count": 10,
      "metadata": {},
      "outputs": [
        {
          "data": {
            "text/html": [
              "<div>\n",
              "<style scoped>\n",
              "    .dataframe tbody tr th:only-of-type {\n",
              "        vertical-align: middle;\n",
              "    }\n",
              "\n",
              "    .dataframe tbody tr th {\n",
              "        vertical-align: top;\n",
              "    }\n",
              "\n",
              "    .dataframe thead th {\n",
              "        text-align: right;\n",
              "    }\n",
              "</style>\n",
              "<table border=\"1\" class=\"dataframe\">\n",
              "  <thead>\n",
              "    <tr style=\"text-align: right;\">\n",
              "      <th></th>\n",
              "      <th></th>\n",
              "      <th>timestamp</th>\n",
              "      <th>TP2</th>\n",
              "      <th>TP3</th>\n",
              "      <th>H1</th>\n",
              "      <th>DV_pressure</th>\n",
              "      <th>Reservoirs</th>\n",
              "      <th>Oil_temperature</th>\n",
              "      <th>Motor_current</th>\n",
              "      <th>COMP</th>\n",
              "      <th>DV_eletric</th>\n",
              "      <th>Towers</th>\n",
              "      <th>MPG</th>\n",
              "      <th>LPS</th>\n",
              "      <th>Pressure_switch</th>\n",
              "      <th>Oil_level</th>\n",
              "      <th>Caudal_impulses</th>\n",
              "    </tr>\n",
              "  </thead>\n",
              "  <tbody>\n",
              "    <tr>\n",
              "      <th>0</th>\n",
              "      <td>0</td>\n",
              "      <td>2020-02-01 00:00:00</td>\n",
              "      <td>-0.012</td>\n",
              "      <td>9.358</td>\n",
              "      <td>9.340</td>\n",
              "      <td>-0.024</td>\n",
              "      <td>9.358</td>\n",
              "      <td>53.600</td>\n",
              "      <td>0.0400</td>\n",
              "      <td>1.0</td>\n",
              "      <td>0.0</td>\n",
              "      <td>1.0</td>\n",
              "      <td>1.0</td>\n",
              "      <td>0.0</td>\n",
              "      <td>1.0</td>\n",
              "      <td>1.0</td>\n",
              "      <td>1.0</td>\n",
              "    </tr>\n",
              "    <tr>\n",
              "      <th>1</th>\n",
              "      <td>10</td>\n",
              "      <td>2020-02-01 00:00:10</td>\n",
              "      <td>-0.014</td>\n",
              "      <td>9.348</td>\n",
              "      <td>9.332</td>\n",
              "      <td>-0.022</td>\n",
              "      <td>9.348</td>\n",
              "      <td>53.675</td>\n",
              "      <td>0.0400</td>\n",
              "      <td>1.0</td>\n",
              "      <td>0.0</td>\n",
              "      <td>1.0</td>\n",
              "      <td>1.0</td>\n",
              "      <td>0.0</td>\n",
              "      <td>1.0</td>\n",
              "      <td>1.0</td>\n",
              "      <td>1.0</td>\n",
              "    </tr>\n",
              "    <tr>\n",
              "      <th>2</th>\n",
              "      <td>20</td>\n",
              "      <td>2020-02-01 00:00:19</td>\n",
              "      <td>-0.012</td>\n",
              "      <td>9.338</td>\n",
              "      <td>9.322</td>\n",
              "      <td>-0.022</td>\n",
              "      <td>9.338</td>\n",
              "      <td>53.600</td>\n",
              "      <td>0.0425</td>\n",
              "      <td>1.0</td>\n",
              "      <td>0.0</td>\n",
              "      <td>1.0</td>\n",
              "      <td>1.0</td>\n",
              "      <td>0.0</td>\n",
              "      <td>1.0</td>\n",
              "      <td>1.0</td>\n",
              "      <td>1.0</td>\n",
              "    </tr>\n",
              "    <tr>\n",
              "      <th>3</th>\n",
              "      <td>30</td>\n",
              "      <td>2020-02-01 00:00:29</td>\n",
              "      <td>-0.012</td>\n",
              "      <td>9.328</td>\n",
              "      <td>9.312</td>\n",
              "      <td>-0.022</td>\n",
              "      <td>9.328</td>\n",
              "      <td>53.425</td>\n",
              "      <td>0.0400</td>\n",
              "      <td>1.0</td>\n",
              "      <td>0.0</td>\n",
              "      <td>1.0</td>\n",
              "      <td>1.0</td>\n",
              "      <td>0.0</td>\n",
              "      <td>1.0</td>\n",
              "      <td>1.0</td>\n",
              "      <td>1.0</td>\n",
              "    </tr>\n",
              "    <tr>\n",
              "      <th>4</th>\n",
              "      <td>40</td>\n",
              "      <td>2020-02-01 00:00:39</td>\n",
              "      <td>-0.012</td>\n",
              "      <td>9.318</td>\n",
              "      <td>9.302</td>\n",
              "      <td>-0.022</td>\n",
              "      <td>9.318</td>\n",
              "      <td>53.475</td>\n",
              "      <td>0.0400</td>\n",
              "      <td>1.0</td>\n",
              "      <td>0.0</td>\n",
              "      <td>1.0</td>\n",
              "      <td>1.0</td>\n",
              "      <td>0.0</td>\n",
              "      <td>1.0</td>\n",
              "      <td>1.0</td>\n",
              "      <td>1.0</td>\n",
              "    </tr>\n",
              "  </tbody>\n",
              "</table>\n",
              "</div>"
            ],
            "text/plain": [
              "                timestamp    TP2    TP3     H1  DV_pressure  Reservoirs  \\\n",
              "0   0 2020-02-01 00:00:00 -0.012  9.358  9.340       -0.024       9.358   \n",
              "1  10 2020-02-01 00:00:10 -0.014  9.348  9.332       -0.022       9.348   \n",
              "2  20 2020-02-01 00:00:19 -0.012  9.338  9.322       -0.022       9.338   \n",
              "3  30 2020-02-01 00:00:29 -0.012  9.328  9.312       -0.022       9.328   \n",
              "4  40 2020-02-01 00:00:39 -0.012  9.318  9.302       -0.022       9.318   \n",
              "\n",
              "   Oil_temperature  Motor_current  COMP  DV_eletric  Towers  MPG  LPS  \\\n",
              "0           53.600         0.0400   1.0         0.0     1.0  1.0  0.0   \n",
              "1           53.675         0.0400   1.0         0.0     1.0  1.0  0.0   \n",
              "2           53.600         0.0425   1.0         0.0     1.0  1.0  0.0   \n",
              "3           53.425         0.0400   1.0         0.0     1.0  1.0  0.0   \n",
              "4           53.475         0.0400   1.0         0.0     1.0  1.0  0.0   \n",
              "\n",
              "   Pressure_switch  Oil_level  Caudal_impulses  \n",
              "0              1.0        1.0              1.0  \n",
              "1              1.0        1.0              1.0  \n",
              "2              1.0        1.0              1.0  \n",
              "3              1.0        1.0              1.0  \n",
              "4              1.0        1.0              1.0  "
            ]
          },
          "execution_count": 10,
          "metadata": {},
          "output_type": "execute_result"
        }
      ],
      "source": [
        "df_pd.head(5)"
      ]
    },
    {
      "cell_type": "code",
      "execution_count": 7,
      "metadata": {},
      "outputs": [
        {
          "data": {
            "text/html": [
              "<div><style>\n",
              ".dataframe > thead > tr,\n",
              ".dataframe > tbody > tr {\n",
              "  text-align: right;\n",
              "  white-space: pre-wrap;\n",
              "}\n",
              "</style>\n",
              "<small>shape: (5, 17)</small><table border=\"1\" class=\"dataframe\"><thead><tr><th></th><th>timestamp</th><th>TP2</th><th>TP3</th><th>H1</th><th>DV_pressure</th><th>Reservoirs</th><th>Oil_temperature</th><th>Motor_current</th><th>COMP</th><th>DV_eletric</th><th>Towers</th><th>MPG</th><th>LPS</th><th>Pressure_switch</th><th>Oil_level</th><th>Caudal_impulses</th></tr><tr><td>i64</td><td>str</td><td>f64</td><td>f64</td><td>f64</td><td>f64</td><td>f64</td><td>f64</td><td>f64</td><td>f64</td><td>f64</td><td>f64</td><td>f64</td><td>f64</td><td>f64</td><td>f64</td><td>f64</td></tr></thead><tbody><tr><td>0</td><td>&quot;2020-02-01 00:00:00&quot;</td><td>-0.012</td><td>9.358</td><td>9.34</td><td>-0.024</td><td>9.358</td><td>53.6</td><td>0.04</td><td>1.0</td><td>0.0</td><td>1.0</td><td>1.0</td><td>0.0</td><td>1.0</td><td>1.0</td><td>1.0</td></tr><tr><td>10</td><td>&quot;2020-02-01 00:00:10&quot;</td><td>-0.014</td><td>9.348</td><td>9.332</td><td>-0.022</td><td>9.348</td><td>53.675</td><td>0.04</td><td>1.0</td><td>0.0</td><td>1.0</td><td>1.0</td><td>0.0</td><td>1.0</td><td>1.0</td><td>1.0</td></tr><tr><td>20</td><td>&quot;2020-02-01 00:00:19&quot;</td><td>-0.012</td><td>9.338</td><td>9.322</td><td>-0.022</td><td>9.338</td><td>53.6</td><td>0.0425</td><td>1.0</td><td>0.0</td><td>1.0</td><td>1.0</td><td>0.0</td><td>1.0</td><td>1.0</td><td>1.0</td></tr><tr><td>30</td><td>&quot;2020-02-01 00:00:29&quot;</td><td>-0.012</td><td>9.328</td><td>9.312</td><td>-0.022</td><td>9.328</td><td>53.425</td><td>0.04</td><td>1.0</td><td>0.0</td><td>1.0</td><td>1.0</td><td>0.0</td><td>1.0</td><td>1.0</td><td>1.0</td></tr><tr><td>40</td><td>&quot;2020-02-01 00:00:39&quot;</td><td>-0.012</td><td>9.318</td><td>9.302</td><td>-0.022</td><td>9.318</td><td>53.475</td><td>0.04</td><td>1.0</td><td>0.0</td><td>1.0</td><td>1.0</td><td>0.0</td><td>1.0</td><td>1.0</td><td>1.0</td></tr></tbody></table></div>"
            ],
            "text/plain": [
              "shape: (5, 17)\n",
              "┌─────┬────────────┬────────┬───────┬───┬─────┬─────────────────┬───────────┬─────────────────┐\n",
              "│     ┆ timestamp  ┆ TP2    ┆ TP3   ┆ … ┆ LPS ┆ Pressure_switch ┆ Oil_level ┆ Caudal_impulses │\n",
              "│ --- ┆ ---        ┆ ---    ┆ ---   ┆   ┆ --- ┆ ---             ┆ ---       ┆ ---             │\n",
              "│ i64 ┆ str        ┆ f64    ┆ f64   ┆   ┆ f64 ┆ f64             ┆ f64       ┆ f64             │\n",
              "╞═════╪════════════╪════════╪═══════╪═══╪═════╪═════════════════╪═══════════╪═════════════════╡\n",
              "│ 0   ┆ 2020-02-01 ┆ -0.012 ┆ 9.358 ┆ … ┆ 0.0 ┆ 1.0             ┆ 1.0       ┆ 1.0             │\n",
              "│     ┆ 00:00:00   ┆        ┆       ┆   ┆     ┆                 ┆           ┆                 │\n",
              "│ 10  ┆ 2020-02-01 ┆ -0.014 ┆ 9.348 ┆ … ┆ 0.0 ┆ 1.0             ┆ 1.0       ┆ 1.0             │\n",
              "│     ┆ 00:00:10   ┆        ┆       ┆   ┆     ┆                 ┆           ┆                 │\n",
              "│ 20  ┆ 2020-02-01 ┆ -0.012 ┆ 9.338 ┆ … ┆ 0.0 ┆ 1.0             ┆ 1.0       ┆ 1.0             │\n",
              "│     ┆ 00:00:19   ┆        ┆       ┆   ┆     ┆                 ┆           ┆                 │\n",
              "│ 30  ┆ 2020-02-01 ┆ -0.012 ┆ 9.328 ┆ … ┆ 0.0 ┆ 1.0             ┆ 1.0       ┆ 1.0             │\n",
              "│     ┆ 00:00:29   ┆        ┆       ┆   ┆     ┆                 ┆           ┆                 │\n",
              "│ 40  ┆ 2020-02-01 ┆ -0.012 ┆ 9.318 ┆ … ┆ 0.0 ┆ 1.0             ┆ 1.0       ┆ 1.0             │\n",
              "│     ┆ 00:00:39   ┆        ┆       ┆   ┆     ┆                 ┆           ┆                 │\n",
              "└─────┴────────────┴────────┴───────┴───┴─────┴─────────────────┴───────────┴─────────────────┘"
            ]
          },
          "execution_count": 7,
          "metadata": {},
          "output_type": "execute_result"
        }
      ],
      "source": [
        "df_pl.head(5)"
      ]
    },
    {
      "cell_type": "code",
      "execution_count": 6,
      "metadata": {},
      "outputs": [
        {
          "data": {
            "text/plain": [
              "(1516948, 17)"
            ]
          },
          "execution_count": 6,
          "metadata": {},
          "output_type": "execute_result"
        }
      ],
      "source": [
        "df_pl.shape"
      ]
    },
    {
      "cell_type": "code",
      "execution_count": 6,
      "metadata": {
        "colab": {
          "base_uri": "https://localhost:8080/",
          "height": 380
        },
        "id": "-uMSIH4ZJCcG",
        "outputId": "934eef03-b18e-4a3b-a817-0a589458ee4c"
      },
      "outputs": [
        {
          "data": {
            "text/html": [
              "<div><style>\n",
              ".dataframe > thead > tr,\n",
              ".dataframe > tbody > tr {\n",
              "  text-align: right;\n",
              "  white-space: pre-wrap;\n",
              "}\n",
              "</style>\n",
              "<small>shape: (9, 18)</small><table border=\"1\" class=\"dataframe\"><thead><tr><th>statistic</th><th></th><th>timestamp</th><th>TP2</th><th>TP3</th><th>H1</th><th>DV_pressure</th><th>Reservoirs</th><th>Oil_temperature</th><th>Motor_current</th><th>COMP</th><th>DV_eletric</th><th>Towers</th><th>MPG</th><th>LPS</th><th>Pressure_switch</th><th>Oil_level</th><th>Caudal_impulses</th></tr><tr><td>str</td><td>f64</td><td>str</td><td>f64</td><td>f64</td><td>f64</td><td>f64</td><td>f64</td><td>f64</td><td>f64</td><td>f64</td><td>f64</td><td>f64</td><td>f64</td><td>f64</td><td>f64</td><td>f64</td><td>f64</td></tr></thead><tbody><tr><td>&quot;count&quot;</td><td>1.516948e6</td><td>&quot;1516948&quot;</td><td>1.516948e6</td><td>1.516948e6</td><td>1.516948e6</td><td>1.516948e6</td><td>1.516948e6</td><td>1.516948e6</td><td>1.516948e6</td><td>1.516948e6</td><td>1.516948e6</td><td>1.516948e6</td><td>1.516948e6</td><td>1.516948e6</td><td>1.516948e6</td><td>1.516948e6</td><td>1.516948e6</td></tr><tr><td>&quot;null_count&quot;</td><td>0.0</td><td>&quot;0&quot;</td><td>0.0</td><td>0.0</td><td>0.0</td><td>0.0</td><td>0.0</td><td>0.0</td><td>0.0</td><td>0.0</td><td>0.0</td><td>0.0</td><td>0.0</td><td>0.0</td><td>0.0</td><td>0.0</td><td>0.0</td></tr><tr><td>&quot;mean&quot;</td><td>7.584735e6</td><td>null</td><td>1.367826</td><td>8.984611</td><td>7.568155</td><td>0.055956</td><td>8.985233</td><td>62.644182</td><td>2.050171</td><td>0.836957</td><td>0.160611</td><td>0.919848</td><td>0.832664</td><td>0.00342</td><td>0.991437</td><td>0.904156</td><td>0.937107</td></tr><tr><td>&quot;std&quot;</td><td>4.3791e6</td><td>null</td><td>3.25093</td><td>0.639095</td><td>3.3332</td><td>0.382402</td><td>0.638307</td><td>6.516261</td><td>2.302053</td><td>0.369405</td><td>0.367172</td><td>0.271528</td><td>0.373276</td><td>0.058381</td><td>0.092141</td><td>0.294378</td><td>0.242771</td></tr><tr><td>&quot;min&quot;</td><td>0.0</td><td>&quot;2020-02-01 00:00:00&quot;</td><td>-0.032</td><td>0.73</td><td>-0.036</td><td>-0.032</td><td>0.712</td><td>15.4</td><td>0.02</td><td>0.0</td><td>0.0</td><td>0.0</td><td>0.0</td><td>0.0</td><td>0.0</td><td>0.0</td><td>0.0</td></tr><tr><td>&quot;25%&quot;</td><td>3.79237e6</td><td>null</td><td>-0.014</td><td>8.492</td><td>8.254</td><td>-0.022</td><td>8.494</td><td>57.775</td><td>0.04</td><td>1.0</td><td>0.0</td><td>1.0</td><td>1.0</td><td>0.0</td><td>1.0</td><td>1.0</td><td>1.0</td></tr><tr><td>&quot;50%&quot;</td><td>7.58474e6</td><td>null</td><td>-0.012</td><td>8.96</td><td>8.784</td><td>-0.02</td><td>8.96</td><td>62.7</td><td>0.045</td><td>1.0</td><td>0.0</td><td>1.0</td><td>1.0</td><td>0.0</td><td>1.0</td><td>1.0</td><td>1.0</td></tr><tr><td>&quot;75%&quot;</td><td>1.13771e7</td><td>null</td><td>-0.01</td><td>9.492</td><td>9.374</td><td>-0.018</td><td>9.492</td><td>67.25</td><td>3.8075</td><td>1.0</td><td>0.0</td><td>1.0</td><td>1.0</td><td>0.0</td><td>1.0</td><td>1.0</td><td>1.0</td></tr><tr><td>&quot;max&quot;</td><td>1.516947e7</td><td>&quot;2020-09-01 03:59:50&quot;</td><td>10.676</td><td>10.302</td><td>10.288</td><td>9.844</td><td>10.3</td><td>89.05</td><td>9.295</td><td>1.0</td><td>1.0</td><td>1.0</td><td>1.0</td><td>1.0</td><td>1.0</td><td>1.0</td><td>1.0</td></tr></tbody></table></div>"
            ],
            "text/plain": [
              "shape: (9, 18)\n",
              "┌───────────┬───────────┬───────────┬───────────┬───┬───────────┬───────────┬───────────┬──────────┐\n",
              "│ statistic ┆           ┆ timestamp ┆ TP2       ┆ … ┆ LPS       ┆ Pressure_ ┆ Oil_level ┆ Caudal_i │\n",
              "│ ---       ┆ ---       ┆ ---       ┆ ---       ┆   ┆ ---       ┆ switch    ┆ ---       ┆ mpulses  │\n",
              "│ str       ┆ f64       ┆ str       ┆ f64       ┆   ┆ f64       ┆ ---       ┆ f64       ┆ ---      │\n",
              "│           ┆           ┆           ┆           ┆   ┆           ┆ f64       ┆           ┆ f64      │\n",
              "╞═══════════╪═══════════╪═══════════╪═══════════╪═══╪═══════════╪═══════════╪═══════════╪══════════╡\n",
              "│ count     ┆ 1.516948e ┆ 1516948   ┆ 1.516948e ┆ … ┆ 1.516948e ┆ 1.516948e ┆ 1.516948e ┆ 1.516948 │\n",
              "│           ┆ 6         ┆           ┆ 6         ┆   ┆ 6         ┆ 6         ┆ 6         ┆ e6       │\n",
              "│ null_coun ┆ 0.0       ┆ 0         ┆ 0.0       ┆ … ┆ 0.0       ┆ 0.0       ┆ 0.0       ┆ 0.0      │\n",
              "│ t         ┆           ┆           ┆           ┆   ┆           ┆           ┆           ┆          │\n",
              "│ mean      ┆ 7.584735e ┆ null      ┆ 1.367826  ┆ … ┆ 0.00342   ┆ 0.991437  ┆ 0.904156  ┆ 0.937107 │\n",
              "│           ┆ 6         ┆           ┆           ┆   ┆           ┆           ┆           ┆          │\n",
              "│ std       ┆ 4.3791e6  ┆ null      ┆ 3.25093   ┆ … ┆ 0.058381  ┆ 0.092141  ┆ 0.294378  ┆ 0.242771 │\n",
              "│ min       ┆ 0.0       ┆ 2020-02-0 ┆ -0.032    ┆ … ┆ 0.0       ┆ 0.0       ┆ 0.0       ┆ 0.0      │\n",
              "│           ┆           ┆ 1         ┆           ┆   ┆           ┆           ┆           ┆          │\n",
              "│           ┆           ┆ 00:00:00  ┆           ┆   ┆           ┆           ┆           ┆          │\n",
              "│ 25%       ┆ 3.79237e6 ┆ null      ┆ -0.014    ┆ … ┆ 0.0       ┆ 1.0       ┆ 1.0       ┆ 1.0      │\n",
              "│ 50%       ┆ 7.58474e6 ┆ null      ┆ -0.012    ┆ … ┆ 0.0       ┆ 1.0       ┆ 1.0       ┆ 1.0      │\n",
              "│ 75%       ┆ 1.13771e7 ┆ null      ┆ -0.01     ┆ … ┆ 0.0       ┆ 1.0       ┆ 1.0       ┆ 1.0      │\n",
              "│ max       ┆ 1.516947e ┆ 2020-09-0 ┆ 10.676    ┆ … ┆ 1.0       ┆ 1.0       ┆ 1.0       ┆ 1.0      │\n",
              "│           ┆ 7         ┆ 1         ┆           ┆   ┆           ┆           ┆           ┆          │\n",
              "│           ┆           ┆ 03:59:50  ┆           ┆   ┆           ┆           ┆           ┆          │\n",
              "└───────────┴───────────┴───────────┴───────────┴───┴───────────┴───────────┴───────────┴──────────┘"
            ]
          },
          "execution_count": 6,
          "metadata": {},
          "output_type": "execute_result"
        }
      ],
      "source": [
        "df_pl.describe()"
      ]
    },
    {
      "cell_type": "markdown",
      "metadata": {
        "id": "H8_TJdcpJCcG"
      },
      "source": [
        "# CPU Benchmarking"
      ]
    },
    {
      "cell_type": "code",
      "execution_count": 7,
      "metadata": {
        "id": "4AFxMsgzJCcG"
      },
      "outputs": [],
      "source": [
        "# Function to measure the time it takes to run a function, and store the results\n",
        "\n",
        "\n",
        "def measure_time(func, trials, metadata, container, *args, **kwargs):\n",
        "    # Measure the time it takes to run the function\n",
        "    times = []\n",
        "    for _ in range(trials):\n",
        "        start_time = time.perf_counter()\n",
        "        func(*args, **kwargs)\n",
        "        end_time = time.perf_counter()\n",
        "        times.append(end_time - start_time)\n",
        "\n",
        "    interim = pl.DataFrame(\n",
        "        {\"time\": times, \"package\": metadata[\"package\"], \"task\": metadata[\"task\"]}\n",
        "    )\n",
        "    container = pl.concat([container, interim])\n",
        "\n",
        "    return container"
      ]
    },
    {
      "cell_type": "code",
      "execution_count": 8,
      "metadata": {
        "id": "Fb8RIpIOJCcH"
      },
      "outputs": [],
      "source": [
        "# Defining prerequisites for the benchmarking\n",
        "vars_of_interest = [\n",
        "    \"TP2\",\n",
        "    \"TP3\",\n",
        "    \"H1\",\n",
        "    \"DV_pressure\",\n",
        "    \"Reservoirs\",\n",
        "    \"Oil_temperature\",\n",
        "    \"Motor_current\",\n",
        "]\n",
        "vars_of_interest_pd = {var: \"mean\" for var in vars_of_interest}"
      ]
    },
    {
      "cell_type": "code",
      "execution_count": 9,
      "metadata": {
        "id": "I2J5xudmJCcH"
      },
      "outputs": [],
      "source": [
        "# Defining test functions\n",
        "\n",
        "def read_csv_pl():\n",
        "    return pl.read_csv(\"./data/MetroPT3(AirCompressor).csv\")\n",
        "\n",
        "\n",
        "def read_csv_pd():\n",
        "    return pd.read_csv(\"./data/MetroPT3(AirCompressor).csv\")\n",
        "\n",
        "\n",
        "def describe_pl():\n",
        "    return df_pl.describe()\n",
        "\n",
        "\n",
        "def describe_pd():\n",
        "    return df_pd.describe()\n",
        "\n",
        "\n",
        "def filter_groupby_pl():\n",
        "    return (\n",
        "        df_pl.filter(pl.col(\"COMP\") == pl.lit(1))\n",
        "        .group_by(\"DV_eletric\")\n",
        "        .agg(cs.by_name(vars_of_interest).mean())\n",
        "    )\n",
        "\n",
        "\n",
        "def filter_groupby_pd():\n",
        "    return df_pd[df_pd[\"COMP\"] == 1].groupby(\"DV_eletric\").agg(vars_of_interest_pd)\n",
        "\n",
        "\n",
        "\n",
        "def sort_pl():\n",
        "    return df_pl.sort(by=\"timestamp\")\n",
        "\n",
        "\n",
        "def sort_pd():\n",
        "    return df_pd.sort_values(\"timestamp\")"
      ]
    },
    {
      "cell_type": "code",
      "execution_count": 10,
      "metadata": {
        "id": "LMxyfNo-JCcH"
      },
      "outputs": [],
      "source": [
        "# Prepare the benchmarking container\n",
        "benchmark = pl.DataFrame()\n",
        "\n",
        "# Running the tests\n",
        "benchmark = measure_time(\n",
        "    func=describe_pl,\n",
        "    trials=20,\n",
        "    container=benchmark,\n",
        "    metadata={\"package\": \"polars\", \"task\": \"describe\"},\n",
        ")\n",
        "benchmark = measure_time(\n",
        "    func=describe_pd,\n",
        "    trials=20,\n",
        "    container=benchmark,\n",
        "    metadata={\"package\": \"pandas\", \"task\": \"describe\"},\n",
        ")\n",
        "\n",
        "benchmark = measure_time(\n",
        "    func=read_csv_pl,\n",
        "    trials=20,\n",
        "    container=benchmark,\n",
        "    metadata={\"package\": \"polars\", \"task\": \"read_csv\"},\n",
        ")\n",
        "benchmark = measure_time(\n",
        "    func=read_csv_pd,\n",
        "    trials=20,\n",
        "    container=benchmark,\n",
        "    metadata={\"package\": \"pandas\", \"task\": \"read_csv\"},\n",
        ")\n",
        "\n",
        "benchmark = measure_time(\n",
        "    func=filter_groupby_pl,\n",
        "    trials=20,\n",
        "    container=benchmark,\n",
        "    metadata={\"package\": \"polars\", \"task\": \"filter_groupby\"},\n",
        ")\n",
        "\n",
        "benchmark = measure_time(\n",
        "    func=filter_groupby_pd,\n",
        "    trials=20,\n",
        "    container=benchmark,\n",
        "    metadata={\"package\": \"pandas\", \"task\": \"filter_groupby\"},\n",
        ")\n",
        "\n",
        "\n",
        "benchmark = measure_time(\n",
        "    func=sort_pl,\n",
        "    trials=20,\n",
        "    container=benchmark,\n",
        "    metadata={\"package\": \"polars\", \"task\": \"sort\"},\n",
        ")\n",
        "\n",
        "benchmark = measure_time(\n",
        "    func=sort_pd,\n",
        "    trials=20,\n",
        "    container=benchmark,\n",
        "    metadata={\"package\": \"pandas\", \"task\": \"sort\"},\n",
        ")"
      ]
    },
    {
      "cell_type": "code",
      "execution_count": 11,
      "metadata": {
        "id": "oWB6dwfSJCcH"
      },
      "outputs": [],
      "source": [
        "\n",
        "def plot_benchmark(data, title):\n",
        "\n",
        "    # Group by package and task, calculate mean and standard error\n",
        "    df_grouped = data.group_by([\"package\", \"task\"]).agg(\n",
        "        mean_time=pl.mean(\"time\"),\n",
        "        std_error=pl.std(\"time\"),\n",
        "    ).with_columns(pl.col(\"package\").replace({\"polars\": \"Polars\", \"pandas\": \"Pandas\"}))\n",
        "\n",
        "\n",
        "    # Define the custom order\n",
        "    custom_order = ['read_csv', 'describe', 'filter_groupby', 'sort']\n",
        "    df_order = pl.DataFrame({\n",
        "        'task': custom_order,\n",
        "        'order': list(range(len(custom_order)))\n",
        "    })\n",
        "    df_grouped = df_grouped.join(df_order, on='task')\n",
        "    df_grouped = df_grouped.sort('order')\n",
        "    df_grouped = df_grouped.drop('order')\n",
        "\n",
        "    # Create the bar plot\n",
        "\n",
        "    fig = px.bar(\n",
        "        df_grouped,\n",
        "        x=\"task\",\n",
        "        y=\"mean_time\",\n",
        "        color=\"package\",\n",
        "        color_discrete_map={\"Pandas\": \"#e4048c\", \"Polars\": \"#107cff\"},\n",
        "        barmode=\"group\",\n",
        "        #error_y=\"std_error\",\n",
        "\n",
        "    )\n",
        "\n",
        "    fig.update_layout(\n",
        "        {   \"height\": 630,\n",
        "            \"width\": 1200,\n",
        "            \"plot_bgcolor\": \"rgba(0, 0, 0, 0)\",\n",
        "            \"paper_bgcolor\": \"rgb(37, 50, 59)\",  # dark blue background\n",
        "            \"legend\": {\n",
        "                \"font\": {\"color\": \"white\", \"size\": 25},\n",
        "                \"title_text\": \"\",\n",
        "                \"yanchor\": \"top\",\n",
        "                \"y\": 0.8,\n",
        "                \"xanchor\": \"center\",\n",
        "                \"x\": 0.5,\n",
        "            },  # white legend\n",
        "            \"title\": {\n",
        "                \"text\": title,\n",
        "                \"font\": {\"color\": \"white\", \"size\": 40},  # white title\n",
        "                \"x\": 0.5,  # center title\n",
        "                \"xanchor\": \"center\",  # center title\n",
        "            },\n",
        "            \"margin\": {\"l\": 100, \"r\": 100, \"t\": 100, \"b\": 100},  # increase margins\n",
        "        }\n",
        "    )\n",
        "\n",
        "    # Add text labels\n",
        "    fig.for_each_trace(lambda trace: trace.update(text = [f'{y:.2f}s' for y in trace.y], textposition='outside', textfont=dict(color='white', size=20)))\n",
        "\n",
        "\n",
        "    # Turn off grid lines and set axis labels and title to white\n",
        "    fig.update_xaxes(title_text=\"\", showgrid=False, tickfont=dict(size=20, color='white'))\n",
        "    fig.update_yaxes(title_text=\"\", showticklabels=False, showgrid=False, title_font=dict(size=25, color='white'), tickfont=dict(size=20, color='white'))\n",
        "\n",
        "    # Increase the y-axis range by 10% to create space for the label of the highest bar\n",
        "    max_y = df_grouped['mean_time'].max()\n",
        "    fig.update_yaxes(range=[0, max_y * 1.1])\n",
        "\n",
        "    # Remove lines around bars\n",
        "    fig.update_traces(marker_line_width=0, marker_line_color='rgba(0, 0, 0, 0)')\n",
        "\n",
        "\n",
        "    fig.show()"
      ]
    },
    {
      "cell_type": "code",
      "execution_count": 60,
      "metadata": {
        "colab": {
          "base_uri": "https://localhost:8080/",
          "height": 669
        },
        "id": "HO8AXAoUQHAD",
        "outputId": "94829d0a-5c2c-48c4-ad8c-7a791d234950"
      },
      "outputs": [],
      "source": [
        "def summarize_benchmark(data):\n",
        "    df_grouped = data.group_by([\"package\", \"task\"]).agg(\n",
        "        mean_time=pl.mean(\"time\"),\n",
        "        std_error=pl.std(\"time\"),\n",
        "    ).with_columns(pl.col(\"package\").replace({\"polars\": \"Polars\", \"pandas\": \"Pandas\"}))\n",
        "\n",
        "    df_summary = (df_grouped\n",
        "                    .pivot(index=\"task\", columns=['package'], values='mean_time')\n",
        "                    .rename({\"Polars\": \"polars\", \"Pandas\": \"pandas\"})\n",
        "                    .with_columns([(pl.col('pandas') / pl.col('polars')).alias('pandas_to_polars_ratio'),\n",
        "                                pl.col('pandas').sum().over(1).alias('pandas_total'),\n",
        "                                pl.col('polars').sum().over(1).alias('polars_total'),\n",
        "                                ])\n",
        "                    .with_columns((pl.col('pandas_total') / pl.col('polars_total')).alias('pandas_to_polars_totals_ratio'))\n",
        "\n",
        "    )\n",
        "\n",
        "\n",
        "    print(df_summary)"
      ]
    },
    {
      "cell_type": "code",
      "execution_count": 61,
      "metadata": {},
      "outputs": [
        {
          "data": {
            "application/vnd.plotly.v1+json": {
              "config": {
                "plotlyServerURL": "https://plot.ly"
              },
              "data": [
                {
                  "alignmentgroup": "True",
                  "hovertemplate": "package=Polars<br>task=%{x}<br>mean_time=%{y}<extra></extra>",
                  "legendgroup": "Polars",
                  "marker": {
                    "color": "#107cff",
                    "line": {
                      "color": "rgba(0, 0, 0, 0)",
                      "width": 0
                    },
                    "pattern": {
                      "shape": ""
                    }
                  },
                  "name": "Polars",
                  "offsetgroup": "Polars",
                  "orientation": "v",
                  "showlegend": true,
                  "text": [
                    "0.30s",
                    "0.18s",
                    "0.06s",
                    "0.06s"
                  ],
                  "textfont": {
                    "color": "white",
                    "size": 20
                  },
                  "textposition": "outside",
                  "type": "bar",
                  "x": [
                    "read_csv",
                    "describe",
                    "filter_groupby",
                    "sort"
                  ],
                  "xaxis": "x",
                  "y": [
                    0.3026651489499727,
                    0.17524442595001802,
                    0.06422991200001889,
                    0.06122516099997029
                  ],
                  "yaxis": "y"
                },
                {
                  "alignmentgroup": "True",
                  "hovertemplate": "package=Pandas<br>task=%{x}<br>mean_time=%{y}<extra></extra>",
                  "legendgroup": "Pandas",
                  "marker": {
                    "color": "#e4048c",
                    "line": {
                      "color": "rgba(0, 0, 0, 0)",
                      "width": 0
                    },
                    "pattern": {
                      "shape": ""
                    }
                  },
                  "name": "Pandas",
                  "offsetgroup": "Pandas",
                  "orientation": "v",
                  "showlegend": true,
                  "text": [
                    "5.04s",
                    "0.70s",
                    "0.20s",
                    "0.89s"
                  ],
                  "textfont": {
                    "color": "white",
                    "size": 20
                  },
                  "textposition": "outside",
                  "type": "bar",
                  "x": [
                    "read_csv",
                    "describe",
                    "filter_groupby",
                    "sort"
                  ],
                  "xaxis": "x",
                  "y": [
                    5.0399533439999455,
                    0.6993663573000048,
                    0.2017742333501019,
                    0.8880859224499773
                  ],
                  "yaxis": "y"
                }
              ],
              "layout": {
                "barmode": "group",
                "height": 630,
                "legend": {
                  "font": {
                    "color": "white",
                    "size": 25
                  },
                  "title": {
                    "text": ""
                  },
                  "tracegroupgap": 0,
                  "x": 0.5,
                  "xanchor": "center",
                  "y": 0.8,
                  "yanchor": "top"
                },
                "margin": {
                  "b": 100,
                  "l": 100,
                  "r": 100,
                  "t": 100
                },
                "paper_bgcolor": "rgb(37, 50, 59)",
                "plot_bgcolor": "rgba(0, 0, 0, 0)",
                "template": {
                  "data": {
                    "bar": [
                      {
                        "error_x": {
                          "color": "#2a3f5f"
                        },
                        "error_y": {
                          "color": "#2a3f5f"
                        },
                        "marker": {
                          "line": {
                            "color": "#E5ECF6",
                            "width": 0.5
                          },
                          "pattern": {
                            "fillmode": "overlay",
                            "size": 10,
                            "solidity": 0.2
                          }
                        },
                        "type": "bar"
                      }
                    ],
                    "barpolar": [
                      {
                        "marker": {
                          "line": {
                            "color": "#E5ECF6",
                            "width": 0.5
                          },
                          "pattern": {
                            "fillmode": "overlay",
                            "size": 10,
                            "solidity": 0.2
                          }
                        },
                        "type": "barpolar"
                      }
                    ],
                    "carpet": [
                      {
                        "aaxis": {
                          "endlinecolor": "#2a3f5f",
                          "gridcolor": "white",
                          "linecolor": "white",
                          "minorgridcolor": "white",
                          "startlinecolor": "#2a3f5f"
                        },
                        "baxis": {
                          "endlinecolor": "#2a3f5f",
                          "gridcolor": "white",
                          "linecolor": "white",
                          "minorgridcolor": "white",
                          "startlinecolor": "#2a3f5f"
                        },
                        "type": "carpet"
                      }
                    ],
                    "choropleth": [
                      {
                        "colorbar": {
                          "outlinewidth": 0,
                          "ticks": ""
                        },
                        "type": "choropleth"
                      }
                    ],
                    "contour": [
                      {
                        "colorbar": {
                          "outlinewidth": 0,
                          "ticks": ""
                        },
                        "colorscale": [
                          [
                            0,
                            "#0d0887"
                          ],
                          [
                            0.1111111111111111,
                            "#46039f"
                          ],
                          [
                            0.2222222222222222,
                            "#7201a8"
                          ],
                          [
                            0.3333333333333333,
                            "#9c179e"
                          ],
                          [
                            0.4444444444444444,
                            "#bd3786"
                          ],
                          [
                            0.5555555555555556,
                            "#d8576b"
                          ],
                          [
                            0.6666666666666666,
                            "#ed7953"
                          ],
                          [
                            0.7777777777777778,
                            "#fb9f3a"
                          ],
                          [
                            0.8888888888888888,
                            "#fdca26"
                          ],
                          [
                            1,
                            "#f0f921"
                          ]
                        ],
                        "type": "contour"
                      }
                    ],
                    "contourcarpet": [
                      {
                        "colorbar": {
                          "outlinewidth": 0,
                          "ticks": ""
                        },
                        "type": "contourcarpet"
                      }
                    ],
                    "heatmap": [
                      {
                        "colorbar": {
                          "outlinewidth": 0,
                          "ticks": ""
                        },
                        "colorscale": [
                          [
                            0,
                            "#0d0887"
                          ],
                          [
                            0.1111111111111111,
                            "#46039f"
                          ],
                          [
                            0.2222222222222222,
                            "#7201a8"
                          ],
                          [
                            0.3333333333333333,
                            "#9c179e"
                          ],
                          [
                            0.4444444444444444,
                            "#bd3786"
                          ],
                          [
                            0.5555555555555556,
                            "#d8576b"
                          ],
                          [
                            0.6666666666666666,
                            "#ed7953"
                          ],
                          [
                            0.7777777777777778,
                            "#fb9f3a"
                          ],
                          [
                            0.8888888888888888,
                            "#fdca26"
                          ],
                          [
                            1,
                            "#f0f921"
                          ]
                        ],
                        "type": "heatmap"
                      }
                    ],
                    "heatmapgl": [
                      {
                        "colorbar": {
                          "outlinewidth": 0,
                          "ticks": ""
                        },
                        "colorscale": [
                          [
                            0,
                            "#0d0887"
                          ],
                          [
                            0.1111111111111111,
                            "#46039f"
                          ],
                          [
                            0.2222222222222222,
                            "#7201a8"
                          ],
                          [
                            0.3333333333333333,
                            "#9c179e"
                          ],
                          [
                            0.4444444444444444,
                            "#bd3786"
                          ],
                          [
                            0.5555555555555556,
                            "#d8576b"
                          ],
                          [
                            0.6666666666666666,
                            "#ed7953"
                          ],
                          [
                            0.7777777777777778,
                            "#fb9f3a"
                          ],
                          [
                            0.8888888888888888,
                            "#fdca26"
                          ],
                          [
                            1,
                            "#f0f921"
                          ]
                        ],
                        "type": "heatmapgl"
                      }
                    ],
                    "histogram": [
                      {
                        "marker": {
                          "pattern": {
                            "fillmode": "overlay",
                            "size": 10,
                            "solidity": 0.2
                          }
                        },
                        "type": "histogram"
                      }
                    ],
                    "histogram2d": [
                      {
                        "colorbar": {
                          "outlinewidth": 0,
                          "ticks": ""
                        },
                        "colorscale": [
                          [
                            0,
                            "#0d0887"
                          ],
                          [
                            0.1111111111111111,
                            "#46039f"
                          ],
                          [
                            0.2222222222222222,
                            "#7201a8"
                          ],
                          [
                            0.3333333333333333,
                            "#9c179e"
                          ],
                          [
                            0.4444444444444444,
                            "#bd3786"
                          ],
                          [
                            0.5555555555555556,
                            "#d8576b"
                          ],
                          [
                            0.6666666666666666,
                            "#ed7953"
                          ],
                          [
                            0.7777777777777778,
                            "#fb9f3a"
                          ],
                          [
                            0.8888888888888888,
                            "#fdca26"
                          ],
                          [
                            1,
                            "#f0f921"
                          ]
                        ],
                        "type": "histogram2d"
                      }
                    ],
                    "histogram2dcontour": [
                      {
                        "colorbar": {
                          "outlinewidth": 0,
                          "ticks": ""
                        },
                        "colorscale": [
                          [
                            0,
                            "#0d0887"
                          ],
                          [
                            0.1111111111111111,
                            "#46039f"
                          ],
                          [
                            0.2222222222222222,
                            "#7201a8"
                          ],
                          [
                            0.3333333333333333,
                            "#9c179e"
                          ],
                          [
                            0.4444444444444444,
                            "#bd3786"
                          ],
                          [
                            0.5555555555555556,
                            "#d8576b"
                          ],
                          [
                            0.6666666666666666,
                            "#ed7953"
                          ],
                          [
                            0.7777777777777778,
                            "#fb9f3a"
                          ],
                          [
                            0.8888888888888888,
                            "#fdca26"
                          ],
                          [
                            1,
                            "#f0f921"
                          ]
                        ],
                        "type": "histogram2dcontour"
                      }
                    ],
                    "mesh3d": [
                      {
                        "colorbar": {
                          "outlinewidth": 0,
                          "ticks": ""
                        },
                        "type": "mesh3d"
                      }
                    ],
                    "parcoords": [
                      {
                        "line": {
                          "colorbar": {
                            "outlinewidth": 0,
                            "ticks": ""
                          }
                        },
                        "type": "parcoords"
                      }
                    ],
                    "pie": [
                      {
                        "automargin": true,
                        "type": "pie"
                      }
                    ],
                    "scatter": [
                      {
                        "fillpattern": {
                          "fillmode": "overlay",
                          "size": 10,
                          "solidity": 0.2
                        },
                        "type": "scatter"
                      }
                    ],
                    "scatter3d": [
                      {
                        "line": {
                          "colorbar": {
                            "outlinewidth": 0,
                            "ticks": ""
                          }
                        },
                        "marker": {
                          "colorbar": {
                            "outlinewidth": 0,
                            "ticks": ""
                          }
                        },
                        "type": "scatter3d"
                      }
                    ],
                    "scattercarpet": [
                      {
                        "marker": {
                          "colorbar": {
                            "outlinewidth": 0,
                            "ticks": ""
                          }
                        },
                        "type": "scattercarpet"
                      }
                    ],
                    "scattergeo": [
                      {
                        "marker": {
                          "colorbar": {
                            "outlinewidth": 0,
                            "ticks": ""
                          }
                        },
                        "type": "scattergeo"
                      }
                    ],
                    "scattergl": [
                      {
                        "marker": {
                          "colorbar": {
                            "outlinewidth": 0,
                            "ticks": ""
                          }
                        },
                        "type": "scattergl"
                      }
                    ],
                    "scattermapbox": [
                      {
                        "marker": {
                          "colorbar": {
                            "outlinewidth": 0,
                            "ticks": ""
                          }
                        },
                        "type": "scattermapbox"
                      }
                    ],
                    "scatterpolar": [
                      {
                        "marker": {
                          "colorbar": {
                            "outlinewidth": 0,
                            "ticks": ""
                          }
                        },
                        "type": "scatterpolar"
                      }
                    ],
                    "scatterpolargl": [
                      {
                        "marker": {
                          "colorbar": {
                            "outlinewidth": 0,
                            "ticks": ""
                          }
                        },
                        "type": "scatterpolargl"
                      }
                    ],
                    "scatterternary": [
                      {
                        "marker": {
                          "colorbar": {
                            "outlinewidth": 0,
                            "ticks": ""
                          }
                        },
                        "type": "scatterternary"
                      }
                    ],
                    "surface": [
                      {
                        "colorbar": {
                          "outlinewidth": 0,
                          "ticks": ""
                        },
                        "colorscale": [
                          [
                            0,
                            "#0d0887"
                          ],
                          [
                            0.1111111111111111,
                            "#46039f"
                          ],
                          [
                            0.2222222222222222,
                            "#7201a8"
                          ],
                          [
                            0.3333333333333333,
                            "#9c179e"
                          ],
                          [
                            0.4444444444444444,
                            "#bd3786"
                          ],
                          [
                            0.5555555555555556,
                            "#d8576b"
                          ],
                          [
                            0.6666666666666666,
                            "#ed7953"
                          ],
                          [
                            0.7777777777777778,
                            "#fb9f3a"
                          ],
                          [
                            0.8888888888888888,
                            "#fdca26"
                          ],
                          [
                            1,
                            "#f0f921"
                          ]
                        ],
                        "type": "surface"
                      }
                    ],
                    "table": [
                      {
                        "cells": {
                          "fill": {
                            "color": "#EBF0F8"
                          },
                          "line": {
                            "color": "white"
                          }
                        },
                        "header": {
                          "fill": {
                            "color": "#C8D4E3"
                          },
                          "line": {
                            "color": "white"
                          }
                        },
                        "type": "table"
                      }
                    ]
                  },
                  "layout": {
                    "annotationdefaults": {
                      "arrowcolor": "#2a3f5f",
                      "arrowhead": 0,
                      "arrowwidth": 1
                    },
                    "autotypenumbers": "strict",
                    "coloraxis": {
                      "colorbar": {
                        "outlinewidth": 0,
                        "ticks": ""
                      }
                    },
                    "colorscale": {
                      "diverging": [
                        [
                          0,
                          "#8e0152"
                        ],
                        [
                          0.1,
                          "#c51b7d"
                        ],
                        [
                          0.2,
                          "#de77ae"
                        ],
                        [
                          0.3,
                          "#f1b6da"
                        ],
                        [
                          0.4,
                          "#fde0ef"
                        ],
                        [
                          0.5,
                          "#f7f7f7"
                        ],
                        [
                          0.6,
                          "#e6f5d0"
                        ],
                        [
                          0.7,
                          "#b8e186"
                        ],
                        [
                          0.8,
                          "#7fbc41"
                        ],
                        [
                          0.9,
                          "#4d9221"
                        ],
                        [
                          1,
                          "#276419"
                        ]
                      ],
                      "sequential": [
                        [
                          0,
                          "#0d0887"
                        ],
                        [
                          0.1111111111111111,
                          "#46039f"
                        ],
                        [
                          0.2222222222222222,
                          "#7201a8"
                        ],
                        [
                          0.3333333333333333,
                          "#9c179e"
                        ],
                        [
                          0.4444444444444444,
                          "#bd3786"
                        ],
                        [
                          0.5555555555555556,
                          "#d8576b"
                        ],
                        [
                          0.6666666666666666,
                          "#ed7953"
                        ],
                        [
                          0.7777777777777778,
                          "#fb9f3a"
                        ],
                        [
                          0.8888888888888888,
                          "#fdca26"
                        ],
                        [
                          1,
                          "#f0f921"
                        ]
                      ],
                      "sequentialminus": [
                        [
                          0,
                          "#0d0887"
                        ],
                        [
                          0.1111111111111111,
                          "#46039f"
                        ],
                        [
                          0.2222222222222222,
                          "#7201a8"
                        ],
                        [
                          0.3333333333333333,
                          "#9c179e"
                        ],
                        [
                          0.4444444444444444,
                          "#bd3786"
                        ],
                        [
                          0.5555555555555556,
                          "#d8576b"
                        ],
                        [
                          0.6666666666666666,
                          "#ed7953"
                        ],
                        [
                          0.7777777777777778,
                          "#fb9f3a"
                        ],
                        [
                          0.8888888888888888,
                          "#fdca26"
                        ],
                        [
                          1,
                          "#f0f921"
                        ]
                      ]
                    },
                    "colorway": [
                      "#636efa",
                      "#EF553B",
                      "#00cc96",
                      "#ab63fa",
                      "#FFA15A",
                      "#19d3f3",
                      "#FF6692",
                      "#B6E880",
                      "#FF97FF",
                      "#FECB52"
                    ],
                    "font": {
                      "color": "#2a3f5f"
                    },
                    "geo": {
                      "bgcolor": "white",
                      "lakecolor": "white",
                      "landcolor": "#E5ECF6",
                      "showlakes": true,
                      "showland": true,
                      "subunitcolor": "white"
                    },
                    "hoverlabel": {
                      "align": "left"
                    },
                    "hovermode": "closest",
                    "mapbox": {
                      "style": "light"
                    },
                    "paper_bgcolor": "white",
                    "plot_bgcolor": "#E5ECF6",
                    "polar": {
                      "angularaxis": {
                        "gridcolor": "white",
                        "linecolor": "white",
                        "ticks": ""
                      },
                      "bgcolor": "#E5ECF6",
                      "radialaxis": {
                        "gridcolor": "white",
                        "linecolor": "white",
                        "ticks": ""
                      }
                    },
                    "scene": {
                      "xaxis": {
                        "backgroundcolor": "#E5ECF6",
                        "gridcolor": "white",
                        "gridwidth": 2,
                        "linecolor": "white",
                        "showbackground": true,
                        "ticks": "",
                        "zerolinecolor": "white"
                      },
                      "yaxis": {
                        "backgroundcolor": "#E5ECF6",
                        "gridcolor": "white",
                        "gridwidth": 2,
                        "linecolor": "white",
                        "showbackground": true,
                        "ticks": "",
                        "zerolinecolor": "white"
                      },
                      "zaxis": {
                        "backgroundcolor": "#E5ECF6",
                        "gridcolor": "white",
                        "gridwidth": 2,
                        "linecolor": "white",
                        "showbackground": true,
                        "ticks": "",
                        "zerolinecolor": "white"
                      }
                    },
                    "shapedefaults": {
                      "line": {
                        "color": "#2a3f5f"
                      }
                    },
                    "ternary": {
                      "aaxis": {
                        "gridcolor": "white",
                        "linecolor": "white",
                        "ticks": ""
                      },
                      "baxis": {
                        "gridcolor": "white",
                        "linecolor": "white",
                        "ticks": ""
                      },
                      "bgcolor": "#E5ECF6",
                      "caxis": {
                        "gridcolor": "white",
                        "linecolor": "white",
                        "ticks": ""
                      }
                    },
                    "title": {
                      "x": 0.05
                    },
                    "xaxis": {
                      "automargin": true,
                      "gridcolor": "white",
                      "linecolor": "white",
                      "ticks": "",
                      "title": {
                        "standoff": 15
                      },
                      "zerolinecolor": "white",
                      "zerolinewidth": 2
                    },
                    "yaxis": {
                      "automargin": true,
                      "gridcolor": "white",
                      "linecolor": "white",
                      "ticks": "",
                      "title": {
                        "standoff": 15
                      },
                      "zerolinecolor": "white",
                      "zerolinewidth": 2
                    }
                  }
                },
                "title": {
                  "font": {
                    "color": "white",
                    "size": 40
                  },
                  "text": "Benchmarking Wall Time <br><sup>Compute: Macbook Pro 2018 with 12 cores</sup>",
                  "x": 0.5,
                  "xanchor": "center"
                },
                "width": 1200,
                "xaxis": {
                  "anchor": "y",
                  "domain": [
                    0,
                    1
                  ],
                  "showgrid": false,
                  "tickfont": {
                    "color": "white",
                    "size": 20
                  },
                  "title": {
                    "text": ""
                  }
                },
                "yaxis": {
                  "anchor": "x",
                  "domain": [
                    0,
                    1
                  ],
                  "range": [
                    0,
                    5.543948678399941
                  ],
                  "showgrid": false,
                  "showticklabels": false,
                  "tickfont": {
                    "color": "white",
                    "size": 20
                  },
                  "title": {
                    "font": {
                      "color": "white",
                      "size": 25
                    },
                    "text": ""
                  }
                }
              }
            },
            "text/html": [
              "<div>                            <div id=\"3270aaf4-fcf7-42e5-98a3-b155a006ca5a\" class=\"plotly-graph-div\" style=\"height:630px; width:1200px;\"></div>            <script type=\"text/javascript\">                require([\"plotly\"], function(Plotly) {                    window.PLOTLYENV=window.PLOTLYENV || {};                                    if (document.getElementById(\"3270aaf4-fcf7-42e5-98a3-b155a006ca5a\")) {                    Plotly.newPlot(                        \"3270aaf4-fcf7-42e5-98a3-b155a006ca5a\",                        [{\"alignmentgroup\":\"True\",\"hovertemplate\":\"package=Polars\\u003cbr\\u003etask=%{x}\\u003cbr\\u003emean_time=%{y}\\u003cextra\\u003e\\u003c\\u002fextra\\u003e\",\"legendgroup\":\"Polars\",\"marker\":{\"color\":\"#107cff\",\"pattern\":{\"shape\":\"\"},\"line\":{\"color\":\"rgba(0, 0, 0, 0)\",\"width\":0}},\"name\":\"Polars\",\"offsetgroup\":\"Polars\",\"orientation\":\"v\",\"showlegend\":true,\"textposition\":\"outside\",\"x\":[\"read_csv\",\"describe\",\"filter_groupby\",\"sort\"],\"xaxis\":\"x\",\"y\":[0.3026651489499727,0.17524442595001802,0.06422991200001889,0.06122516099997029],\"yaxis\":\"y\",\"type\":\"bar\",\"textfont\":{\"color\":\"white\",\"size\":20},\"text\":[\"0.30s\",\"0.18s\",\"0.06s\",\"0.06s\"]},{\"alignmentgroup\":\"True\",\"hovertemplate\":\"package=Pandas\\u003cbr\\u003etask=%{x}\\u003cbr\\u003emean_time=%{y}\\u003cextra\\u003e\\u003c\\u002fextra\\u003e\",\"legendgroup\":\"Pandas\",\"marker\":{\"color\":\"#e4048c\",\"pattern\":{\"shape\":\"\"},\"line\":{\"color\":\"rgba(0, 0, 0, 0)\",\"width\":0}},\"name\":\"Pandas\",\"offsetgroup\":\"Pandas\",\"orientation\":\"v\",\"showlegend\":true,\"textposition\":\"outside\",\"x\":[\"read_csv\",\"describe\",\"filter_groupby\",\"sort\"],\"xaxis\":\"x\",\"y\":[5.0399533439999455,0.6993663573000048,0.2017742333501019,0.8880859224499773],\"yaxis\":\"y\",\"type\":\"bar\",\"textfont\":{\"color\":\"white\",\"size\":20},\"text\":[\"5.04s\",\"0.70s\",\"0.20s\",\"0.89s\"]}],                        {\"template\":{\"data\":{\"histogram2dcontour\":[{\"type\":\"histogram2dcontour\",\"colorbar\":{\"outlinewidth\":0,\"ticks\":\"\"},\"colorscale\":[[0.0,\"#0d0887\"],[0.1111111111111111,\"#46039f\"],[0.2222222222222222,\"#7201a8\"],[0.3333333333333333,\"#9c179e\"],[0.4444444444444444,\"#bd3786\"],[0.5555555555555556,\"#d8576b\"],[0.6666666666666666,\"#ed7953\"],[0.7777777777777778,\"#fb9f3a\"],[0.8888888888888888,\"#fdca26\"],[1.0,\"#f0f921\"]]}],\"choropleth\":[{\"type\":\"choropleth\",\"colorbar\":{\"outlinewidth\":0,\"ticks\":\"\"}}],\"histogram2d\":[{\"type\":\"histogram2d\",\"colorbar\":{\"outlinewidth\":0,\"ticks\":\"\"},\"colorscale\":[[0.0,\"#0d0887\"],[0.1111111111111111,\"#46039f\"],[0.2222222222222222,\"#7201a8\"],[0.3333333333333333,\"#9c179e\"],[0.4444444444444444,\"#bd3786\"],[0.5555555555555556,\"#d8576b\"],[0.6666666666666666,\"#ed7953\"],[0.7777777777777778,\"#fb9f3a\"],[0.8888888888888888,\"#fdca26\"],[1.0,\"#f0f921\"]]}],\"heatmap\":[{\"type\":\"heatmap\",\"colorbar\":{\"outlinewidth\":0,\"ticks\":\"\"},\"colorscale\":[[0.0,\"#0d0887\"],[0.1111111111111111,\"#46039f\"],[0.2222222222222222,\"#7201a8\"],[0.3333333333333333,\"#9c179e\"],[0.4444444444444444,\"#bd3786\"],[0.5555555555555556,\"#d8576b\"],[0.6666666666666666,\"#ed7953\"],[0.7777777777777778,\"#fb9f3a\"],[0.8888888888888888,\"#fdca26\"],[1.0,\"#f0f921\"]]}],\"heatmapgl\":[{\"type\":\"heatmapgl\",\"colorbar\":{\"outlinewidth\":0,\"ticks\":\"\"},\"colorscale\":[[0.0,\"#0d0887\"],[0.1111111111111111,\"#46039f\"],[0.2222222222222222,\"#7201a8\"],[0.3333333333333333,\"#9c179e\"],[0.4444444444444444,\"#bd3786\"],[0.5555555555555556,\"#d8576b\"],[0.6666666666666666,\"#ed7953\"],[0.7777777777777778,\"#fb9f3a\"],[0.8888888888888888,\"#fdca26\"],[1.0,\"#f0f921\"]]}],\"contourcarpet\":[{\"type\":\"contourcarpet\",\"colorbar\":{\"outlinewidth\":0,\"ticks\":\"\"}}],\"contour\":[{\"type\":\"contour\",\"colorbar\":{\"outlinewidth\":0,\"ticks\":\"\"},\"colorscale\":[[0.0,\"#0d0887\"],[0.1111111111111111,\"#46039f\"],[0.2222222222222222,\"#7201a8\"],[0.3333333333333333,\"#9c179e\"],[0.4444444444444444,\"#bd3786\"],[0.5555555555555556,\"#d8576b\"],[0.6666666666666666,\"#ed7953\"],[0.7777777777777778,\"#fb9f3a\"],[0.8888888888888888,\"#fdca26\"],[1.0,\"#f0f921\"]]}],\"surface\":[{\"type\":\"surface\",\"colorbar\":{\"outlinewidth\":0,\"ticks\":\"\"},\"colorscale\":[[0.0,\"#0d0887\"],[0.1111111111111111,\"#46039f\"],[0.2222222222222222,\"#7201a8\"],[0.3333333333333333,\"#9c179e\"],[0.4444444444444444,\"#bd3786\"],[0.5555555555555556,\"#d8576b\"],[0.6666666666666666,\"#ed7953\"],[0.7777777777777778,\"#fb9f3a\"],[0.8888888888888888,\"#fdca26\"],[1.0,\"#f0f921\"]]}],\"mesh3d\":[{\"type\":\"mesh3d\",\"colorbar\":{\"outlinewidth\":0,\"ticks\":\"\"}}],\"scatter\":[{\"fillpattern\":{\"fillmode\":\"overlay\",\"size\":10,\"solidity\":0.2},\"type\":\"scatter\"}],\"parcoords\":[{\"type\":\"parcoords\",\"line\":{\"colorbar\":{\"outlinewidth\":0,\"ticks\":\"\"}}}],\"scatterpolargl\":[{\"type\":\"scatterpolargl\",\"marker\":{\"colorbar\":{\"outlinewidth\":0,\"ticks\":\"\"}}}],\"bar\":[{\"error_x\":{\"color\":\"#2a3f5f\"},\"error_y\":{\"color\":\"#2a3f5f\"},\"marker\":{\"line\":{\"color\":\"#E5ECF6\",\"width\":0.5},\"pattern\":{\"fillmode\":\"overlay\",\"size\":10,\"solidity\":0.2}},\"type\":\"bar\"}],\"scattergeo\":[{\"type\":\"scattergeo\",\"marker\":{\"colorbar\":{\"outlinewidth\":0,\"ticks\":\"\"}}}],\"scatterpolar\":[{\"type\":\"scatterpolar\",\"marker\":{\"colorbar\":{\"outlinewidth\":0,\"ticks\":\"\"}}}],\"histogram\":[{\"marker\":{\"pattern\":{\"fillmode\":\"overlay\",\"size\":10,\"solidity\":0.2}},\"type\":\"histogram\"}],\"scattergl\":[{\"type\":\"scattergl\",\"marker\":{\"colorbar\":{\"outlinewidth\":0,\"ticks\":\"\"}}}],\"scatter3d\":[{\"type\":\"scatter3d\",\"line\":{\"colorbar\":{\"outlinewidth\":0,\"ticks\":\"\"}},\"marker\":{\"colorbar\":{\"outlinewidth\":0,\"ticks\":\"\"}}}],\"scattermapbox\":[{\"type\":\"scattermapbox\",\"marker\":{\"colorbar\":{\"outlinewidth\":0,\"ticks\":\"\"}}}],\"scatterternary\":[{\"type\":\"scatterternary\",\"marker\":{\"colorbar\":{\"outlinewidth\":0,\"ticks\":\"\"}}}],\"scattercarpet\":[{\"type\":\"scattercarpet\",\"marker\":{\"colorbar\":{\"outlinewidth\":0,\"ticks\":\"\"}}}],\"carpet\":[{\"aaxis\":{\"endlinecolor\":\"#2a3f5f\",\"gridcolor\":\"white\",\"linecolor\":\"white\",\"minorgridcolor\":\"white\",\"startlinecolor\":\"#2a3f5f\"},\"baxis\":{\"endlinecolor\":\"#2a3f5f\",\"gridcolor\":\"white\",\"linecolor\":\"white\",\"minorgridcolor\":\"white\",\"startlinecolor\":\"#2a3f5f\"},\"type\":\"carpet\"}],\"table\":[{\"cells\":{\"fill\":{\"color\":\"#EBF0F8\"},\"line\":{\"color\":\"white\"}},\"header\":{\"fill\":{\"color\":\"#C8D4E3\"},\"line\":{\"color\":\"white\"}},\"type\":\"table\"}],\"barpolar\":[{\"marker\":{\"line\":{\"color\":\"#E5ECF6\",\"width\":0.5},\"pattern\":{\"fillmode\":\"overlay\",\"size\":10,\"solidity\":0.2}},\"type\":\"barpolar\"}],\"pie\":[{\"automargin\":true,\"type\":\"pie\"}]},\"layout\":{\"autotypenumbers\":\"strict\",\"colorway\":[\"#636efa\",\"#EF553B\",\"#00cc96\",\"#ab63fa\",\"#FFA15A\",\"#19d3f3\",\"#FF6692\",\"#B6E880\",\"#FF97FF\",\"#FECB52\"],\"font\":{\"color\":\"#2a3f5f\"},\"hovermode\":\"closest\",\"hoverlabel\":{\"align\":\"left\"},\"paper_bgcolor\":\"white\",\"plot_bgcolor\":\"#E5ECF6\",\"polar\":{\"bgcolor\":\"#E5ECF6\",\"angularaxis\":{\"gridcolor\":\"white\",\"linecolor\":\"white\",\"ticks\":\"\"},\"radialaxis\":{\"gridcolor\":\"white\",\"linecolor\":\"white\",\"ticks\":\"\"}},\"ternary\":{\"bgcolor\":\"#E5ECF6\",\"aaxis\":{\"gridcolor\":\"white\",\"linecolor\":\"white\",\"ticks\":\"\"},\"baxis\":{\"gridcolor\":\"white\",\"linecolor\":\"white\",\"ticks\":\"\"},\"caxis\":{\"gridcolor\":\"white\",\"linecolor\":\"white\",\"ticks\":\"\"}},\"coloraxis\":{\"colorbar\":{\"outlinewidth\":0,\"ticks\":\"\"}},\"colorscale\":{\"sequential\":[[0.0,\"#0d0887\"],[0.1111111111111111,\"#46039f\"],[0.2222222222222222,\"#7201a8\"],[0.3333333333333333,\"#9c179e\"],[0.4444444444444444,\"#bd3786\"],[0.5555555555555556,\"#d8576b\"],[0.6666666666666666,\"#ed7953\"],[0.7777777777777778,\"#fb9f3a\"],[0.8888888888888888,\"#fdca26\"],[1.0,\"#f0f921\"]],\"sequentialminus\":[[0.0,\"#0d0887\"],[0.1111111111111111,\"#46039f\"],[0.2222222222222222,\"#7201a8\"],[0.3333333333333333,\"#9c179e\"],[0.4444444444444444,\"#bd3786\"],[0.5555555555555556,\"#d8576b\"],[0.6666666666666666,\"#ed7953\"],[0.7777777777777778,\"#fb9f3a\"],[0.8888888888888888,\"#fdca26\"],[1.0,\"#f0f921\"]],\"diverging\":[[0,\"#8e0152\"],[0.1,\"#c51b7d\"],[0.2,\"#de77ae\"],[0.3,\"#f1b6da\"],[0.4,\"#fde0ef\"],[0.5,\"#f7f7f7\"],[0.6,\"#e6f5d0\"],[0.7,\"#b8e186\"],[0.8,\"#7fbc41\"],[0.9,\"#4d9221\"],[1,\"#276419\"]]},\"xaxis\":{\"gridcolor\":\"white\",\"linecolor\":\"white\",\"ticks\":\"\",\"title\":{\"standoff\":15},\"zerolinecolor\":\"white\",\"automargin\":true,\"zerolinewidth\":2},\"yaxis\":{\"gridcolor\":\"white\",\"linecolor\":\"white\",\"ticks\":\"\",\"title\":{\"standoff\":15},\"zerolinecolor\":\"white\",\"automargin\":true,\"zerolinewidth\":2},\"scene\":{\"xaxis\":{\"backgroundcolor\":\"#E5ECF6\",\"gridcolor\":\"white\",\"linecolor\":\"white\",\"showbackground\":true,\"ticks\":\"\",\"zerolinecolor\":\"white\",\"gridwidth\":2},\"yaxis\":{\"backgroundcolor\":\"#E5ECF6\",\"gridcolor\":\"white\",\"linecolor\":\"white\",\"showbackground\":true,\"ticks\":\"\",\"zerolinecolor\":\"white\",\"gridwidth\":2},\"zaxis\":{\"backgroundcolor\":\"#E5ECF6\",\"gridcolor\":\"white\",\"linecolor\":\"white\",\"showbackground\":true,\"ticks\":\"\",\"zerolinecolor\":\"white\",\"gridwidth\":2}},\"shapedefaults\":{\"line\":{\"color\":\"#2a3f5f\"}},\"annotationdefaults\":{\"arrowcolor\":\"#2a3f5f\",\"arrowhead\":0,\"arrowwidth\":1},\"geo\":{\"bgcolor\":\"white\",\"landcolor\":\"#E5ECF6\",\"subunitcolor\":\"white\",\"showland\":true,\"showlakes\":true,\"lakecolor\":\"white\"},\"title\":{\"x\":0.05},\"mapbox\":{\"style\":\"light\"}}},\"xaxis\":{\"anchor\":\"y\",\"domain\":[0.0,1.0],\"title\":{\"text\":\"\"},\"tickfont\":{\"size\":20,\"color\":\"white\"},\"showgrid\":false},\"yaxis\":{\"anchor\":\"x\",\"domain\":[0.0,1.0],\"title\":{\"text\":\"\",\"font\":{\"size\":25,\"color\":\"white\"}},\"tickfont\":{\"size\":20,\"color\":\"white\"},\"showticklabels\":false,\"showgrid\":false,\"range\":[0,5.543948678399941]},\"legend\":{\"title\":{\"text\":\"\"},\"tracegroupgap\":0,\"font\":{\"color\":\"white\",\"size\":25},\"yanchor\":\"top\",\"y\":0.8,\"xanchor\":\"center\",\"x\":0.5},\"margin\":{\"t\":100,\"l\":100,\"r\":100,\"b\":100},\"barmode\":\"group\",\"title\":{\"font\":{\"color\":\"white\",\"size\":40},\"text\":\"Benchmarking Wall Time \\u003cbr\\u003e\\u003csup\\u003eCompute: Macbook Pro 2018 with 12 cores\\u003c\\u002fsup\\u003e\",\"x\":0.5,\"xanchor\":\"center\"},\"height\":630,\"width\":1200,\"plot_bgcolor\":\"rgba(0, 0, 0, 0)\",\"paper_bgcolor\":\"rgb(37, 50, 59)\"},                        {\"responsive\": true}                    ).then(function(){\n",
              "                            \n",
              "var gd = document.getElementById('3270aaf4-fcf7-42e5-98a3-b155a006ca5a');\n",
              "var x = new MutationObserver(function (mutations, observer) {{\n",
              "        var display = window.getComputedStyle(gd).display;\n",
              "        if (!display || display === 'none') {{\n",
              "            console.log([gd, 'removed!']);\n",
              "            Plotly.purge(gd);\n",
              "            observer.disconnect();\n",
              "        }}\n",
              "}});\n",
              "\n",
              "// Listen for the removal of the full notebook cells\n",
              "var notebookContainer = gd.closest('#notebook-container');\n",
              "if (notebookContainer) {{\n",
              "    x.observe(notebookContainer, {childList: true});\n",
              "}}\n",
              "\n",
              "// Listen for the clearing of the current output cell\n",
              "var outputEl = gd.closest('.output');\n",
              "if (outputEl) {{\n",
              "    x.observe(outputEl, {childList: true});\n",
              "}}\n",
              "\n",
              "                        })                };                });            </script>        </div>"
            ]
          },
          "metadata": {},
          "output_type": "display_data"
        },
        {
          "name": "stdout",
          "output_type": "stream",
          "text": [
            "shape: (4, 7)\n",
            "┌───────────────┬──────────┬──────────┬───────────────┬──────────────┬──────────────┬──────────────┐\n",
            "│ task          ┆ polars   ┆ pandas   ┆ pandas_to_pol ┆ pandas_total ┆ polars_total ┆ pandas_to_po │\n",
            "│ ---           ┆ ---      ┆ ---      ┆ ars_ratio     ┆ ---          ┆ ---          ┆ lars_totals_ │\n",
            "│ str           ┆ f64      ┆ f64      ┆ ---           ┆ f64          ┆ f64          ┆ ratio        │\n",
            "│               ┆          ┆          ┆ f64           ┆              ┆              ┆ ---          │\n",
            "│               ┆          ┆          ┆               ┆              ┆              ┆ f64          │\n",
            "╞═══════════════╪══════════╪══════════╪═══════════════╪══════════════╪══════════════╪══════════════╡\n",
            "│ sort          ┆ 0.061225 ┆ 0.888086 ┆ 14.505244     ┆ 6.82918      ┆ 0.603365     ┆ 11.318495    │\n",
            "│ read_csv      ┆ 0.302665 ┆ 5.039953 ┆ 16.651912     ┆ 6.82918      ┆ 0.603365     ┆ 11.318495    │\n",
            "│ filter_groupb ┆ 0.06423  ┆ 0.201774 ┆ 3.141437      ┆ 6.82918      ┆ 0.603365     ┆ 11.318495    │\n",
            "│ y             ┆          ┆          ┆               ┆              ┆              ┆              │\n",
            "│ describe      ┆ 0.175244 ┆ 0.699366 ┆ 3.990805      ┆ 6.82918      ┆ 0.603365     ┆ 11.318495    │\n",
            "└───────────────┴──────────┴──────────┴───────────────┴──────────────┴──────────────┴──────────────┘\n"
          ]
        }
      ],
      "source": [
        "compute = \"Compute: Colab\" if COLAB else \"Compute: Macbook Pro 2018\"\n",
        "cores_no = multiprocessing.cpu_count()\n",
        "\n",
        "plot_benchmark(data=benchmark, title=f\"Benchmarking Wall Time <br><sup>{compute} with {cores_no} cores</sup>\",)\n",
        "summarize_benchmark(data=benchmark)"
      ]
    },
    {
      "cell_type": "code",
      "execution_count": 62,
      "metadata": {},
      "outputs": [
        {
          "data": {
            "application/vnd.plotly.v1+json": {
              "config": {
                "plotlyServerURL": "https://plot.ly"
              },
              "data": [
                {
                  "alignmentgroup": "True",
                  "hovertemplate": "package=Polars<br>task=%{x}<br>mean_time=%{y}<extra></extra>",
                  "legendgroup": "Polars",
                  "marker": {
                    "color": "#107cff",
                    "line": {
                      "color": "rgba(0, 0, 0, 0)",
                      "width": 0
                    },
                    "pattern": {
                      "shape": ""
                    }
                  },
                  "name": "Polars",
                  "offsetgroup": "Polars",
                  "orientation": "v",
                  "showlegend": true,
                  "text": [
                    "1.60s",
                    "1.05s",
                    "0.42s",
                    "0.33s"
                  ],
                  "textfont": {
                    "color": "white",
                    "size": 20
                  },
                  "textposition": "outside",
                  "type": "bar",
                  "x": [
                    "read_csv",
                    "describe",
                    "filter_groupby",
                    "sort"
                  ],
                  "xaxis": "x",
                  "y": [
                    1.5957235775500038,
                    1.0545036273500046,
                    0.4236139152999982,
                    0.3324492221500009
                  ],
                  "yaxis": "y"
                },
                {
                  "alignmentgroup": "True",
                  "hovertemplate": "package=Pandas<br>task=%{x}<br>mean_time=%{y}<extra></extra>",
                  "legendgroup": "Pandas",
                  "marker": {
                    "color": "#e4048c",
                    "line": {
                      "color": "rgba(0, 0, 0, 0)",
                      "width": 0
                    },
                    "pattern": {
                      "shape": ""
                    }
                  },
                  "name": "Pandas",
                  "offsetgroup": "Pandas",
                  "orientation": "v",
                  "showlegend": true,
                  "text": [
                    "6.03s",
                    "1.14s",
                    "0.24s",
                    "1.44s"
                  ],
                  "textfont": {
                    "color": "white",
                    "size": 20
                  },
                  "textposition": "outside",
                  "type": "bar",
                  "x": [
                    "read_csv",
                    "describe",
                    "filter_groupby",
                    "sort"
                  ],
                  "xaxis": "x",
                  "y": [
                    6.030983756799986,
                    1.1431103703000018,
                    0.23829465594999988,
                    1.4390266318000073
                  ],
                  "yaxis": "y"
                }
              ],
              "layout": {
                "barmode": "group",
                "height": 630,
                "legend": {
                  "font": {
                    "color": "white",
                    "size": 25
                  },
                  "title": {
                    "text": ""
                  },
                  "tracegroupgap": 0,
                  "x": 0.5,
                  "xanchor": "center",
                  "y": 0.8,
                  "yanchor": "top"
                },
                "margin": {
                  "b": 100,
                  "l": 100,
                  "r": 100,
                  "t": 100
                },
                "paper_bgcolor": "rgb(37, 50, 59)",
                "plot_bgcolor": "rgba(0, 0, 0, 0)",
                "template": {
                  "data": {
                    "bar": [
                      {
                        "error_x": {
                          "color": "#2a3f5f"
                        },
                        "error_y": {
                          "color": "#2a3f5f"
                        },
                        "marker": {
                          "line": {
                            "color": "#E5ECF6",
                            "width": 0.5
                          },
                          "pattern": {
                            "fillmode": "overlay",
                            "size": 10,
                            "solidity": 0.2
                          }
                        },
                        "type": "bar"
                      }
                    ],
                    "barpolar": [
                      {
                        "marker": {
                          "line": {
                            "color": "#E5ECF6",
                            "width": 0.5
                          },
                          "pattern": {
                            "fillmode": "overlay",
                            "size": 10,
                            "solidity": 0.2
                          }
                        },
                        "type": "barpolar"
                      }
                    ],
                    "carpet": [
                      {
                        "aaxis": {
                          "endlinecolor": "#2a3f5f",
                          "gridcolor": "white",
                          "linecolor": "white",
                          "minorgridcolor": "white",
                          "startlinecolor": "#2a3f5f"
                        },
                        "baxis": {
                          "endlinecolor": "#2a3f5f",
                          "gridcolor": "white",
                          "linecolor": "white",
                          "minorgridcolor": "white",
                          "startlinecolor": "#2a3f5f"
                        },
                        "type": "carpet"
                      }
                    ],
                    "choropleth": [
                      {
                        "colorbar": {
                          "outlinewidth": 0,
                          "ticks": ""
                        },
                        "type": "choropleth"
                      }
                    ],
                    "contour": [
                      {
                        "colorbar": {
                          "outlinewidth": 0,
                          "ticks": ""
                        },
                        "colorscale": [
                          [
                            0,
                            "#0d0887"
                          ],
                          [
                            0.1111111111111111,
                            "#46039f"
                          ],
                          [
                            0.2222222222222222,
                            "#7201a8"
                          ],
                          [
                            0.3333333333333333,
                            "#9c179e"
                          ],
                          [
                            0.4444444444444444,
                            "#bd3786"
                          ],
                          [
                            0.5555555555555556,
                            "#d8576b"
                          ],
                          [
                            0.6666666666666666,
                            "#ed7953"
                          ],
                          [
                            0.7777777777777778,
                            "#fb9f3a"
                          ],
                          [
                            0.8888888888888888,
                            "#fdca26"
                          ],
                          [
                            1,
                            "#f0f921"
                          ]
                        ],
                        "type": "contour"
                      }
                    ],
                    "contourcarpet": [
                      {
                        "colorbar": {
                          "outlinewidth": 0,
                          "ticks": ""
                        },
                        "type": "contourcarpet"
                      }
                    ],
                    "heatmap": [
                      {
                        "colorbar": {
                          "outlinewidth": 0,
                          "ticks": ""
                        },
                        "colorscale": [
                          [
                            0,
                            "#0d0887"
                          ],
                          [
                            0.1111111111111111,
                            "#46039f"
                          ],
                          [
                            0.2222222222222222,
                            "#7201a8"
                          ],
                          [
                            0.3333333333333333,
                            "#9c179e"
                          ],
                          [
                            0.4444444444444444,
                            "#bd3786"
                          ],
                          [
                            0.5555555555555556,
                            "#d8576b"
                          ],
                          [
                            0.6666666666666666,
                            "#ed7953"
                          ],
                          [
                            0.7777777777777778,
                            "#fb9f3a"
                          ],
                          [
                            0.8888888888888888,
                            "#fdca26"
                          ],
                          [
                            1,
                            "#f0f921"
                          ]
                        ],
                        "type": "heatmap"
                      }
                    ],
                    "heatmapgl": [
                      {
                        "colorbar": {
                          "outlinewidth": 0,
                          "ticks": ""
                        },
                        "colorscale": [
                          [
                            0,
                            "#0d0887"
                          ],
                          [
                            0.1111111111111111,
                            "#46039f"
                          ],
                          [
                            0.2222222222222222,
                            "#7201a8"
                          ],
                          [
                            0.3333333333333333,
                            "#9c179e"
                          ],
                          [
                            0.4444444444444444,
                            "#bd3786"
                          ],
                          [
                            0.5555555555555556,
                            "#d8576b"
                          ],
                          [
                            0.6666666666666666,
                            "#ed7953"
                          ],
                          [
                            0.7777777777777778,
                            "#fb9f3a"
                          ],
                          [
                            0.8888888888888888,
                            "#fdca26"
                          ],
                          [
                            1,
                            "#f0f921"
                          ]
                        ],
                        "type": "heatmapgl"
                      }
                    ],
                    "histogram": [
                      {
                        "marker": {
                          "pattern": {
                            "fillmode": "overlay",
                            "size": 10,
                            "solidity": 0.2
                          }
                        },
                        "type": "histogram"
                      }
                    ],
                    "histogram2d": [
                      {
                        "colorbar": {
                          "outlinewidth": 0,
                          "ticks": ""
                        },
                        "colorscale": [
                          [
                            0,
                            "#0d0887"
                          ],
                          [
                            0.1111111111111111,
                            "#46039f"
                          ],
                          [
                            0.2222222222222222,
                            "#7201a8"
                          ],
                          [
                            0.3333333333333333,
                            "#9c179e"
                          ],
                          [
                            0.4444444444444444,
                            "#bd3786"
                          ],
                          [
                            0.5555555555555556,
                            "#d8576b"
                          ],
                          [
                            0.6666666666666666,
                            "#ed7953"
                          ],
                          [
                            0.7777777777777778,
                            "#fb9f3a"
                          ],
                          [
                            0.8888888888888888,
                            "#fdca26"
                          ],
                          [
                            1,
                            "#f0f921"
                          ]
                        ],
                        "type": "histogram2d"
                      }
                    ],
                    "histogram2dcontour": [
                      {
                        "colorbar": {
                          "outlinewidth": 0,
                          "ticks": ""
                        },
                        "colorscale": [
                          [
                            0,
                            "#0d0887"
                          ],
                          [
                            0.1111111111111111,
                            "#46039f"
                          ],
                          [
                            0.2222222222222222,
                            "#7201a8"
                          ],
                          [
                            0.3333333333333333,
                            "#9c179e"
                          ],
                          [
                            0.4444444444444444,
                            "#bd3786"
                          ],
                          [
                            0.5555555555555556,
                            "#d8576b"
                          ],
                          [
                            0.6666666666666666,
                            "#ed7953"
                          ],
                          [
                            0.7777777777777778,
                            "#fb9f3a"
                          ],
                          [
                            0.8888888888888888,
                            "#fdca26"
                          ],
                          [
                            1,
                            "#f0f921"
                          ]
                        ],
                        "type": "histogram2dcontour"
                      }
                    ],
                    "mesh3d": [
                      {
                        "colorbar": {
                          "outlinewidth": 0,
                          "ticks": ""
                        },
                        "type": "mesh3d"
                      }
                    ],
                    "parcoords": [
                      {
                        "line": {
                          "colorbar": {
                            "outlinewidth": 0,
                            "ticks": ""
                          }
                        },
                        "type": "parcoords"
                      }
                    ],
                    "pie": [
                      {
                        "automargin": true,
                        "type": "pie"
                      }
                    ],
                    "scatter": [
                      {
                        "fillpattern": {
                          "fillmode": "overlay",
                          "size": 10,
                          "solidity": 0.2
                        },
                        "type": "scatter"
                      }
                    ],
                    "scatter3d": [
                      {
                        "line": {
                          "colorbar": {
                            "outlinewidth": 0,
                            "ticks": ""
                          }
                        },
                        "marker": {
                          "colorbar": {
                            "outlinewidth": 0,
                            "ticks": ""
                          }
                        },
                        "type": "scatter3d"
                      }
                    ],
                    "scattercarpet": [
                      {
                        "marker": {
                          "colorbar": {
                            "outlinewidth": 0,
                            "ticks": ""
                          }
                        },
                        "type": "scattercarpet"
                      }
                    ],
                    "scattergeo": [
                      {
                        "marker": {
                          "colorbar": {
                            "outlinewidth": 0,
                            "ticks": ""
                          }
                        },
                        "type": "scattergeo"
                      }
                    ],
                    "scattergl": [
                      {
                        "marker": {
                          "colorbar": {
                            "outlinewidth": 0,
                            "ticks": ""
                          }
                        },
                        "type": "scattergl"
                      }
                    ],
                    "scattermapbox": [
                      {
                        "marker": {
                          "colorbar": {
                            "outlinewidth": 0,
                            "ticks": ""
                          }
                        },
                        "type": "scattermapbox"
                      }
                    ],
                    "scatterpolar": [
                      {
                        "marker": {
                          "colorbar": {
                            "outlinewidth": 0,
                            "ticks": ""
                          }
                        },
                        "type": "scatterpolar"
                      }
                    ],
                    "scatterpolargl": [
                      {
                        "marker": {
                          "colorbar": {
                            "outlinewidth": 0,
                            "ticks": ""
                          }
                        },
                        "type": "scatterpolargl"
                      }
                    ],
                    "scatterternary": [
                      {
                        "marker": {
                          "colorbar": {
                            "outlinewidth": 0,
                            "ticks": ""
                          }
                        },
                        "type": "scatterternary"
                      }
                    ],
                    "surface": [
                      {
                        "colorbar": {
                          "outlinewidth": 0,
                          "ticks": ""
                        },
                        "colorscale": [
                          [
                            0,
                            "#0d0887"
                          ],
                          [
                            0.1111111111111111,
                            "#46039f"
                          ],
                          [
                            0.2222222222222222,
                            "#7201a8"
                          ],
                          [
                            0.3333333333333333,
                            "#9c179e"
                          ],
                          [
                            0.4444444444444444,
                            "#bd3786"
                          ],
                          [
                            0.5555555555555556,
                            "#d8576b"
                          ],
                          [
                            0.6666666666666666,
                            "#ed7953"
                          ],
                          [
                            0.7777777777777778,
                            "#fb9f3a"
                          ],
                          [
                            0.8888888888888888,
                            "#fdca26"
                          ],
                          [
                            1,
                            "#f0f921"
                          ]
                        ],
                        "type": "surface"
                      }
                    ],
                    "table": [
                      {
                        "cells": {
                          "fill": {
                            "color": "#EBF0F8"
                          },
                          "line": {
                            "color": "white"
                          }
                        },
                        "header": {
                          "fill": {
                            "color": "#C8D4E3"
                          },
                          "line": {
                            "color": "white"
                          }
                        },
                        "type": "table"
                      }
                    ]
                  },
                  "layout": {
                    "annotationdefaults": {
                      "arrowcolor": "#2a3f5f",
                      "arrowhead": 0,
                      "arrowwidth": 1
                    },
                    "autotypenumbers": "strict",
                    "coloraxis": {
                      "colorbar": {
                        "outlinewidth": 0,
                        "ticks": ""
                      }
                    },
                    "colorscale": {
                      "diverging": [
                        [
                          0,
                          "#8e0152"
                        ],
                        [
                          0.1,
                          "#c51b7d"
                        ],
                        [
                          0.2,
                          "#de77ae"
                        ],
                        [
                          0.3,
                          "#f1b6da"
                        ],
                        [
                          0.4,
                          "#fde0ef"
                        ],
                        [
                          0.5,
                          "#f7f7f7"
                        ],
                        [
                          0.6,
                          "#e6f5d0"
                        ],
                        [
                          0.7,
                          "#b8e186"
                        ],
                        [
                          0.8,
                          "#7fbc41"
                        ],
                        [
                          0.9,
                          "#4d9221"
                        ],
                        [
                          1,
                          "#276419"
                        ]
                      ],
                      "sequential": [
                        [
                          0,
                          "#0d0887"
                        ],
                        [
                          0.1111111111111111,
                          "#46039f"
                        ],
                        [
                          0.2222222222222222,
                          "#7201a8"
                        ],
                        [
                          0.3333333333333333,
                          "#9c179e"
                        ],
                        [
                          0.4444444444444444,
                          "#bd3786"
                        ],
                        [
                          0.5555555555555556,
                          "#d8576b"
                        ],
                        [
                          0.6666666666666666,
                          "#ed7953"
                        ],
                        [
                          0.7777777777777778,
                          "#fb9f3a"
                        ],
                        [
                          0.8888888888888888,
                          "#fdca26"
                        ],
                        [
                          1,
                          "#f0f921"
                        ]
                      ],
                      "sequentialminus": [
                        [
                          0,
                          "#0d0887"
                        ],
                        [
                          0.1111111111111111,
                          "#46039f"
                        ],
                        [
                          0.2222222222222222,
                          "#7201a8"
                        ],
                        [
                          0.3333333333333333,
                          "#9c179e"
                        ],
                        [
                          0.4444444444444444,
                          "#bd3786"
                        ],
                        [
                          0.5555555555555556,
                          "#d8576b"
                        ],
                        [
                          0.6666666666666666,
                          "#ed7953"
                        ],
                        [
                          0.7777777777777778,
                          "#fb9f3a"
                        ],
                        [
                          0.8888888888888888,
                          "#fdca26"
                        ],
                        [
                          1,
                          "#f0f921"
                        ]
                      ]
                    },
                    "colorway": [
                      "#636efa",
                      "#EF553B",
                      "#00cc96",
                      "#ab63fa",
                      "#FFA15A",
                      "#19d3f3",
                      "#FF6692",
                      "#B6E880",
                      "#FF97FF",
                      "#FECB52"
                    ],
                    "font": {
                      "color": "#2a3f5f"
                    },
                    "geo": {
                      "bgcolor": "white",
                      "lakecolor": "white",
                      "landcolor": "#E5ECF6",
                      "showlakes": true,
                      "showland": true,
                      "subunitcolor": "white"
                    },
                    "hoverlabel": {
                      "align": "left"
                    },
                    "hovermode": "closest",
                    "mapbox": {
                      "style": "light"
                    },
                    "paper_bgcolor": "white",
                    "plot_bgcolor": "#E5ECF6",
                    "polar": {
                      "angularaxis": {
                        "gridcolor": "white",
                        "linecolor": "white",
                        "ticks": ""
                      },
                      "bgcolor": "#E5ECF6",
                      "radialaxis": {
                        "gridcolor": "white",
                        "linecolor": "white",
                        "ticks": ""
                      }
                    },
                    "scene": {
                      "xaxis": {
                        "backgroundcolor": "#E5ECF6",
                        "gridcolor": "white",
                        "gridwidth": 2,
                        "linecolor": "white",
                        "showbackground": true,
                        "ticks": "",
                        "zerolinecolor": "white"
                      },
                      "yaxis": {
                        "backgroundcolor": "#E5ECF6",
                        "gridcolor": "white",
                        "gridwidth": 2,
                        "linecolor": "white",
                        "showbackground": true,
                        "ticks": "",
                        "zerolinecolor": "white"
                      },
                      "zaxis": {
                        "backgroundcolor": "#E5ECF6",
                        "gridcolor": "white",
                        "gridwidth": 2,
                        "linecolor": "white",
                        "showbackground": true,
                        "ticks": "",
                        "zerolinecolor": "white"
                      }
                    },
                    "shapedefaults": {
                      "line": {
                        "color": "#2a3f5f"
                      }
                    },
                    "ternary": {
                      "aaxis": {
                        "gridcolor": "white",
                        "linecolor": "white",
                        "ticks": ""
                      },
                      "baxis": {
                        "gridcolor": "white",
                        "linecolor": "white",
                        "ticks": ""
                      },
                      "bgcolor": "#E5ECF6",
                      "caxis": {
                        "gridcolor": "white",
                        "linecolor": "white",
                        "ticks": ""
                      }
                    },
                    "title": {
                      "x": 0.05
                    },
                    "xaxis": {
                      "automargin": true,
                      "gridcolor": "white",
                      "linecolor": "white",
                      "ticks": "",
                      "title": {
                        "standoff": 15
                      },
                      "zerolinecolor": "white",
                      "zerolinewidth": 2
                    },
                    "yaxis": {
                      "automargin": true,
                      "gridcolor": "white",
                      "linecolor": "white",
                      "ticks": "",
                      "title": {
                        "standoff": 15
                      },
                      "zerolinecolor": "white",
                      "zerolinewidth": 2
                    }
                  }
                },
                "title": {
                  "font": {
                    "color": "white",
                    "size": 40
                  },
                  "text": "Benchmarking Wall Time <br><sup>Published Results for Colab with 2 cores</sup>",
                  "x": 0.5,
                  "xanchor": "center"
                },
                "width": 1200,
                "xaxis": {
                  "anchor": "y",
                  "domain": [
                    0,
                    1
                  ],
                  "showgrid": false,
                  "tickfont": {
                    "color": "white",
                    "size": 20
                  },
                  "title": {
                    "text": ""
                  }
                },
                "yaxis": {
                  "anchor": "x",
                  "domain": [
                    0,
                    1
                  ],
                  "range": [
                    0,
                    6.6340821324799855
                  ],
                  "showgrid": false,
                  "showticklabels": false,
                  "tickfont": {
                    "color": "white",
                    "size": 20
                  },
                  "title": {
                    "font": {
                      "color": "white",
                      "size": 25
                    },
                    "text": ""
                  }
                }
              }
            },
            "text/html": [
              "<div>                            <div id=\"3e975826-5d4e-4b9c-9a3f-6d62d32e7c4d\" class=\"plotly-graph-div\" style=\"height:630px; width:1200px;\"></div>            <script type=\"text/javascript\">                require([\"plotly\"], function(Plotly) {                    window.PLOTLYENV=window.PLOTLYENV || {};                                    if (document.getElementById(\"3e975826-5d4e-4b9c-9a3f-6d62d32e7c4d\")) {                    Plotly.newPlot(                        \"3e975826-5d4e-4b9c-9a3f-6d62d32e7c4d\",                        [{\"alignmentgroup\":\"True\",\"hovertemplate\":\"package=Polars\\u003cbr\\u003etask=%{x}\\u003cbr\\u003emean_time=%{y}\\u003cextra\\u003e\\u003c\\u002fextra\\u003e\",\"legendgroup\":\"Polars\",\"marker\":{\"color\":\"#107cff\",\"pattern\":{\"shape\":\"\"},\"line\":{\"color\":\"rgba(0, 0, 0, 0)\",\"width\":0}},\"name\":\"Polars\",\"offsetgroup\":\"Polars\",\"orientation\":\"v\",\"showlegend\":true,\"textposition\":\"outside\",\"x\":[\"read_csv\",\"describe\",\"filter_groupby\",\"sort\"],\"xaxis\":\"x\",\"y\":[1.5957235775500038,1.0545036273500046,0.4236139152999982,0.3324492221500009],\"yaxis\":\"y\",\"type\":\"bar\",\"textfont\":{\"color\":\"white\",\"size\":20},\"text\":[\"1.60s\",\"1.05s\",\"0.42s\",\"0.33s\"]},{\"alignmentgroup\":\"True\",\"hovertemplate\":\"package=Pandas\\u003cbr\\u003etask=%{x}\\u003cbr\\u003emean_time=%{y}\\u003cextra\\u003e\\u003c\\u002fextra\\u003e\",\"legendgroup\":\"Pandas\",\"marker\":{\"color\":\"#e4048c\",\"pattern\":{\"shape\":\"\"},\"line\":{\"color\":\"rgba(0, 0, 0, 0)\",\"width\":0}},\"name\":\"Pandas\",\"offsetgroup\":\"Pandas\",\"orientation\":\"v\",\"showlegend\":true,\"textposition\":\"outside\",\"x\":[\"read_csv\",\"describe\",\"filter_groupby\",\"sort\"],\"xaxis\":\"x\",\"y\":[6.030983756799986,1.1431103703000018,0.23829465594999988,1.4390266318000073],\"yaxis\":\"y\",\"type\":\"bar\",\"textfont\":{\"color\":\"white\",\"size\":20},\"text\":[\"6.03s\",\"1.14s\",\"0.24s\",\"1.44s\"]}],                        {\"template\":{\"data\":{\"histogram2dcontour\":[{\"type\":\"histogram2dcontour\",\"colorbar\":{\"outlinewidth\":0,\"ticks\":\"\"},\"colorscale\":[[0.0,\"#0d0887\"],[0.1111111111111111,\"#46039f\"],[0.2222222222222222,\"#7201a8\"],[0.3333333333333333,\"#9c179e\"],[0.4444444444444444,\"#bd3786\"],[0.5555555555555556,\"#d8576b\"],[0.6666666666666666,\"#ed7953\"],[0.7777777777777778,\"#fb9f3a\"],[0.8888888888888888,\"#fdca26\"],[1.0,\"#f0f921\"]]}],\"choropleth\":[{\"type\":\"choropleth\",\"colorbar\":{\"outlinewidth\":0,\"ticks\":\"\"}}],\"histogram2d\":[{\"type\":\"histogram2d\",\"colorbar\":{\"outlinewidth\":0,\"ticks\":\"\"},\"colorscale\":[[0.0,\"#0d0887\"],[0.1111111111111111,\"#46039f\"],[0.2222222222222222,\"#7201a8\"],[0.3333333333333333,\"#9c179e\"],[0.4444444444444444,\"#bd3786\"],[0.5555555555555556,\"#d8576b\"],[0.6666666666666666,\"#ed7953\"],[0.7777777777777778,\"#fb9f3a\"],[0.8888888888888888,\"#fdca26\"],[1.0,\"#f0f921\"]]}],\"heatmap\":[{\"type\":\"heatmap\",\"colorbar\":{\"outlinewidth\":0,\"ticks\":\"\"},\"colorscale\":[[0.0,\"#0d0887\"],[0.1111111111111111,\"#46039f\"],[0.2222222222222222,\"#7201a8\"],[0.3333333333333333,\"#9c179e\"],[0.4444444444444444,\"#bd3786\"],[0.5555555555555556,\"#d8576b\"],[0.6666666666666666,\"#ed7953\"],[0.7777777777777778,\"#fb9f3a\"],[0.8888888888888888,\"#fdca26\"],[1.0,\"#f0f921\"]]}],\"heatmapgl\":[{\"type\":\"heatmapgl\",\"colorbar\":{\"outlinewidth\":0,\"ticks\":\"\"},\"colorscale\":[[0.0,\"#0d0887\"],[0.1111111111111111,\"#46039f\"],[0.2222222222222222,\"#7201a8\"],[0.3333333333333333,\"#9c179e\"],[0.4444444444444444,\"#bd3786\"],[0.5555555555555556,\"#d8576b\"],[0.6666666666666666,\"#ed7953\"],[0.7777777777777778,\"#fb9f3a\"],[0.8888888888888888,\"#fdca26\"],[1.0,\"#f0f921\"]]}],\"contourcarpet\":[{\"type\":\"contourcarpet\",\"colorbar\":{\"outlinewidth\":0,\"ticks\":\"\"}}],\"contour\":[{\"type\":\"contour\",\"colorbar\":{\"outlinewidth\":0,\"ticks\":\"\"},\"colorscale\":[[0.0,\"#0d0887\"],[0.1111111111111111,\"#46039f\"],[0.2222222222222222,\"#7201a8\"],[0.3333333333333333,\"#9c179e\"],[0.4444444444444444,\"#bd3786\"],[0.5555555555555556,\"#d8576b\"],[0.6666666666666666,\"#ed7953\"],[0.7777777777777778,\"#fb9f3a\"],[0.8888888888888888,\"#fdca26\"],[1.0,\"#f0f921\"]]}],\"surface\":[{\"type\":\"surface\",\"colorbar\":{\"outlinewidth\":0,\"ticks\":\"\"},\"colorscale\":[[0.0,\"#0d0887\"],[0.1111111111111111,\"#46039f\"],[0.2222222222222222,\"#7201a8\"],[0.3333333333333333,\"#9c179e\"],[0.4444444444444444,\"#bd3786\"],[0.5555555555555556,\"#d8576b\"],[0.6666666666666666,\"#ed7953\"],[0.7777777777777778,\"#fb9f3a\"],[0.8888888888888888,\"#fdca26\"],[1.0,\"#f0f921\"]]}],\"mesh3d\":[{\"type\":\"mesh3d\",\"colorbar\":{\"outlinewidth\":0,\"ticks\":\"\"}}],\"scatter\":[{\"fillpattern\":{\"fillmode\":\"overlay\",\"size\":10,\"solidity\":0.2},\"type\":\"scatter\"}],\"parcoords\":[{\"type\":\"parcoords\",\"line\":{\"colorbar\":{\"outlinewidth\":0,\"ticks\":\"\"}}}],\"scatterpolargl\":[{\"type\":\"scatterpolargl\",\"marker\":{\"colorbar\":{\"outlinewidth\":0,\"ticks\":\"\"}}}],\"bar\":[{\"error_x\":{\"color\":\"#2a3f5f\"},\"error_y\":{\"color\":\"#2a3f5f\"},\"marker\":{\"line\":{\"color\":\"#E5ECF6\",\"width\":0.5},\"pattern\":{\"fillmode\":\"overlay\",\"size\":10,\"solidity\":0.2}},\"type\":\"bar\"}],\"scattergeo\":[{\"type\":\"scattergeo\",\"marker\":{\"colorbar\":{\"outlinewidth\":0,\"ticks\":\"\"}}}],\"scatterpolar\":[{\"type\":\"scatterpolar\",\"marker\":{\"colorbar\":{\"outlinewidth\":0,\"ticks\":\"\"}}}],\"histogram\":[{\"marker\":{\"pattern\":{\"fillmode\":\"overlay\",\"size\":10,\"solidity\":0.2}},\"type\":\"histogram\"}],\"scattergl\":[{\"type\":\"scattergl\",\"marker\":{\"colorbar\":{\"outlinewidth\":0,\"ticks\":\"\"}}}],\"scatter3d\":[{\"type\":\"scatter3d\",\"line\":{\"colorbar\":{\"outlinewidth\":0,\"ticks\":\"\"}},\"marker\":{\"colorbar\":{\"outlinewidth\":0,\"ticks\":\"\"}}}],\"scattermapbox\":[{\"type\":\"scattermapbox\",\"marker\":{\"colorbar\":{\"outlinewidth\":0,\"ticks\":\"\"}}}],\"scatterternary\":[{\"type\":\"scatterternary\",\"marker\":{\"colorbar\":{\"outlinewidth\":0,\"ticks\":\"\"}}}],\"scattercarpet\":[{\"type\":\"scattercarpet\",\"marker\":{\"colorbar\":{\"outlinewidth\":0,\"ticks\":\"\"}}}],\"carpet\":[{\"aaxis\":{\"endlinecolor\":\"#2a3f5f\",\"gridcolor\":\"white\",\"linecolor\":\"white\",\"minorgridcolor\":\"white\",\"startlinecolor\":\"#2a3f5f\"},\"baxis\":{\"endlinecolor\":\"#2a3f5f\",\"gridcolor\":\"white\",\"linecolor\":\"white\",\"minorgridcolor\":\"white\",\"startlinecolor\":\"#2a3f5f\"},\"type\":\"carpet\"}],\"table\":[{\"cells\":{\"fill\":{\"color\":\"#EBF0F8\"},\"line\":{\"color\":\"white\"}},\"header\":{\"fill\":{\"color\":\"#C8D4E3\"},\"line\":{\"color\":\"white\"}},\"type\":\"table\"}],\"barpolar\":[{\"marker\":{\"line\":{\"color\":\"#E5ECF6\",\"width\":0.5},\"pattern\":{\"fillmode\":\"overlay\",\"size\":10,\"solidity\":0.2}},\"type\":\"barpolar\"}],\"pie\":[{\"automargin\":true,\"type\":\"pie\"}]},\"layout\":{\"autotypenumbers\":\"strict\",\"colorway\":[\"#636efa\",\"#EF553B\",\"#00cc96\",\"#ab63fa\",\"#FFA15A\",\"#19d3f3\",\"#FF6692\",\"#B6E880\",\"#FF97FF\",\"#FECB52\"],\"font\":{\"color\":\"#2a3f5f\"},\"hovermode\":\"closest\",\"hoverlabel\":{\"align\":\"left\"},\"paper_bgcolor\":\"white\",\"plot_bgcolor\":\"#E5ECF6\",\"polar\":{\"bgcolor\":\"#E5ECF6\",\"angularaxis\":{\"gridcolor\":\"white\",\"linecolor\":\"white\",\"ticks\":\"\"},\"radialaxis\":{\"gridcolor\":\"white\",\"linecolor\":\"white\",\"ticks\":\"\"}},\"ternary\":{\"bgcolor\":\"#E5ECF6\",\"aaxis\":{\"gridcolor\":\"white\",\"linecolor\":\"white\",\"ticks\":\"\"},\"baxis\":{\"gridcolor\":\"white\",\"linecolor\":\"white\",\"ticks\":\"\"},\"caxis\":{\"gridcolor\":\"white\",\"linecolor\":\"white\",\"ticks\":\"\"}},\"coloraxis\":{\"colorbar\":{\"outlinewidth\":0,\"ticks\":\"\"}},\"colorscale\":{\"sequential\":[[0.0,\"#0d0887\"],[0.1111111111111111,\"#46039f\"],[0.2222222222222222,\"#7201a8\"],[0.3333333333333333,\"#9c179e\"],[0.4444444444444444,\"#bd3786\"],[0.5555555555555556,\"#d8576b\"],[0.6666666666666666,\"#ed7953\"],[0.7777777777777778,\"#fb9f3a\"],[0.8888888888888888,\"#fdca26\"],[1.0,\"#f0f921\"]],\"sequentialminus\":[[0.0,\"#0d0887\"],[0.1111111111111111,\"#46039f\"],[0.2222222222222222,\"#7201a8\"],[0.3333333333333333,\"#9c179e\"],[0.4444444444444444,\"#bd3786\"],[0.5555555555555556,\"#d8576b\"],[0.6666666666666666,\"#ed7953\"],[0.7777777777777778,\"#fb9f3a\"],[0.8888888888888888,\"#fdca26\"],[1.0,\"#f0f921\"]],\"diverging\":[[0,\"#8e0152\"],[0.1,\"#c51b7d\"],[0.2,\"#de77ae\"],[0.3,\"#f1b6da\"],[0.4,\"#fde0ef\"],[0.5,\"#f7f7f7\"],[0.6,\"#e6f5d0\"],[0.7,\"#b8e186\"],[0.8,\"#7fbc41\"],[0.9,\"#4d9221\"],[1,\"#276419\"]]},\"xaxis\":{\"gridcolor\":\"white\",\"linecolor\":\"white\",\"ticks\":\"\",\"title\":{\"standoff\":15},\"zerolinecolor\":\"white\",\"automargin\":true,\"zerolinewidth\":2},\"yaxis\":{\"gridcolor\":\"white\",\"linecolor\":\"white\",\"ticks\":\"\",\"title\":{\"standoff\":15},\"zerolinecolor\":\"white\",\"automargin\":true,\"zerolinewidth\":2},\"scene\":{\"xaxis\":{\"backgroundcolor\":\"#E5ECF6\",\"gridcolor\":\"white\",\"linecolor\":\"white\",\"showbackground\":true,\"ticks\":\"\",\"zerolinecolor\":\"white\",\"gridwidth\":2},\"yaxis\":{\"backgroundcolor\":\"#E5ECF6\",\"gridcolor\":\"white\",\"linecolor\":\"white\",\"showbackground\":true,\"ticks\":\"\",\"zerolinecolor\":\"white\",\"gridwidth\":2},\"zaxis\":{\"backgroundcolor\":\"#E5ECF6\",\"gridcolor\":\"white\",\"linecolor\":\"white\",\"showbackground\":true,\"ticks\":\"\",\"zerolinecolor\":\"white\",\"gridwidth\":2}},\"shapedefaults\":{\"line\":{\"color\":\"#2a3f5f\"}},\"annotationdefaults\":{\"arrowcolor\":\"#2a3f5f\",\"arrowhead\":0,\"arrowwidth\":1},\"geo\":{\"bgcolor\":\"white\",\"landcolor\":\"#E5ECF6\",\"subunitcolor\":\"white\",\"showland\":true,\"showlakes\":true,\"lakecolor\":\"white\"},\"title\":{\"x\":0.05},\"mapbox\":{\"style\":\"light\"}}},\"xaxis\":{\"anchor\":\"y\",\"domain\":[0.0,1.0],\"title\":{\"text\":\"\"},\"tickfont\":{\"size\":20,\"color\":\"white\"},\"showgrid\":false},\"yaxis\":{\"anchor\":\"x\",\"domain\":[0.0,1.0],\"title\":{\"text\":\"\",\"font\":{\"size\":25,\"color\":\"white\"}},\"tickfont\":{\"size\":20,\"color\":\"white\"},\"showticklabels\":false,\"showgrid\":false,\"range\":[0,6.6340821324799855]},\"legend\":{\"title\":{\"text\":\"\"},\"tracegroupgap\":0,\"font\":{\"color\":\"white\",\"size\":25},\"yanchor\":\"top\",\"y\":0.8,\"xanchor\":\"center\",\"x\":0.5},\"margin\":{\"t\":100,\"l\":100,\"r\":100,\"b\":100},\"barmode\":\"group\",\"title\":{\"font\":{\"color\":\"white\",\"size\":40},\"text\":\"Benchmarking Wall Time \\u003cbr\\u003e\\u003csup\\u003ePublished Results for Colab with 2 cores\\u003c\\u002fsup\\u003e\",\"x\":0.5,\"xanchor\":\"center\"},\"height\":630,\"width\":1200,\"plot_bgcolor\":\"rgba(0, 0, 0, 0)\",\"paper_bgcolor\":\"rgb(37, 50, 59)\"},                        {\"responsive\": true}                    ).then(function(){\n",
              "                            \n",
              "var gd = document.getElementById('3e975826-5d4e-4b9c-9a3f-6d62d32e7c4d');\n",
              "var x = new MutationObserver(function (mutations, observer) {{\n",
              "        var display = window.getComputedStyle(gd).display;\n",
              "        if (!display || display === 'none') {{\n",
              "            console.log([gd, 'removed!']);\n",
              "            Plotly.purge(gd);\n",
              "            observer.disconnect();\n",
              "        }}\n",
              "}});\n",
              "\n",
              "// Listen for the removal of the full notebook cells\n",
              "var notebookContainer = gd.closest('#notebook-container');\n",
              "if (notebookContainer) {{\n",
              "    x.observe(notebookContainer, {childList: true});\n",
              "}}\n",
              "\n",
              "// Listen for the clearing of the current output cell\n",
              "var outputEl = gd.closest('.output');\n",
              "if (outputEl) {{\n",
              "    x.observe(outputEl, {childList: true});\n",
              "}}\n",
              "\n",
              "                        })                };                });            </script>        </div>"
            ]
          },
          "metadata": {},
          "output_type": "display_data"
        },
        {
          "name": "stdout",
          "output_type": "stream",
          "text": [
            "shape: (4, 7)\n",
            "┌───────────────┬──────────┬──────────┬───────────────┬──────────────┬──────────────┬──────────────┐\n",
            "│ task          ┆ polars   ┆ pandas   ┆ pandas_to_pol ┆ pandas_total ┆ polars_total ┆ pandas_to_po │\n",
            "│ ---           ┆ ---      ┆ ---      ┆ ars_ratio     ┆ ---          ┆ ---          ┆ lars_totals_ │\n",
            "│ str           ┆ f64      ┆ f64      ┆ ---           ┆ f64          ┆ f64          ┆ ratio        │\n",
            "│               ┆          ┆          ┆ f64           ┆              ┆              ┆ ---          │\n",
            "│               ┆          ┆          ┆               ┆              ┆              ┆ f64          │\n",
            "╞═══════════════╪══════════╪══════════╪═══════════════╪══════════════╪══════════════╪══════════════╡\n",
            "│ read_csv      ┆ 1.595724 ┆ 6.030984 ┆ 3.779466      ┆ 8.851415     ┆ 3.40629      ┆ 2.59855      │\n",
            "│ describe      ┆ 1.054504 ┆ 1.14311  ┆ 1.084027      ┆ 8.851415     ┆ 3.40629      ┆ 2.59855      │\n",
            "│ sort          ┆ 0.332449 ┆ 1.439027 ┆ 4.328561      ┆ 8.851415     ┆ 3.40629      ┆ 2.59855      │\n",
            "│ filter_groupb ┆ 0.423614 ┆ 0.238295 ┆ 0.562528      ┆ 8.851415     ┆ 3.40629      ┆ 2.59855      │\n",
            "│ y             ┆          ┆          ┆               ┆              ┆              ┆              │\n",
            "└───────────────┴──────────┴──────────┴───────────────┴──────────────┴──────────────┴──────────────┘\n"
          ]
        }
      ],
      "source": [
        "# Plotting the published benchmark results for Colab\n",
        "published_colab_benchmark = pl.read_csv(\n",
        "      \"https://gist.github.com/gox6/7f1186585f79da7327b8b4cd796337f6/raw/benchmark-polars-vs-pandas-on-colab.csv\"\n",
        "  )\n",
        "\n",
        "plot_benchmark(data=published_colab_benchmark, title=f\"Benchmarking Wall Time <br><sup>Published Results for Colab with 2 cores</sup>\",)\n",
        "summarize_benchmark(data=published_colab_benchmark)"
      ]
    },
    {
      "cell_type": "code",
      "execution_count": 58,
      "metadata": {
        "colab": {
          "base_uri": "https://localhost:8080/",
          "height": 647
        },
        "id": "kKwbKkBPQ8V6",
        "outputId": "9aca5aaf-4352-4a7f-d38f-45e34ce1ad07"
      },
      "outputs": [],
      "source": [
        "# Plotting the published benchmark results for Macbook Pro 2018 with 12 cores\n",
        "\n",
        "published_macbook_benchmark = pl.read_csv(\n",
        "      \"https://gist.github.com/gox6//c48d57d47c23c1dd1736286fbd78ec27/raw/benchmark-polars-vs-pandas-on-macbook.csv\"\n",
        "  )\n",
        "\n",
        "plot_benchmark(data=published_macbook_benchmark, title=f\"Benchmarking Wall Time <br><sup>Compute Macbook 2018 with 12 cores</sup>\",)\n",
        "summarize_benchmark(data=published_macbook_benchmark)"
      ]
    },
    {
      "cell_type": "markdown",
      "metadata": {
        "id": "jVdU_VDxNO8L"
      },
      "source": [
        "<html>\n",
        "<body>\n",
        "    <div style=\"display: flex;\">\n",
        "            <a href=\"https://medium.com/@jgrygolec\" style=\"width: 45em; height: 15em; background-color: white; padding-left: 1em; display: flex; flex-direction: column; justify-content: center; color: inherit; text-decoration: none;\">\n",
        "            <p style=\"margin: 0; font-size: 1.5em; color: #3D4849;\">Thank you for attention!</p>\n",
        "            <p style=\"margin: 0; font-size: 1.5em; color: #3D4849; font-weight: bold;\">Click to see more of my articles on Medium.</p>\n",
        "            <p style=\"margin: 0; font-size: 1.5em; color: #3D4849;\">BR,</p>\n",
        "            <p style=\"margin: 0; font-size: 1.5em; color: #3D4849;\">Jarek Grygolec</p>\n",
        "        </a>\n",
        "        <a href=\"https://medium.com/@jgrygolec\" style=\"width: 30em; height: 15em; background-repeat: no-repeat; background-size: cover; background-position: center;\">\n",
        "                    <img src=\"https://miro.medium.com/v2/resize:fit:3992/0*WCQwsoZC0FA2-haq\" style=\"width: 100%; height: 100%; object-fit: cover;\"></a>\n",
        "    </div>\n",
        "</body>\n",
        "</html>"
      ]
    }
  ],
  "metadata": {
    "colab": {
      "provenance": [],
      "toc_visible": true
    },
    "kernelspec": {
      "display_name": "rtb",
      "language": "python",
      "name": "python3"
    },
    "language_info": {
      "codemirror_mode": {
        "name": "ipython",
        "version": 3
      },
      "file_extension": ".py",
      "mimetype": "text/x-python",
      "name": "python",
      "nbconvert_exporter": "python",
      "pygments_lexer": "ipython3",
      "version": "3.11.4"
    }
  },
  "nbformat": 4,
  "nbformat_minor": 0
}
