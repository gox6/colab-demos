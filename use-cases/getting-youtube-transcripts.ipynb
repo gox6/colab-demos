{
 "cells": [
  {
   "cell_type": "markdown",
   "metadata": {},
   "source": [
    "<a target=\"_blank\" href=\"https://colab.research.google.com/github/gox6/colab-demos/blob/main/use-cases/getting-youtube-transcripts\n",
    ".ipynb\">\n",
    "  <img src=\"https://colab.research.google.com/assets/colab-badge.svg\" alt=\"Open In Colab\"/>\n",
    "</a>"
   ]
  },
  {
   "cell_type": "code",
   "execution_count": null,
   "metadata": {},
   "outputs": [],
   "source": [
    "# Installs\n",
    "!pip install --quiet \\\n",
    "  polars \\\n",
    "  pytube \\\n",
    "  youtube_transcript_api"
   ]
  },
  {
   "cell_type": "code",
   "execution_count": null,
   "metadata": {},
   "outputs": [],
   "source": [
    "# Import for Youtube transcripts\n",
    "from collections import Counter, defaultdict\n",
    "from langchain_community.document_loaders import YoutubeLoader\n",
    "from langchain_core.documents.base import Document\n",
    "import polars as pl"
   ]
  },
  {
   "cell_type": "code",
   "execution_count": null,
   "metadata": {},
   "outputs": [],
   "source": [
    "# 30 Youtube videos from BBC News\n",
    "\n",
    "youtube_bbc_news_videos = [\"https://youtu.be/YEHA-u8b43A\", \"https://youtu.be/TlFfHjOMSXQ\", \"https://youtu.be/-kZolk9EoMA\", \"https://youtu.be/JQMZkrz6X08\",\n",
    "                           \"https://youtu.be/D1iMZaLjBU4\", \"https://youtu.be/Sqcv9lCADxE\", \"https://youtu.be/Sshl0SFO4ZI\", \"https://youtu.be/mpOyMOZWEcU\",\n",
    "                           \"https://youtu.be/Cg3YMWcjLI4\", \"https://youtu.be/yQIMSv9Luw4\", \"https://youtu.be/5LYGnqoCLGk\", \"https://youtu.be/KCepbsLLUMY\",\n",
    "                           \"https://youtu.be/lHggWT2iLdo\", \"https://youtu.be/TTUsxD62398\", \"https://youtu.be/3YMleRGjeqE\", \"https://youtu.be/h-5dqQMZTZQ\",\n",
    "                           \"https://youtu.be/4GBcZJpw8yI\", \"https://youtu.be/QOUGlWEpwL4\", \"https://youtu.be/T05I-SBhXoI\", \"https://youtu.be/Iz-XY6XfXjk\",\n",
    "                           \"https://youtu.be/yyLFQrb--pw\", \"https://youtu.be/wMqJbMPNM6A\", \"https://youtu.be/kOcuwLBPBP8\", \"https://youtu.be/7goRcrFKs3U\",\n",
    "                           \"https://youtu.be/FoBOSLofM3E\", \"https://youtu.be/97nEBjiQI1M\", \"https://youtu.be/bjmK4lGKNqY\", \"https://youtu.be/XWLA5A6bpwE\",\n",
    "                           \"https://youtu.be/DkmrhVpCmac\", \"https://youtu.be/Dxar1d1aTUo\"\n",
    "                          ]\n",
    "\n",
    "\n",
    "count = Counter(youtube_bbc_news_videos)\n",
    "assert len(count) == 30\n",
    "\n",
    "# Collecting transcripts of Youtube videos\n",
    "# Long running cell: around 60s\n",
    "\n",
    "def get_youtube_transcripts(urls: list[str]) -> list[Document]:\n",
    "\n",
    "  docs = list(map(lambda url: YoutubeLoader.from_youtube_url(url, add_video_info=True).load()[0], urls))\n",
    "\n",
    "  return docs\n",
    "\n",
    "bbc_news = get_youtube_transcripts(youtube_bbc_news_videos)\n",
    "\n",
    "# Transforming list of LangChain documents into dataframe to review data conveniently\n",
    "\n",
    "def to_pl(list_of_docs: list[Document]) -> pl.DataFrame:\n",
    "  data = defaultdict(list)\n",
    "\n",
    "  for doc in list_of_docs:\n",
    "    doc_dict = doc.dict()\n",
    "    for key in doc_dict.keys():\n",
    "      if key != 'metadata':\n",
    "        data[key].append(doc_dict[key])\n",
    "      else:\n",
    "        metadata = doc_dict['metadata']\n",
    "        for subkey in metadata.keys():\n",
    "          data[subkey].append(metadata[subkey])\n",
    "\n",
    "  df_pl = pl.DataFrame(data).rename({\"length\": \"length_in_seconds\"})\n",
    "  df_pl = df_pl.with_columns([(pl.lit('https://youtu.be/') + pl.col('source')).alias('video_url'),\n",
    "                              (pl.col('page_content').str.split(by=' ').list.len()).alias(\"length_in_words\")])\n",
    "\n",
    "  df_pl = df_pl.select([ 'publish_date', 'author', 'title',  'video_url', 'view_count', 'length_in_seconds', 'length_in_words', 'page_content' ])\n",
    "  return df_pl\n",
    "\n",
    "\n",
    "df_pl = to_pl(bbc_news)\n",
    "df_pd = df_pl.to_pandas()   # Switching to Pandas from Polars dataframe as it is then better displayed in Colab\n",
    "\n",
    "# Displaying data with Colab formatter, or just in pandas\n",
    "display(df_pd)"
   ]
  }
 ],
 "metadata": {
  "language_info": {
   "name": "python"
  }
 },
 "nbformat": 4,
 "nbformat_minor": 2
}
