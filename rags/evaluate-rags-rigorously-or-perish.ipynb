{
  "cells": [
    {
      "cell_type": "markdown",
      "metadata": {
        "id": "OE9ltTAn3Bft"
      },
      "source": [
        "<a target=\"_blank\" href=\"https://colab.research.google.com/github/gox6/colab-demos/blob/main/rags/evaluate-rags-rigorously-or-perish.ipynb\">\n",
        "  <img src=\"https://colab.research.google.com/assets/colab-badge.svg\" alt=\"Open In Colab\"/>\n",
        "</a>"
      ]
    },
    {
      "cell_type": "code",
      "execution_count": 1,
      "metadata": {
        "id": "qy7K3gbeaeuF"
      },
      "outputs": [],
      "source": [
        "# Installing Python packages & hiding\n",
        "!pip install langchain ragas xmltodict &> /dev/null"
      ]
    },
    {
      "cell_type": "code",
      "source": [
        "# Managing secrets\n",
        "# - If using Colab please use Colab Secrets\n",
        "# - If running outside Colab please provide secrets as ENV VARS\n",
        "\n",
        "import os\n",
        "\n",
        "COLAB = os.getenv(\"COLAB_RELEASE_TAG\") is not None\n",
        "\n",
        "if COLAB:\n",
        "  from google.colab import userdata\n",
        "  OPENAI_API_KEY = userdata.get('OPENAI_API_KEY')\n",
        "  os.environ[\"OPENAI_API_KEY\"] = OPENAI_API_KEY\n",
        "else:\n",
        "  OPENAI_API_KEY = os.environ.get('OPENAI_API_KEY')\n",
        "\n"
      ],
      "metadata": {
        "id": "4Gaqge6KmLea"
      },
      "execution_count": 2,
      "outputs": []
    },
    {
      "cell_type": "code",
      "execution_count": 3,
      "metadata": {
        "id": "mj28dEykaeuH",
        "outputId": "2df34abf-57a7-4a4b-b2c7-9fc084987344",
        "colab": {
          "base_uri": "https://localhost:8080/"
        }
      },
      "outputs": [
        {
          "output_type": "stream",
          "name": "stdout",
          "text": [
            "Too Many Requests, waiting for 0.20 seconds...\n",
            "Too Many Requests, waiting for 0.40 seconds...\n",
            "Too Many Requests, waiting for 0.80 seconds...\n",
            "Too Many Requests, waiting for 1.60 seconds...\n"
          ]
        }
      ],
      "source": [
        "from langchain.document_loaders import PubMedLoader\n",
        "\n",
        "loader = PubMedLoader(\"liver\", load_max_docs=10)\n",
        "documents = loader.load()"
      ]
    },
    {
      "cell_type": "code",
      "source": [
        "documents"
      ],
      "metadata": {
        "id": "GC8J9V6Rjiwd",
        "outputId": "c74b78ae-6996-4233-b095-866b76569950",
        "colab": {
          "base_uri": "https://localhost:8080/"
        }
      },
      "execution_count": 4,
      "outputs": [
        {
          "output_type": "execute_result",
          "data": {
            "text/plain": [
              "[Document(page_content='Liver cancer currently represents the leading cause of cancer-related death worldwide. The majority of liver cancer arises in the context of chronic inflammation and cirrhosis. Surgery, radiation therapy, and chemotherapy have been the guideline-recommended treatment options for decades. Despite enormous advances in the field of liver cancer therapy, an effective cure is yet to be found. Plant-derived polyphenols constitute a large family of phytochemicals, with pleiotropic effects and little toxicity. They can drive cellular events and modify multiple signaling pathways which involves initiation, progression and metastasis of liver cancer and play an important role in contributing to anti-liver cancer drug development. The potential of plant-derived polyphenols for treating liver cancer has gained attention from research clinicians and pharmaceutical scientists worldwide in the last decades. This review overviews hepatic carcinogenesis and briefly discusses anti-liver cancer mechanisms associated with plant-derived polyphenols, specifically involving cell proliferation, apoptosis, autophagy, angiogenesis, oxidative stress, inflammation, and metastasis. We focus on plant-derived polyphenols with experiment-based chemopreventive and chemotherapeutic properties against liver cancer and generalize their basic molecular mechanisms of action. We also discuss potential opportunities and challenges in translating plant-derived polyphenols from preclinical success into clinical applications.', metadata={'uid': '38625672', 'Title': 'Liver cancer wars: plant-derived polyphenols strike back.', 'Published': '2024-04-16', 'Copyright Information': '© 2024. The Author(s), under exclusive licence to Springer Science+Business Media, LLC, part of Springer Nature.'}),\n",
              " Document(page_content='No abstract available', metadata={'uid': '38625614', 'Title': 'Bridging the gap between human beings and digital twins in radiology.', 'Published': '2024-04-16', 'Copyright Information': ''}),\n",
              " Document(page_content='BACKGROUND: The relationship between liver fibrosis and inflammation and Mac-2-binding protein glycosylation isomer (M2BPGi) in patients with chronic liver disease (CLD) other than hepatitis C remains uncertain, owing to the limitations of qualitative methods. Here, we evaluated the influence of liver fibrosis and inflammation on quantitative M2BPGi (M2BPGi-Qt) in CLD, considering each etiology.\\nMETHODS: We recruited 1373 patients with CLD. To evaluate the influence of liver fibrosis and inflammation on M2BPGi-Qt levels, we assessed M2BPGi-Qt levels at each fibrosis and activity stage within different etiologies of CLD based on pathological findings. Subsequently, we evaluated if the accuracy of fibrosis staging based on M2BPGi-Qt could be improved by considering the influence of liver inflammation.\\nRESULTS: In patients with viral hepatitis, non-alcoholic fatty liver disease, and primary biliary cholangitis, the median M2BPGi-Qt levels increased liver fibrosis progression. Median M2BPGi-Qt levels were not associated with the degree of fibrosis in patients with autoimmune hepatitis (AIH). Median M2BPGi-Qt levels increased with the progression of liver activity in all etiologies. A significant difference was found at each stage in AIH. Considering the liver inflammation, we established an algorithm, M2BPGi-Qt, to determine the alanine aminotransferase-to-platelet ratio (MAP-R) in liver cirrhosis (LC). The area under the receiver operating characteristic curve (AUC) of MAP-R was higher than that of the M2BPGi-Qt for detecting LC (AUC MAP-R\\u2009=\\u20090.759 and M2BPGi-Qt\\u2009=\\u20090.700, p\\u2009<\\u20090.001).\\nCONCLUSIONS: The quantitative measurement system for M2BPGi depends on liver fibrosis and inflammation, regardless of etiology. Liver inflammation complicates the interpretation of M2BPGi-Qt results when assessing the fibrosis stage.', metadata={'uid': '38625546', 'Title': 'Quantitative measurements of M2BPGi depend on liver fibrosis and inflammation.', 'Published': '2024-04-16', 'Copyright Information': '© 2024. Japanese Society of Gastroenterology.'}),\n",
              " Document(page_content='The brain is the central commander of all physical activities and the expression of emotions in animals. Its development and cognitive health critically depend on the neural network that consists of neurons, glial cells (namely, non-neuronal cells), and neurotransmitters (communicators between neurons). The latter include proteinogenic amino acids (e.g., L-glutamate, L-aspartate, and glycine) and their metabolites [e.g., γ-aminobutyrate, D-aspartate, D-serine, nitric oxide, carbon monoxide, hydrogen sulfide, and monoamines (e.g., dopamine, norepinephrine, epinephrine, and serotonin)]. In addition, some non-neurotransmitter metabolites of amino acids, such as taurine, creatine, and carnosine, also play important roles in brain development, cognitive health, behavior, and mood of dogs and cats. Much evidence shows that cats require dietary ω3 (α-linolenic acid, eicosapentaenoic acid, and docosahexaenoic acid) and ω6 (linoleic acid and arachidonic acid) polyunsaturated fatty acids for the development of the central nervous system. As an essential component of membranes of neurons and glial cells, cholesterol is also crucial for cognitive development and function. In addition, vitamins and minerals are required for the metabolism of AAs, lipids, and glucose in the nervous system, and also act as antioxidants. Thus, inadequate nutrition will lead to mood disorders. Some amino acids (e.g., arginine, glycine, methionine, serine, taurine, tryptophan, and tyrosine) can help to alleviate behavioral and mood disorders (e.g., depression, anxiety and aggression). As abundant providers of all these functional amino acids and lipids, animal-sourced foods (e.g., liver, intestinal mucosa, and meat) play important roles in brain development, cognitive function, and mood of dogs and cats. This may explain, in part, why dogs and cats prefer to eat visceral organs of their prey. Adequate provision of nutrients in all phases of the life cycle (pregnancy, lactation, postnatal growth, and adulthood) is essential for optimizing neurological health, while preventing cognitive dysfunction and abnormal behavior.', metadata={'uid': '38625529', 'Title': 'Roles of Nutrients in the Brain Development, Cognitive Function, and Mood of Dogs and Cats.', 'Published': '--', 'Copyright Information': '© 2024. The Author(s), under exclusive license to Springer Nature Switzerland AG.'}),\n",
              " Document(page_content=\"['12', '12']\\nAs for other mammals, the digestive system of dogs (facultative carnivores) and cats (obligate carnivores) includes the mouth, teeth, tongue, pharynx, esophagus, stomach, small intestine, large intestine, and accessory digestive organs (salivary glands, pancreas, liver, and gallbladder). These carnivores have a relatively shorter digestive tract but longer canine teeth, a tighter digitation of molars, and a greater stomach volume than omnivorous\\xa0mammals such as humans and pigs. Both dogs and cats have no detectable or a very low activity of salivary α-amylase but dogs, unlike cats, possess a relatively\\xa0high\\xa0activity of pancreatic α-amylase. Thus, cats select low-starch foods but dogs can consume high-starch diets. In contrast to\\xa0many mammals, the vitamin B (cobalamin)-binding intrinsic factor for the digestion and absorption of vitamin B is produced in: (a) dogs primarily by pancreatic ductal cells and to a lesser extent the gastric mucosa; and (b) cats exclusively by the pancreatic tissue. Amino acids (glutamate, glutamine, and aspartate) are the main metabolic fuels in enterocytes of the foregut. The primary function of the small intestine is to digest and absorb dietary nutrients, and its secondary function is to regulate the entry of dietary nutrients into the blood circulation, separate the external from the internal milieu, and perform immune surveillance. The major function of the large intestine is to ferment undigested food (particularly fiber and protein) and to absorb water, short-chain fatty acids (serving as major metabolic fuels for epithelial cells of the large intestine), as well as vitamins. The fermentation products, water, sloughed cells, digestive secretions, and microbes form feces and then pass into the rectum for excretion via the anal canal. The microflora influences colonic absorption and cell metabolism, as well as feces quality. The digestive tract is essential for the health, survival, growth, and development of dogs and cats.\", metadata={'uid': '38625523', 'Title': 'Characteristics of the Digestive Tract of Dogs and Cats.', 'Published': '--', 'Copyright Information': '© 2024. The Author(s), under exclusive license to Springer Nature Switzerland AG.'}),\n",
              " Document(page_content='Polymyxin B (PMB) is considered a last-line treatment for multidrug-resistant (MDR) gram-negative bacterial infections. Model-informed precision dosing with population pharmacokinetics (PopPK) models could help to individualize PMB dosing regimens and improve therapy. However, the external prediction ability of the established PopPK models has not been fully elaborated. This study aimed to systemically evaluate eleven PMB PopPK models from ten published literature based on a new independent population, which was divided into four different populations, patients with liver dysfunction, kidney dysfunction, liver and kidney dysfunction, and normal liver and kidney function. The whole data set consisted of 146 patients with 391 PMB concentrations. The prediction- and simulation-based diagnostics and Bayesian forecasting were conducted to evaluate model predictability. In the overall evaluation process, none of the models exhibited satisfactory predictive ability in both prediction- and simulation-based diagnostic simultaneously. However, the evaluation of the models in the subgroup of patients with normal liver and kidney function revealed improved predictive performance compared to those with liver and/or kidney dysfunction. Bayesian forecasting demonstrated enhanced predictability with the incorporation of two to three prior observations. The external evaluation highlighted a lack of consistency between the prediction results of published models and the external validation dataset. Nonetheless, Bayesian forecasting holds promise in improving the predictive performance of the models, and feedback from therapeutic drug monitoring is crucial in optimizing individual dosing regimens.', metadata={'uid': '38625507', 'Title': 'A systematic evaluation of population pharmacokinetic models for polymyxin B in patients with liver and/or kidney dysfunction.', 'Published': '2024-04-16', 'Copyright Information': '© 2024. The Author(s), under exclusive licence to Springer Science+Business Media, LLC, part of Springer Nature.'}),\n",
              " Document(page_content='Supplementing a fishmeal-free diet with yeast extract improves rainbow trout (Oncorhynchus mykiss) growth performance and modulates the hepatic and intestinal transcriptomic response. These effects are often observed in the long term but are not well documented after short periods of fasting. Fasting for a few days is a common practice in fish farming, especially before handling the fish, such as for short sorting, tank transfers, and vaccinations. In the present study, rainbow trout were subjected to a 4-day fast and then refed, for 8\\xa0days, a conventional diet containing fishmeal (control diet) or alternative diets composed of terrestrial animal by-products supplemented or not with a yeast extract. During the refeeding period alone, most of the parameters considered did not differ significantly in response to the different feeds. Only the expression of claudin-15 was upregulated in fish fed the yeast-supplemented diet compared to the control diet. Conversely, fasting followed by refeeding significantly influenced most of the parameters analyzed. In the proximal intestine, the surface area of villi significantly increased, and the density of goblet cell tended to decrease during refeeding. Although no distinct plasma immune response or major signs of gut inflammation were observed, some genes involved in the structure, complement pathway, antiviral functions, coagulation, and endoplasmic reticulum stress response of the liver and intestine were significantly regulated by refeeding after fasting. These results indicate that short-term fasting, as commonly practiced in fish farming, significantly alters the physiology of the liver and intestine regardless of the composition of the diet.', metadata={'uid': '38625479', 'Title': 'Gut physiology of rainbow trout (Oncorhynchus mykiss) is influenced more by short-term fasting followed by refeeding than by feeding fishmeal-free diets.', 'Published': '2024-04-16', 'Copyright Information': '© 2024. The Author(s).'}),\n",
              " Document(page_content='Autoimmune liver diseases are associated with an increased risk of diabetes, yet the underlying mechanisms remain unknown. In this cross-sectional study, we investigated the glucose-regulatory disturbances in patients with autoimmune hepatitis (AIH, n=19), primary biliary cholangitis (PBC, n=15), and primary sclerosing cholangitis (PSC, n=6). Healthy individuals (n=24) and patients with metabolic dysfunction-associated steatotic liver disease (MASLD, n=18) were included as controls. Blood samples were collected during a 120 min oral glucose tolerance test. We measured the concentrations of glucose, C-peptide, insulin, glucagon, the two incretin hormones glucose insulinotropic peptide (GIP) and glucagon-like peptide-1 (GLP-1). We calculated the homeostasis model assessment of insulin resistance (HOMA-IR), whole body insulin resistance (Matsuda index), insulin clearance, and insulinogenic index. All patient groups had increased fasting plasma glucose and impaired glucose responses compared with healthy controls. Beta-cell secretion was increased in AIH, PBC, and MASLD but not in PSC. AIH and MASLD patients had hyperglucagonemia and hepatic, as well as peripheral, insulin resistance and decreased insulin clearance, resulting in hyperinsulinemia. Patients with autoimmune liver disease had an increased GIP response, and those with AIH or PBC had an increased GLP-1 response. Our data demonstrate that the mechanism underlying glucose disturbances in patients with autoimmune liver disease differs from that underlying MASLD, including compensatory incretin responses in patients with autoimmune liver disease. Our results suggest that glucose disturbances are present at an early stage of the disease.', metadata={'uid': '38625142', 'Title': 'Patients with autoimmune liver disease have glucose disturbances that mechanistically differ from steatotic liver disease.', 'Published': '2024-04-16', 'Copyright Information': ''}),\n",
              " Document(page_content='Both obesity and exposure to environmental genotoxicants, such as 7,12-dimethylbenz[a]anthracene (DMBA), negatively impair female reproductive health. Hyperphagic lean KK.Cg-a/a (n\\u2009=\\u20098) and obese KK.Cg-Ay/J (n\\u2009=\\u200910) mice were exposed to corn oil as vehicle control (CT) or DMBA (1\\xa0mg/kg/day) for 7d intraperitoneally, followed by a recovery period. Obesity increased liver and spleen weight (P\\u2009<\\u20090.05), and DMBA exposure decreased uterine weight (P\\u2009<\\u20090.05) in obese mice. Primordial follicle loss (P\\u2009<\\u20090.05) caused by DMBA exposure was observed in obese mice only. Primary (lean P\\u2009<\\u20090.1; obese P\\u2009<\\u20090.05) and secondary (lean P\\u2009<\\u20090.05, obese P\\u2009<\\u20090.1) follicle loss initiated by DMBA exposure continued across recovery. Reduced pre-antral follicle number in lean mice (P\\u2009<\\u20090.05), regardless of DMBA exposure, was evident with no effect on antral follicles or corpora lutea number. Immunofluorescence staining of DNA damage marker, γH2AX, did not indicate ongoing DNA damage but TRP53 abundance was decreased in follicles (P\\u2009<\\u20090.05) of DMBA-exposed obese mice. In contrast, increased (P\\u2009<\\u20090.05) superoxide dismutase was observed in the corpora lutea of DMBA-exposed obese mice and reduced (P\\u2009<\\u20090.05) TRP53 abundance was noted in preantral and antral follicles of DMBA-exposed obese mice. This study indicates that obesity influences ovotoxicity caused by a genotoxicant, potentially involving accelerated primordial follicle activation and hampering normal follicular dynamics.', metadata={'uid': '38625059', 'Title': 'Trajectory of primordial follicle depletion is accelerated in obese mice in response to 7,12-dimethylbenz[a]anthracene exposure.', 'Published': '2024-04-16', 'Copyright Information': '© The Author(s) 2024. Published by Oxford University Press behalf of Society for the Study of Reproduction.'}),\n",
              " Document(page_content=\"Altered cholesterol, oxysterol, sphingolipid, and fatty acid concentrations are reported in blood, cerebrospinal fluid, and brain tissue of people with relapsing remitting multiple sclerosis (RRMS) and are linked to disease progression and treatment responses. CD4+ T cells are pathogenic in RRMS, and defective T cell function could be mediated in part by liver X receptors (LXRs) - nuclear receptors that regulate lipid homeostasis and immunity. RNA-sequencing and pathway analysis identified that genes within the 'lipid metabolism' and 'signalling of nuclear receptors' pathways were dysregulated in CD4+ T cells isolated from RRMS patients compared with healthy donors. While LXRB and genes associated with cholesterol metabolism were upregulated, other T cell LXR-target genes, including genes involved in cellular lipid uptake (inducible degrader of the LDL receptor, IDOL), and the rate-limiting enzyme for glycosphingolipid biosynthesis (UDP-glucosylceramide synthase, UGCG) were downregulated in T cells from patients with RRMS compared to healthy donors. Correspondingly, plasma membrane glycosphingolipids were reduced, and cholesterol levels increased in RRMS CD4+ T cells, an effect partially recapitulated in healthy T cells by in vitro culture with T cell receptor stimulation in the presence of serum from RRMS patients. Notably, stimulation with LXR-agonist GW3965 normalised membrane cholesterol levels, and reduced proliferation and IL17 cytokine production in RRMS CD4+ T-cells. Thus, LXR-mediated lipid metabolism pathways were dysregulated in T cells from patients with RRMS and could contribute to RRMS pathogenesis. Therapies that modify lipid metabolism could help restore immune cell function.\", metadata={'uid': '38625017', 'Title': 'Dysregulated Lipid Metabolism Networks Modulate T-cell Function in People with Relapsing Remitting Multiple Sclerosis.', 'Published': '2024-04-16', 'Copyright Information': '© The Author(s) 2024. Published by Oxford University Press on behalf of the British Society for Immunology.'})]"
            ]
          },
          "metadata": {},
          "execution_count": 4
        }
      ]
    },
    {
      "cell_type": "code",
      "execution_count": null,
      "metadata": {
        "id": "grBJ-B7naeuH",
        "outputId": "4045f5f4-be77-4bb3-eaed-159cff6696a0",
        "colab": {
          "base_uri": "https://localhost:8080/",
          "height": 392,
          "referenced_widgets": [
            "28dee1ed478c4c01aca5fd2b533d62b5",
            "44582e726a43416aa17ab9e63e9e6ad3",
            "1cb16541d0c44d15ae17b41f5cfa8b56",
            "3cafc7ce639a42b79109521ba142bb21",
            "78afb597344c41c6a51f161aaa18abf2",
            "4a3c267b43ba49818c098ce01ac99d24",
            "6633f6f60c0f42298834a2b2d4c282c5",
            "c93be8de1bd44c2dbcf62df7d9b6a6d1",
            "9a38b81f2a2e4e85964d9df6736f6e24",
            "ff7189db2e7544a4b8f23e0ad1fbd0dd",
            "c09497dac8b349608a7f9defb9adda99",
            "3dd43243a30243e99eb60822618d89b3",
            "36eaff07fb224b86a6fa5354a72d5310",
            "6bd27c90fcd842f784051136852cebba",
            "e9930c601b91456380ec418d1e3ea2d6",
            "5d85816d3d494672aa971938bbda74d2",
            "b3d54515aea44c5db39ed32ccb571405",
            "9434e3a301ee466a926d9be09d1b1867",
            "87227cb837134ecd8c1d1f5163f710f6",
            "b7473660222043938d8e60cf47b5367a",
            "818d0577d7264fdcab10d9d573ef457b",
            "8be97a49e7e145e9904f5677cdf71b80"
          ]
        }
      },
      "outputs": [
        {
          "output_type": "display_data",
          "data": {
            "text/plain": [
              "embedding nodes:   0%|          | 0/20 [00:00<?, ?it/s]"
            ],
            "application/vnd.jupyter.widget-view+json": {
              "version_major": 2,
              "version_minor": 0,
              "model_id": "28dee1ed478c4c01aca5fd2b533d62b5"
            }
          },
          "metadata": {}
        },
        {
          "output_type": "stream",
          "name": "stderr",
          "text": [
            "WARNING:ragas.testset.docstore:Filename and doc_id are the same for all nodes.\n"
          ]
        },
        {
          "output_type": "display_data",
          "data": {
            "text/plain": [
              "Generating:   0%|          | 0/1 [00:00<?, ?it/s]"
            ],
            "application/vnd.jupyter.widget-view+json": {
              "version_major": 2,
              "version_minor": 0,
              "model_id": "3dd43243a30243e99eb60822618d89b3"
            }
          },
          "metadata": {}
        },
        {
          "output_type": "execute_result",
          "data": {
            "text/plain": [
              "                                            question  \\\n",
              "0  What are the effects of PSO supplementation on...   \n",
              "\n",
              "                                            contexts  \\\n",
              "0  [['Muribaculaceae', 'Blautia']\\nPunicic acid (...   \n",
              "\n",
              "                                        ground_truth evolution_type  \\\n",
              "0  PSO supplementation reduces hepatic lipid accu...  multi_context   \n",
              "\n",
              "                                            metadata  episode_done  \n",
              "0  [{'uid': '38618675', 'Title': {'i': 'via', '#t...          True  "
            ],
            "text/html": [
              "\n",
              "  <div id=\"df-17f1c652-800b-4166-bd1d-f3323123f6b8\" class=\"colab-df-container\">\n",
              "    <div>\n",
              "<style scoped>\n",
              "    .dataframe tbody tr th:only-of-type {\n",
              "        vertical-align: middle;\n",
              "    }\n",
              "\n",
              "    .dataframe tbody tr th {\n",
              "        vertical-align: top;\n",
              "    }\n",
              "\n",
              "    .dataframe thead th {\n",
              "        text-align: right;\n",
              "    }\n",
              "</style>\n",
              "<table border=\"1\" class=\"dataframe\">\n",
              "  <thead>\n",
              "    <tr style=\"text-align: right;\">\n",
              "      <th></th>\n",
              "      <th>question</th>\n",
              "      <th>contexts</th>\n",
              "      <th>ground_truth</th>\n",
              "      <th>evolution_type</th>\n",
              "      <th>metadata</th>\n",
              "      <th>episode_done</th>\n",
              "    </tr>\n",
              "  </thead>\n",
              "  <tbody>\n",
              "    <tr>\n",
              "      <th>0</th>\n",
              "      <td>What are the effects of PSO supplementation on...</td>\n",
              "      <td>[['Muribaculaceae', 'Blautia']\\nPunicic acid (...</td>\n",
              "      <td>PSO supplementation reduces hepatic lipid accu...</td>\n",
              "      <td>multi_context</td>\n",
              "      <td>[{'uid': '38618675', 'Title': {'i': 'via', '#t...</td>\n",
              "      <td>True</td>\n",
              "    </tr>\n",
              "  </tbody>\n",
              "</table>\n",
              "</div>\n",
              "    <div class=\"colab-df-buttons\">\n",
              "\n",
              "  <div class=\"colab-df-container\">\n",
              "    <button class=\"colab-df-convert\" onclick=\"convertToInteractive('df-17f1c652-800b-4166-bd1d-f3323123f6b8')\"\n",
              "            title=\"Convert this dataframe to an interactive table.\"\n",
              "            style=\"display:none;\">\n",
              "\n",
              "  <svg xmlns=\"http://www.w3.org/2000/svg\" height=\"24px\" viewBox=\"0 -960 960 960\">\n",
              "    <path d=\"M120-120v-720h720v720H120Zm60-500h600v-160H180v160Zm220 220h160v-160H400v160Zm0 220h160v-160H400v160ZM180-400h160v-160H180v160Zm440 0h160v-160H620v160ZM180-180h160v-160H180v160Zm440 0h160v-160H620v160Z\"/>\n",
              "  </svg>\n",
              "    </button>\n",
              "\n",
              "  <style>\n",
              "    .colab-df-container {\n",
              "      display:flex;\n",
              "      gap: 12px;\n",
              "    }\n",
              "\n",
              "    .colab-df-convert {\n",
              "      background-color: #E8F0FE;\n",
              "      border: none;\n",
              "      border-radius: 50%;\n",
              "      cursor: pointer;\n",
              "      display: none;\n",
              "      fill: #1967D2;\n",
              "      height: 32px;\n",
              "      padding: 0 0 0 0;\n",
              "      width: 32px;\n",
              "    }\n",
              "\n",
              "    .colab-df-convert:hover {\n",
              "      background-color: #E2EBFA;\n",
              "      box-shadow: 0px 1px 2px rgba(60, 64, 67, 0.3), 0px 1px 3px 1px rgba(60, 64, 67, 0.15);\n",
              "      fill: #174EA6;\n",
              "    }\n",
              "\n",
              "    .colab-df-buttons div {\n",
              "      margin-bottom: 4px;\n",
              "    }\n",
              "\n",
              "    [theme=dark] .colab-df-convert {\n",
              "      background-color: #3B4455;\n",
              "      fill: #D2E3FC;\n",
              "    }\n",
              "\n",
              "    [theme=dark] .colab-df-convert:hover {\n",
              "      background-color: #434B5C;\n",
              "      box-shadow: 0px 1px 3px 1px rgba(0, 0, 0, 0.15);\n",
              "      filter: drop-shadow(0px 1px 2px rgba(0, 0, 0, 0.3));\n",
              "      fill: #FFFFFF;\n",
              "    }\n",
              "  </style>\n",
              "\n",
              "    <script>\n",
              "      const buttonEl =\n",
              "        document.querySelector('#df-17f1c652-800b-4166-bd1d-f3323123f6b8 button.colab-df-convert');\n",
              "      buttonEl.style.display =\n",
              "        google.colab.kernel.accessAllowed ? 'block' : 'none';\n",
              "\n",
              "      async function convertToInteractive(key) {\n",
              "        const element = document.querySelector('#df-17f1c652-800b-4166-bd1d-f3323123f6b8');\n",
              "        const dataTable =\n",
              "          await google.colab.kernel.invokeFunction('convertToInteractive',\n",
              "                                                    [key], {});\n",
              "        if (!dataTable) return;\n",
              "\n",
              "        const docLinkHtml = 'Like what you see? Visit the ' +\n",
              "          '<a target=\"_blank\" href=https://colab.research.google.com/notebooks/data_table.ipynb>data table notebook</a>'\n",
              "          + ' to learn more about interactive tables.';\n",
              "        element.innerHTML = '';\n",
              "        dataTable['output_type'] = 'display_data';\n",
              "        await google.colab.output.renderOutput(dataTable, element);\n",
              "        const docLink = document.createElement('div');\n",
              "        docLink.innerHTML = docLinkHtml;\n",
              "        element.appendChild(docLink);\n",
              "      }\n",
              "    </script>\n",
              "  </div>\n",
              "\n",
              "    </div>\n",
              "  </div>\n"
            ],
            "application/vnd.google.colaboratory.intrinsic+json": {
              "type": "dataframe",
              "summary": "{\n  \"name\": \"testset\",\n  \"rows\": 1,\n  \"fields\": [\n    {\n      \"column\": \"question\",\n      \"properties\": {\n        \"dtype\": \"string\",\n        \"num_unique_values\": 1,\n        \"samples\": [\n          \"What are the effects of PSO supplementation on hepatic lipid status in mice fed a high-fructose high-fat diet, and how does it relate to gut microbiota regulation, cytokine expression, oxidative stress, TLR4 signaling pathways, dysbiosis of intestinal microflora, and intestinal barrier function?\"\n        ],\n        \"semantic_type\": \"\",\n        \"description\": \"\"\n      }\n    },\n    {\n      \"column\": \"contexts\",\n      \"properties\": {\n        \"dtype\": \"object\",\n        \"semantic_type\": \"\",\n        \"description\": \"\"\n      }\n    },\n    {\n      \"column\": \"ground_truth\",\n      \"properties\": {\n        \"dtype\": \"string\",\n        \"num_unique_values\": 1,\n        \"samples\": [\n          \"PSO supplementation reduces hepatic lipid accumulation and steatosis, inhibits the expression of pro-inflammatory mediators (including IL-6 and IL-1\\u03b2), restores the normal levels of the anti-inflammatory cytokine IL-10, alleviates oxidative stress, inhibits the activation of TLR4/MyD88/NF-\\u03baB and TLR4/IL-22/STAT3 signaling pathways in the liver, ameliorates the dysbiosis of intestinal microflora, increases the proportion of Muribaculaceae, decreases the ratio of Blautia, and restores the expression of tight junction proteins correlated with intestinal barrier function in the colon.\"\n        ],\n        \"semantic_type\": \"\",\n        \"description\": \"\"\n      }\n    },\n    {\n      \"column\": \"evolution_type\",\n      \"properties\": {\n        \"dtype\": \"string\",\n        \"num_unique_values\": 1,\n        \"samples\": [\n          \"multi_context\"\n        ],\n        \"semantic_type\": \"\",\n        \"description\": \"\"\n      }\n    },\n    {\n      \"column\": \"metadata\",\n      \"properties\": {\n        \"dtype\": \"object\",\n        \"semantic_type\": \"\",\n        \"description\": \"\"\n      }\n    },\n    {\n      \"column\": \"episode_done\",\n      \"properties\": {\n        \"dtype\": \"boolean\",\n        \"num_unique_values\": 1,\n        \"samples\": [\n          true\n        ],\n        \"semantic_type\": \"\",\n        \"description\": \"\"\n      }\n    }\n  ]\n}"
            }
          },
          "metadata": {},
          "execution_count": 10
        }
      ],
      "source": [
        "from ragas.testset.generator import TestsetGenerator\n",
        "from ragas.testset.evolutions import simple, reasoning, multi_context\n",
        "from langchain_openai import ChatOpenAI, OpenAIEmbeddings\n",
        "\n",
        "# documents = load your documents\n",
        "\n",
        "# generator with openai models\n",
        "generator_llm = ChatOpenAI(model=\"gpt-3.5-turbo-16k\")\n",
        "critic_llm = ChatOpenAI(model=\"gpt-4\")\n",
        "embeddings = OpenAIEmbeddings()\n",
        "\n",
        "generator = TestsetGenerator.from_langchain(\n",
        "    generator_llm,\n",
        "    critic_llm,\n",
        "    embeddings\n",
        ")\n",
        "\n",
        "# Change resulting question type distribution\n",
        "distributions = {\n",
        "    simple: 0,\n",
        "    multi_context: 1,\n",
        "    reasoning: 0\n",
        "}\n",
        "\n",
        "# use generator.generate_with_llamaindex_docs if you use llama-index as document loader\n",
        "testset = generator.generate_with_langchain_docs(documents, 1, distributions)\n",
        "testset.to_pandas()"
      ]
    },
    {
      "cell_type": "code",
      "source": [
        "youtube_bbc_videos = [\"https://youtu.be/TlFfHjOMSXQ\", \"https://youtu.be/-kZolk9EoMA\", \"https://youtu.be/JQMZkrz6X08\", \"https://youtu.be/D1iMZaLjBU4?si=xgmnHp6EjuVZ1FbH\",\n",
        "                      \"https://youtu.be/D1iMZaLjBU4?si=xgmnHp6EjuVZ1FbH\", \"https://youtu.be/D1iMZaLjBU4?si=xgmnHp6EjuVZ1FbH\", \"https://youtu.be/Sqcv9lCADxE?si=tB3rBHULaEqOFNPs\", \"https://youtu.be/Cg3YMWcjLI4?si=qXIt8s10v0kYltOY\", \"https://youtu.be/yQIMSv9Luw4?si=sht-Ipz2A3LwxP1X\", \"https://youtu.be/5LYGnqoCLGk?si=wXthcquZMd1EzbqE\", \"https://youtu.be/5LYGnqoCLGk?si=wXthcquZMd1EzbqE\", \"https://youtu.be/lHggWT2iLdo?si=i-mXdSqRR6u8u3jX\", \"https://youtu.be/TTUsxD62398?si=oN5Sa4tQu8pXzlK0\"]"
      ],
      "metadata": {
        "id": "FU2ZjBn3DwqJ"
      },
      "execution_count": null,
      "outputs": []
    },
    {
      "cell_type": "code",
      "source": [
        "from langchain_community.document_loaders import YoutubeLoader\n",
        "\n",
        "\n",
        "loader = YoutubeLoader.from_youtube_url(\n",
        "    \"https://youtu.be/TlFfHjOMSXQ\", add_video_info=True\n",
        ")\n",
        "\n",
        "docs = loader.load()"
      ],
      "metadata": {
        "id": "JyxBk1WFB7F3"
      },
      "execution_count": 13,
      "outputs": []
    },
    {
      "cell_type": "code",
      "source": [
        "docs"
      ],
      "metadata": {
        "id": "5CnhNYvxCMgm",
        "outputId": "25e38866-9969-4c44-89c3-cb3e757d3120",
        "colab": {
          "base_uri": "https://localhost:8080/"
        }
      },
      "execution_count": 14,
      "outputs": [
        {
          "output_type": "execute_result",
          "data": {
            "text/plain": [
              "[Document(page_content=\"smoking is the single biggest cause of preventable death in the UK it kills 2third of long-term users the aim of the new bill before Parliament is to protect younger Generations from harm by Banning tobacco use for them one caller with experience of that harm told the Nikki Campbell show on BBC Radio 5 live he regretted ever starting to smoke I have to have one lung removed got empia and COPD Neal lung and now I found out got terminal cancer in me Li and adrenal glands back I yeah it's some I've got used to now I've come to terms with it but what I've gone through the last three years I wouldn't like anybody to go through you know and ever could go back I wish I never started the harm done by smoking is well documented it causes lung and heart disease cancers still births dementia and Asthma England's chief medical officer sir Chris witty supports the ban people are trapped in smoking at a very young age uh and once they become addicted their choice is taken away so if you're in favor of choice you should be against something which takes away people's choices the majority great majority smokers wished they'd never started but now they're in trouble the tobacco and Vapes Bill set before Parliament today represents a huge step change it proposes that anyone turning 15 this year and all younger Generations would be banned from buying cigarettes throughout their lives but it sparked a fierce debate about freedoms what this policy does it infantilizes future adults because when you are 18 in this country you are legally an adult and as such you should be treated like one now look at 18 you can drive a car you can join the Army you can possess a credit card you can buy alcohol and most importantly you can vote the bill also includes new restrictions to tackle concerns about the sharp rise in children using Vapes it would ensure flavors and packaging were less appealing to children but some are doubtful it will work I don't think anybody necessarily looks at the packaging and be oh let's just try that it's more that oh it's vaping it's like a cool thing to do just as smoking was in the 80s kids will be kids they will try smoking they'll try vaping the debate continues in Parliament today with where MPS will be given their first chance to vote on what would be the world's first lifelong smoking ban for younger Generations Sophie Hutchinson BBC News while that debate is continuing in the Commons and health secretary Victoria Atkins has been explaining why she wants the law to be changed we are trying to move away from this idea that um uh teenagers Uh current youngsters uh will be able to buy their cigarettes Le legally in shops uh from the age of 18 in 2027 precisely because we want to ensure that they can lead uh longer healthier lives Victoria Atkins the health secretary\", metadata={'source': 'TlFfHjOMSXQ', 'title': 'UK smoking ban: MPs to vote on banning young people from buying cigarettes | BBC News', 'description': 'Unknown', 'view_count': 2933, 'thumbnail_url': 'https://i.ytimg.com/vi/TlFfHjOMSXQ/hq720.jpg', 'publish_date': '2024-04-16 00:00:00', 'length': 192, 'author': 'BBC News'})]"
            ]
          },
          "metadata": {},
          "execution_count": 14
        }
      ]
    },
    {
      "cell_type": "code",
      "source": [
        "!pip install youtube-transcript-api pytube\n"
      ],
      "metadata": {
        "id": "gmRpz8j2B9cO",
        "outputId": "454aeb94-f772-4c83-e73b-e67ed7901005",
        "colab": {
          "base_uri": "https://localhost:8080/"
        }
      },
      "execution_count": 10,
      "outputs": [
        {
          "output_type": "stream",
          "name": "stdout",
          "text": [
            "Requirement already satisfied: youtube-transcript-api in /usr/local/lib/python3.10/dist-packages (0.6.2)\n",
            "Collecting pytube\n",
            "  Downloading pytube-15.0.0-py3-none-any.whl (57 kB)\n",
            "\u001b[2K     \u001b[90m━━━━━━━━━━━━━━━━━━━━━━━━━━━━━━━━━━━━━━━━\u001b[0m \u001b[32m57.6/57.6 kB\u001b[0m \u001b[31m2.2 MB/s\u001b[0m eta \u001b[36m0:00:00\u001b[0m\n",
            "\u001b[?25hRequirement already satisfied: requests in /usr/local/lib/python3.10/dist-packages (from youtube-transcript-api) (2.31.0)\n",
            "Requirement already satisfied: charset-normalizer<4,>=2 in /usr/local/lib/python3.10/dist-packages (from requests->youtube-transcript-api) (3.3.2)\n",
            "Requirement already satisfied: idna<4,>=2.5 in /usr/local/lib/python3.10/dist-packages (from requests->youtube-transcript-api) (3.6)\n",
            "Requirement already satisfied: urllib3<3,>=1.21.1 in /usr/local/lib/python3.10/dist-packages (from requests->youtube-transcript-api) (2.0.7)\n",
            "Requirement already satisfied: certifi>=2017.4.17 in /usr/local/lib/python3.10/dist-packages (from requests->youtube-transcript-api) (2024.2.2)\n",
            "Installing collected packages: pytube\n",
            "Successfully installed pytube-15.0.0\n"
          ]
        }
      ]
    },
    {
      "cell_type": "code",
      "execution_count": null,
      "metadata": {
        "id": "Yc-2UkeeaeuI"
      },
      "outputs": [],
      "source": []
    }
  ],
  "metadata": {
    "kernelspec": {
      "display_name": "rtb",
      "language": "python",
      "name": "python3"
    },
    "language_info": {
      "codemirror_mode": {
        "name": "ipython",
        "version": 3
      },
      "file_extension": ".py",
      "mimetype": "text/x-python",
      "name": "python",
      "nbconvert_exporter": "python",
      "pygments_lexer": "ipython3",
      "version": "3.10.13"
    },
    "colab": {
      "provenance": []
    },
    "widgets": {
      "application/vnd.jupyter.widget-state+json": {
        "28dee1ed478c4c01aca5fd2b533d62b5": {
          "model_module": "@jupyter-widgets/controls",
          "model_name": "HBoxModel",
          "model_module_version": "1.5.0",
          "state": {
            "_dom_classes": [],
            "_model_module": "@jupyter-widgets/controls",
            "_model_module_version": "1.5.0",
            "_model_name": "HBoxModel",
            "_view_count": null,
            "_view_module": "@jupyter-widgets/controls",
            "_view_module_version": "1.5.0",
            "_view_name": "HBoxView",
            "box_style": "",
            "children": [
              "IPY_MODEL_44582e726a43416aa17ab9e63e9e6ad3",
              "IPY_MODEL_1cb16541d0c44d15ae17b41f5cfa8b56",
              "IPY_MODEL_3cafc7ce639a42b79109521ba142bb21"
            ],
            "layout": "IPY_MODEL_78afb597344c41c6a51f161aaa18abf2"
          }
        },
        "44582e726a43416aa17ab9e63e9e6ad3": {
          "model_module": "@jupyter-widgets/controls",
          "model_name": "HTMLModel",
          "model_module_version": "1.5.0",
          "state": {
            "_dom_classes": [],
            "_model_module": "@jupyter-widgets/controls",
            "_model_module_version": "1.5.0",
            "_model_name": "HTMLModel",
            "_view_count": null,
            "_view_module": "@jupyter-widgets/controls",
            "_view_module_version": "1.5.0",
            "_view_name": "HTMLView",
            "description": "",
            "description_tooltip": null,
            "layout": "IPY_MODEL_4a3c267b43ba49818c098ce01ac99d24",
            "placeholder": "​",
            "style": "IPY_MODEL_6633f6f60c0f42298834a2b2d4c282c5",
            "value": "embedding nodes: 100%"
          }
        },
        "1cb16541d0c44d15ae17b41f5cfa8b56": {
          "model_module": "@jupyter-widgets/controls",
          "model_name": "FloatProgressModel",
          "model_module_version": "1.5.0",
          "state": {
            "_dom_classes": [],
            "_model_module": "@jupyter-widgets/controls",
            "_model_module_version": "1.5.0",
            "_model_name": "FloatProgressModel",
            "_view_count": null,
            "_view_module": "@jupyter-widgets/controls",
            "_view_module_version": "1.5.0",
            "_view_name": "ProgressView",
            "bar_style": "",
            "description": "",
            "description_tooltip": null,
            "layout": "IPY_MODEL_c93be8de1bd44c2dbcf62df7d9b6a6d1",
            "max": 20,
            "min": 0,
            "orientation": "horizontal",
            "style": "IPY_MODEL_9a38b81f2a2e4e85964d9df6736f6e24",
            "value": 20
          }
        },
        "3cafc7ce639a42b79109521ba142bb21": {
          "model_module": "@jupyter-widgets/controls",
          "model_name": "HTMLModel",
          "model_module_version": "1.5.0",
          "state": {
            "_dom_classes": [],
            "_model_module": "@jupyter-widgets/controls",
            "_model_module_version": "1.5.0",
            "_model_name": "HTMLModel",
            "_view_count": null,
            "_view_module": "@jupyter-widgets/controls",
            "_view_module_version": "1.5.0",
            "_view_name": "HTMLView",
            "description": "",
            "description_tooltip": null,
            "layout": "IPY_MODEL_ff7189db2e7544a4b8f23e0ad1fbd0dd",
            "placeholder": "​",
            "style": "IPY_MODEL_c09497dac8b349608a7f9defb9adda99",
            "value": " 20/20 [00:03&lt;00:00,  2.41it/s]"
          }
        },
        "78afb597344c41c6a51f161aaa18abf2": {
          "model_module": "@jupyter-widgets/base",
          "model_name": "LayoutModel",
          "model_module_version": "1.2.0",
          "state": {
            "_model_module": "@jupyter-widgets/base",
            "_model_module_version": "1.2.0",
            "_model_name": "LayoutModel",
            "_view_count": null,
            "_view_module": "@jupyter-widgets/base",
            "_view_module_version": "1.2.0",
            "_view_name": "LayoutView",
            "align_content": null,
            "align_items": null,
            "align_self": null,
            "border": null,
            "bottom": null,
            "display": null,
            "flex": null,
            "flex_flow": null,
            "grid_area": null,
            "grid_auto_columns": null,
            "grid_auto_flow": null,
            "grid_auto_rows": null,
            "grid_column": null,
            "grid_gap": null,
            "grid_row": null,
            "grid_template_areas": null,
            "grid_template_columns": null,
            "grid_template_rows": null,
            "height": null,
            "justify_content": null,
            "justify_items": null,
            "left": null,
            "margin": null,
            "max_height": null,
            "max_width": null,
            "min_height": null,
            "min_width": null,
            "object_fit": null,
            "object_position": null,
            "order": null,
            "overflow": null,
            "overflow_x": null,
            "overflow_y": null,
            "padding": null,
            "right": null,
            "top": null,
            "visibility": "hidden",
            "width": null
          }
        },
        "4a3c267b43ba49818c098ce01ac99d24": {
          "model_module": "@jupyter-widgets/base",
          "model_name": "LayoutModel",
          "model_module_version": "1.2.0",
          "state": {
            "_model_module": "@jupyter-widgets/base",
            "_model_module_version": "1.2.0",
            "_model_name": "LayoutModel",
            "_view_count": null,
            "_view_module": "@jupyter-widgets/base",
            "_view_module_version": "1.2.0",
            "_view_name": "LayoutView",
            "align_content": null,
            "align_items": null,
            "align_self": null,
            "border": null,
            "bottom": null,
            "display": null,
            "flex": null,
            "flex_flow": null,
            "grid_area": null,
            "grid_auto_columns": null,
            "grid_auto_flow": null,
            "grid_auto_rows": null,
            "grid_column": null,
            "grid_gap": null,
            "grid_row": null,
            "grid_template_areas": null,
            "grid_template_columns": null,
            "grid_template_rows": null,
            "height": null,
            "justify_content": null,
            "justify_items": null,
            "left": null,
            "margin": null,
            "max_height": null,
            "max_width": null,
            "min_height": null,
            "min_width": null,
            "object_fit": null,
            "object_position": null,
            "order": null,
            "overflow": null,
            "overflow_x": null,
            "overflow_y": null,
            "padding": null,
            "right": null,
            "top": null,
            "visibility": null,
            "width": null
          }
        },
        "6633f6f60c0f42298834a2b2d4c282c5": {
          "model_module": "@jupyter-widgets/controls",
          "model_name": "DescriptionStyleModel",
          "model_module_version": "1.5.0",
          "state": {
            "_model_module": "@jupyter-widgets/controls",
            "_model_module_version": "1.5.0",
            "_model_name": "DescriptionStyleModel",
            "_view_count": null,
            "_view_module": "@jupyter-widgets/base",
            "_view_module_version": "1.2.0",
            "_view_name": "StyleView",
            "description_width": ""
          }
        },
        "c93be8de1bd44c2dbcf62df7d9b6a6d1": {
          "model_module": "@jupyter-widgets/base",
          "model_name": "LayoutModel",
          "model_module_version": "1.2.0",
          "state": {
            "_model_module": "@jupyter-widgets/base",
            "_model_module_version": "1.2.0",
            "_model_name": "LayoutModel",
            "_view_count": null,
            "_view_module": "@jupyter-widgets/base",
            "_view_module_version": "1.2.0",
            "_view_name": "LayoutView",
            "align_content": null,
            "align_items": null,
            "align_self": null,
            "border": null,
            "bottom": null,
            "display": null,
            "flex": null,
            "flex_flow": null,
            "grid_area": null,
            "grid_auto_columns": null,
            "grid_auto_flow": null,
            "grid_auto_rows": null,
            "grid_column": null,
            "grid_gap": null,
            "grid_row": null,
            "grid_template_areas": null,
            "grid_template_columns": null,
            "grid_template_rows": null,
            "height": null,
            "justify_content": null,
            "justify_items": null,
            "left": null,
            "margin": null,
            "max_height": null,
            "max_width": null,
            "min_height": null,
            "min_width": null,
            "object_fit": null,
            "object_position": null,
            "order": null,
            "overflow": null,
            "overflow_x": null,
            "overflow_y": null,
            "padding": null,
            "right": null,
            "top": null,
            "visibility": null,
            "width": null
          }
        },
        "9a38b81f2a2e4e85964d9df6736f6e24": {
          "model_module": "@jupyter-widgets/controls",
          "model_name": "ProgressStyleModel",
          "model_module_version": "1.5.0",
          "state": {
            "_model_module": "@jupyter-widgets/controls",
            "_model_module_version": "1.5.0",
            "_model_name": "ProgressStyleModel",
            "_view_count": null,
            "_view_module": "@jupyter-widgets/base",
            "_view_module_version": "1.2.0",
            "_view_name": "StyleView",
            "bar_color": null,
            "description_width": ""
          }
        },
        "ff7189db2e7544a4b8f23e0ad1fbd0dd": {
          "model_module": "@jupyter-widgets/base",
          "model_name": "LayoutModel",
          "model_module_version": "1.2.0",
          "state": {
            "_model_module": "@jupyter-widgets/base",
            "_model_module_version": "1.2.0",
            "_model_name": "LayoutModel",
            "_view_count": null,
            "_view_module": "@jupyter-widgets/base",
            "_view_module_version": "1.2.0",
            "_view_name": "LayoutView",
            "align_content": null,
            "align_items": null,
            "align_self": null,
            "border": null,
            "bottom": null,
            "display": null,
            "flex": null,
            "flex_flow": null,
            "grid_area": null,
            "grid_auto_columns": null,
            "grid_auto_flow": null,
            "grid_auto_rows": null,
            "grid_column": null,
            "grid_gap": null,
            "grid_row": null,
            "grid_template_areas": null,
            "grid_template_columns": null,
            "grid_template_rows": null,
            "height": null,
            "justify_content": null,
            "justify_items": null,
            "left": null,
            "margin": null,
            "max_height": null,
            "max_width": null,
            "min_height": null,
            "min_width": null,
            "object_fit": null,
            "object_position": null,
            "order": null,
            "overflow": null,
            "overflow_x": null,
            "overflow_y": null,
            "padding": null,
            "right": null,
            "top": null,
            "visibility": null,
            "width": null
          }
        },
        "c09497dac8b349608a7f9defb9adda99": {
          "model_module": "@jupyter-widgets/controls",
          "model_name": "DescriptionStyleModel",
          "model_module_version": "1.5.0",
          "state": {
            "_model_module": "@jupyter-widgets/controls",
            "_model_module_version": "1.5.0",
            "_model_name": "DescriptionStyleModel",
            "_view_count": null,
            "_view_module": "@jupyter-widgets/base",
            "_view_module_version": "1.2.0",
            "_view_name": "StyleView",
            "description_width": ""
          }
        },
        "3dd43243a30243e99eb60822618d89b3": {
          "model_module": "@jupyter-widgets/controls",
          "model_name": "HBoxModel",
          "model_module_version": "1.5.0",
          "state": {
            "_dom_classes": [],
            "_model_module": "@jupyter-widgets/controls",
            "_model_module_version": "1.5.0",
            "_model_name": "HBoxModel",
            "_view_count": null,
            "_view_module": "@jupyter-widgets/controls",
            "_view_module_version": "1.5.0",
            "_view_name": "HBoxView",
            "box_style": "",
            "children": [
              "IPY_MODEL_36eaff07fb224b86a6fa5354a72d5310",
              "IPY_MODEL_6bd27c90fcd842f784051136852cebba",
              "IPY_MODEL_e9930c601b91456380ec418d1e3ea2d6"
            ],
            "layout": "IPY_MODEL_5d85816d3d494672aa971938bbda74d2"
          }
        },
        "36eaff07fb224b86a6fa5354a72d5310": {
          "model_module": "@jupyter-widgets/controls",
          "model_name": "HTMLModel",
          "model_module_version": "1.5.0",
          "state": {
            "_dom_classes": [],
            "_model_module": "@jupyter-widgets/controls",
            "_model_module_version": "1.5.0",
            "_model_name": "HTMLModel",
            "_view_count": null,
            "_view_module": "@jupyter-widgets/controls",
            "_view_module_version": "1.5.0",
            "_view_name": "HTMLView",
            "description": "",
            "description_tooltip": null,
            "layout": "IPY_MODEL_b3d54515aea44c5db39ed32ccb571405",
            "placeholder": "​",
            "style": "IPY_MODEL_9434e3a301ee466a926d9be09d1b1867",
            "value": "Generating: 100%"
          }
        },
        "6bd27c90fcd842f784051136852cebba": {
          "model_module": "@jupyter-widgets/controls",
          "model_name": "FloatProgressModel",
          "model_module_version": "1.5.0",
          "state": {
            "_dom_classes": [],
            "_model_module": "@jupyter-widgets/controls",
            "_model_module_version": "1.5.0",
            "_model_name": "FloatProgressModel",
            "_view_count": null,
            "_view_module": "@jupyter-widgets/controls",
            "_view_module_version": "1.5.0",
            "_view_name": "ProgressView",
            "bar_style": "success",
            "description": "",
            "description_tooltip": null,
            "layout": "IPY_MODEL_87227cb837134ecd8c1d1f5163f710f6",
            "max": 1,
            "min": 0,
            "orientation": "horizontal",
            "style": "IPY_MODEL_b7473660222043938d8e60cf47b5367a",
            "value": 1
          }
        },
        "e9930c601b91456380ec418d1e3ea2d6": {
          "model_module": "@jupyter-widgets/controls",
          "model_name": "HTMLModel",
          "model_module_version": "1.5.0",
          "state": {
            "_dom_classes": [],
            "_model_module": "@jupyter-widgets/controls",
            "_model_module_version": "1.5.0",
            "_model_name": "HTMLModel",
            "_view_count": null,
            "_view_module": "@jupyter-widgets/controls",
            "_view_module_version": "1.5.0",
            "_view_name": "HTMLView",
            "description": "",
            "description_tooltip": null,
            "layout": "IPY_MODEL_818d0577d7264fdcab10d9d573ef457b",
            "placeholder": "​",
            "style": "IPY_MODEL_8be97a49e7e145e9904f5677cdf71b80",
            "value": " 1/1 [00:31&lt;00:00, 31.91s/it]"
          }
        },
        "5d85816d3d494672aa971938bbda74d2": {
          "model_module": "@jupyter-widgets/base",
          "model_name": "LayoutModel",
          "model_module_version": "1.2.0",
          "state": {
            "_model_module": "@jupyter-widgets/base",
            "_model_module_version": "1.2.0",
            "_model_name": "LayoutModel",
            "_view_count": null,
            "_view_module": "@jupyter-widgets/base",
            "_view_module_version": "1.2.0",
            "_view_name": "LayoutView",
            "align_content": null,
            "align_items": null,
            "align_self": null,
            "border": null,
            "bottom": null,
            "display": null,
            "flex": null,
            "flex_flow": null,
            "grid_area": null,
            "grid_auto_columns": null,
            "grid_auto_flow": null,
            "grid_auto_rows": null,
            "grid_column": null,
            "grid_gap": null,
            "grid_row": null,
            "grid_template_areas": null,
            "grid_template_columns": null,
            "grid_template_rows": null,
            "height": null,
            "justify_content": null,
            "justify_items": null,
            "left": null,
            "margin": null,
            "max_height": null,
            "max_width": null,
            "min_height": null,
            "min_width": null,
            "object_fit": null,
            "object_position": null,
            "order": null,
            "overflow": null,
            "overflow_x": null,
            "overflow_y": null,
            "padding": null,
            "right": null,
            "top": null,
            "visibility": null,
            "width": null
          }
        },
        "b3d54515aea44c5db39ed32ccb571405": {
          "model_module": "@jupyter-widgets/base",
          "model_name": "LayoutModel",
          "model_module_version": "1.2.0",
          "state": {
            "_model_module": "@jupyter-widgets/base",
            "_model_module_version": "1.2.0",
            "_model_name": "LayoutModel",
            "_view_count": null,
            "_view_module": "@jupyter-widgets/base",
            "_view_module_version": "1.2.0",
            "_view_name": "LayoutView",
            "align_content": null,
            "align_items": null,
            "align_self": null,
            "border": null,
            "bottom": null,
            "display": null,
            "flex": null,
            "flex_flow": null,
            "grid_area": null,
            "grid_auto_columns": null,
            "grid_auto_flow": null,
            "grid_auto_rows": null,
            "grid_column": null,
            "grid_gap": null,
            "grid_row": null,
            "grid_template_areas": null,
            "grid_template_columns": null,
            "grid_template_rows": null,
            "height": null,
            "justify_content": null,
            "justify_items": null,
            "left": null,
            "margin": null,
            "max_height": null,
            "max_width": null,
            "min_height": null,
            "min_width": null,
            "object_fit": null,
            "object_position": null,
            "order": null,
            "overflow": null,
            "overflow_x": null,
            "overflow_y": null,
            "padding": null,
            "right": null,
            "top": null,
            "visibility": null,
            "width": null
          }
        },
        "9434e3a301ee466a926d9be09d1b1867": {
          "model_module": "@jupyter-widgets/controls",
          "model_name": "DescriptionStyleModel",
          "model_module_version": "1.5.0",
          "state": {
            "_model_module": "@jupyter-widgets/controls",
            "_model_module_version": "1.5.0",
            "_model_name": "DescriptionStyleModel",
            "_view_count": null,
            "_view_module": "@jupyter-widgets/base",
            "_view_module_version": "1.2.0",
            "_view_name": "StyleView",
            "description_width": ""
          }
        },
        "87227cb837134ecd8c1d1f5163f710f6": {
          "model_module": "@jupyter-widgets/base",
          "model_name": "LayoutModel",
          "model_module_version": "1.2.0",
          "state": {
            "_model_module": "@jupyter-widgets/base",
            "_model_module_version": "1.2.0",
            "_model_name": "LayoutModel",
            "_view_count": null,
            "_view_module": "@jupyter-widgets/base",
            "_view_module_version": "1.2.0",
            "_view_name": "LayoutView",
            "align_content": null,
            "align_items": null,
            "align_self": null,
            "border": null,
            "bottom": null,
            "display": null,
            "flex": null,
            "flex_flow": null,
            "grid_area": null,
            "grid_auto_columns": null,
            "grid_auto_flow": null,
            "grid_auto_rows": null,
            "grid_column": null,
            "grid_gap": null,
            "grid_row": null,
            "grid_template_areas": null,
            "grid_template_columns": null,
            "grid_template_rows": null,
            "height": null,
            "justify_content": null,
            "justify_items": null,
            "left": null,
            "margin": null,
            "max_height": null,
            "max_width": null,
            "min_height": null,
            "min_width": null,
            "object_fit": null,
            "object_position": null,
            "order": null,
            "overflow": null,
            "overflow_x": null,
            "overflow_y": null,
            "padding": null,
            "right": null,
            "top": null,
            "visibility": null,
            "width": null
          }
        },
        "b7473660222043938d8e60cf47b5367a": {
          "model_module": "@jupyter-widgets/controls",
          "model_name": "ProgressStyleModel",
          "model_module_version": "1.5.0",
          "state": {
            "_model_module": "@jupyter-widgets/controls",
            "_model_module_version": "1.5.0",
            "_model_name": "ProgressStyleModel",
            "_view_count": null,
            "_view_module": "@jupyter-widgets/base",
            "_view_module_version": "1.2.0",
            "_view_name": "StyleView",
            "bar_color": null,
            "description_width": ""
          }
        },
        "818d0577d7264fdcab10d9d573ef457b": {
          "model_module": "@jupyter-widgets/base",
          "model_name": "LayoutModel",
          "model_module_version": "1.2.0",
          "state": {
            "_model_module": "@jupyter-widgets/base",
            "_model_module_version": "1.2.0",
            "_model_name": "LayoutModel",
            "_view_count": null,
            "_view_module": "@jupyter-widgets/base",
            "_view_module_version": "1.2.0",
            "_view_name": "LayoutView",
            "align_content": null,
            "align_items": null,
            "align_self": null,
            "border": null,
            "bottom": null,
            "display": null,
            "flex": null,
            "flex_flow": null,
            "grid_area": null,
            "grid_auto_columns": null,
            "grid_auto_flow": null,
            "grid_auto_rows": null,
            "grid_column": null,
            "grid_gap": null,
            "grid_row": null,
            "grid_template_areas": null,
            "grid_template_columns": null,
            "grid_template_rows": null,
            "height": null,
            "justify_content": null,
            "justify_items": null,
            "left": null,
            "margin": null,
            "max_height": null,
            "max_width": null,
            "min_height": null,
            "min_width": null,
            "object_fit": null,
            "object_position": null,
            "order": null,
            "overflow": null,
            "overflow_x": null,
            "overflow_y": null,
            "padding": null,
            "right": null,
            "top": null,
            "visibility": null,
            "width": null
          }
        },
        "8be97a49e7e145e9904f5677cdf71b80": {
          "model_module": "@jupyter-widgets/controls",
          "model_name": "DescriptionStyleModel",
          "model_module_version": "1.5.0",
          "state": {
            "_model_module": "@jupyter-widgets/controls",
            "_model_module_version": "1.5.0",
            "_model_name": "DescriptionStyleModel",
            "_view_count": null,
            "_view_module": "@jupyter-widgets/base",
            "_view_module_version": "1.2.0",
            "_view_name": "StyleView",
            "description_width": ""
          }
        }
      }
    }
  },
  "nbformat": 4,
  "nbformat_minor": 0
}