{
  "cells": [
    {
      "cell_type": "markdown",
      "metadata": {
        "id": "OE9ltTAn3Bft"
      },
      "source": [
        "<a target=\"_blank\" href=\"https://colab.research.google.com/github/gox6/colab-demos/blob/main/data-science-stack/polars-a-modern-dataframe-library.ipynb\">\n",
        "  <img src=\"https://colab.research.google.com/assets/colab-badge.svg\" alt=\"Open In Colab\"/>\n",
        "</a>"
      ]
    },
    {
      "cell_type": "markdown",
      "metadata": {
        "id": "Th4snAyoMQt9"
      },
      "source": [
        "<html>\n",
        "<body>\n",
        "    <div style=\"display: flex;\">\n",
        "        <a href=\"https://medium.com/@jgrygolec/polars-a-modern-dataframe-library-dcce43f43f3b\" style=\"width: 45em; height: 15em; background-color: white; padding-left: 1em; display: flex; flex-direction: column; justify-content: center; color: inherit; text-decoration: none;\">\n",
        "            <p style=\"margin: 0; font-size: 1.5em; color: darkblue; font-weight: bold;\">The notebook contains the code for Medium article</p>\n",
        "            <p style=\"margin: 0; font-weight: bold; font-size: 1.5em; color: #3D4849;\">Polars: A Modern DataFrame Library</p>\n",
        "        </a>\n",
        "        <a href=\"https://medium.com/@jgrygolec/polars-a-modern-dataframe-library-dcce43f43f3b\" style=\"width: 15em; height: 15em;\">\n",
        "            <img src=\"https://cdn-images-1.medium.com/max/800/1*Oe1Jsf_23vUOma_2v6z75Q.png\" style=\"width: 100%; height: 100%; object-fit: cover;\">\n",
        "        </a>\n",
        "    </div>\n",
        "</body>\n",
        "</html>"
      ]
    },
    {
      "cell_type": "markdown",
      "metadata": {
        "id": "vmF0y8zEshFD"
      },
      "source": [
        "# Project Setup"
      ]
    },
    {
      "cell_type": "code",
      "execution_count": 1,
      "metadata": {
        "id": "XabXrMzWo9kF"
      },
      "outputs": [
        {
          "name": "stdout",
          "output_type": "stream",
          "text": [
            "\n",
            "\u001b[1m[\u001b[0m\u001b[34;49mnotice\u001b[0m\u001b[1;39;49m]\u001b[0m\u001b[39;49m A new release of pip is available: \u001b[0m\u001b[31;49m23.1.2\u001b[0m\u001b[39;49m -> \u001b[0m\u001b[32;49m24.0\u001b[0m\n",
            "\u001b[1m[\u001b[0m\u001b[34;49mnotice\u001b[0m\u001b[1;39;49m]\u001b[0m\u001b[39;49m To update, run: \u001b[0m\u001b[32;49mpip install --upgrade pip\u001b[0m\n",
            "\n",
            "\u001b[1m[\u001b[0m\u001b[34;49mnotice\u001b[0m\u001b[1;39;49m]\u001b[0m\u001b[39;49m A new release of pip is available: \u001b[0m\u001b[31;49m23.1.2\u001b[0m\u001b[39;49m -> \u001b[0m\u001b[32;49m24.0\u001b[0m\n",
            "\u001b[1m[\u001b[0m\u001b[34;49mnotice\u001b[0m\u001b[1;39;49m]\u001b[0m\u001b[39;49m To update, run: \u001b[0m\u001b[32;49mpip install --upgrade pip\u001b[0m\n"
          ]
        }
      ],
      "source": [
        "# Installing Python packages quietly\n",
        "\n",
        "!pip install --quiet \\\n",
        "  httpx \\\n",
        "  pandas \\\n",
        "  plotly \\\n",
        "  polars \\\n",
        "  pyarrow \\\n",
        "  pympler \\\n",
        "  1> /dev/null\n",
        "\n",
        "!pip install nbformat 1> /dev/null"
      ]
    },
    {
      "cell_type": "code",
      "execution_count": 2,
      "metadata": {
        "id": "u3-Muf2go9kG"
      },
      "outputs": [],
      "source": [
        "# Importing the packages\n",
        "from io import BytesIO\n",
        "import os\n",
        "from pathlib import Path\n",
        "import time\n",
        "from zipfile import ZipFile\n",
        "\n",
        "import httpx\n",
        "import pandas as pd\n",
        "import polars as pl\n",
        "import polars.selectors as cs\n",
        "from pympler import asizeof"
      ]
    },
    {
      "cell_type": "code",
      "execution_count": 3,
      "metadata": {
        "colab": {
          "base_uri": "https://localhost:8080/"
        },
        "id": "4Gaqge6KmLea",
        "outputId": "ce3b264e-845d-4283-f543-a215e690375e"
      },
      "outputs": [
        {
          "name": "stdout",
          "output_type": "stream",
          "text": [
            "Non Colab runtime\n"
          ]
        }
      ],
      "source": [
        "# Managing secrets\n",
        "# - If using Colab please use Colab Secrets\n",
        "# - If running outside Colab please provide secrets as environmental variables\n",
        "COLAB = os.getenv(\"COLAB_RELEASE_TAG\") is not None\n",
        "\n",
        "if COLAB:\n",
        "    from google.colab import userdata, data_table\n",
        "\n",
        "    runtime_info = \"Colab runtime\"\n",
        "\n",
        "    # Enabling Colab's data formatter for pandas\n",
        "    data_table.enable_dataframe_formatter()\n",
        "else:\n",
        "    runtime_info = \"Non Colab runtime\"\n",
        "\n",
        "print(runtime_info)"
      ]
    },
    {
      "cell_type": "code",
      "execution_count": 4,
      "metadata": {
        "id": "mNzKH9_NrrTb"
      },
      "outputs": [],
      "source": [
        "# Download a zip file into the buffer\n",
        "\n",
        "if not Path(\"./data/MetroPT3(AirCompressor).csv\").exists():\n",
        "    url = \"https://archive.ics.uci.edu/static/public/791/metropt+3+dataset.zip\"\n",
        "    with httpx.Client() as client:\n",
        "        response = client.get(url)\n",
        "        buffer = BytesIO(response.content)\n",
        "\n",
        "    # Unzip into the current directory\n",
        "    with ZipFile(buffer) as zip_ref:\n",
        "        # Extract all files to the current directory\n",
        "        zip_ref.extractall(\"./data/\")"
      ]
    },
    {
      "cell_type": "code",
      "execution_count": 5,
      "metadata": {},
      "outputs": [],
      "source": [
        "# We need to load the data\n",
        "df_pl = pl.read_csv(\"./data/MetroPT3(AirCompressor).csv\")\n",
        "\n",
        "# It is faster to convert to pandas from polars, than load with pandas\n",
        "df_pd = df_pl.to_pandas()"
      ]
    },
    {
      "cell_type": "code",
      "execution_count": 6,
      "metadata": {},
      "outputs": [
        {
          "data": {
            "text/html": [
              "<div><style>\n",
              ".dataframe > thead > tr,\n",
              ".dataframe > tbody > tr {\n",
              "  text-align: right;\n",
              "  white-space: pre-wrap;\n",
              "}\n",
              "</style>\n",
              "<small>shape: (9, 18)</small><table border=\"1\" class=\"dataframe\"><thead><tr><th>statistic</th><th></th><th>timestamp</th><th>TP2</th><th>TP3</th><th>H1</th><th>DV_pressure</th><th>Reservoirs</th><th>Oil_temperature</th><th>Motor_current</th><th>COMP</th><th>DV_eletric</th><th>Towers</th><th>MPG</th><th>LPS</th><th>Pressure_switch</th><th>Oil_level</th><th>Caudal_impulses</th></tr><tr><td>str</td><td>f64</td><td>str</td><td>f64</td><td>f64</td><td>f64</td><td>f64</td><td>f64</td><td>f64</td><td>f64</td><td>f64</td><td>f64</td><td>f64</td><td>f64</td><td>f64</td><td>f64</td><td>f64</td><td>f64</td></tr></thead><tbody><tr><td>&quot;count&quot;</td><td>1.516948e6</td><td>&quot;1516948&quot;</td><td>1.516948e6</td><td>1.516948e6</td><td>1.516948e6</td><td>1.516948e6</td><td>1.516948e6</td><td>1.516948e6</td><td>1.516948e6</td><td>1.516948e6</td><td>1.516948e6</td><td>1.516948e6</td><td>1.516948e6</td><td>1.516948e6</td><td>1.516948e6</td><td>1.516948e6</td><td>1.516948e6</td></tr><tr><td>&quot;null_count&quot;</td><td>0.0</td><td>&quot;0&quot;</td><td>0.0</td><td>0.0</td><td>0.0</td><td>0.0</td><td>0.0</td><td>0.0</td><td>0.0</td><td>0.0</td><td>0.0</td><td>0.0</td><td>0.0</td><td>0.0</td><td>0.0</td><td>0.0</td><td>0.0</td></tr><tr><td>&quot;mean&quot;</td><td>7.584735e6</td><td>null</td><td>1.367826</td><td>8.984611</td><td>7.568155</td><td>0.055956</td><td>8.985233</td><td>62.644182</td><td>2.050171</td><td>0.836957</td><td>0.160611</td><td>0.919848</td><td>0.832664</td><td>0.00342</td><td>0.991437</td><td>0.904156</td><td>0.937107</td></tr><tr><td>&quot;std&quot;</td><td>4.3791e6</td><td>null</td><td>3.25093</td><td>0.639095</td><td>3.3332</td><td>0.382402</td><td>0.638307</td><td>6.516261</td><td>2.302053</td><td>0.369405</td><td>0.367172</td><td>0.271528</td><td>0.373276</td><td>0.058381</td><td>0.092141</td><td>0.294378</td><td>0.242771</td></tr><tr><td>&quot;min&quot;</td><td>0.0</td><td>&quot;2020-02-01 00:00:00&quot;</td><td>-0.032</td><td>0.73</td><td>-0.036</td><td>-0.032</td><td>0.712</td><td>15.4</td><td>0.02</td><td>0.0</td><td>0.0</td><td>0.0</td><td>0.0</td><td>0.0</td><td>0.0</td><td>0.0</td><td>0.0</td></tr><tr><td>&quot;25%&quot;</td><td>3.79237e6</td><td>null</td><td>-0.014</td><td>8.492</td><td>8.254</td><td>-0.022</td><td>8.494</td><td>57.775</td><td>0.04</td><td>1.0</td><td>0.0</td><td>1.0</td><td>1.0</td><td>0.0</td><td>1.0</td><td>1.0</td><td>1.0</td></tr><tr><td>&quot;50%&quot;</td><td>7.58474e6</td><td>null</td><td>-0.012</td><td>8.96</td><td>8.784</td><td>-0.02</td><td>8.96</td><td>62.7</td><td>0.045</td><td>1.0</td><td>0.0</td><td>1.0</td><td>1.0</td><td>0.0</td><td>1.0</td><td>1.0</td><td>1.0</td></tr><tr><td>&quot;75%&quot;</td><td>1.13771e7</td><td>null</td><td>-0.01</td><td>9.492</td><td>9.374</td><td>-0.018</td><td>9.492</td><td>67.25</td><td>3.8075</td><td>1.0</td><td>0.0</td><td>1.0</td><td>1.0</td><td>0.0</td><td>1.0</td><td>1.0</td><td>1.0</td></tr><tr><td>&quot;max&quot;</td><td>1.516947e7</td><td>&quot;2020-09-01 03:59:50&quot;</td><td>10.676</td><td>10.302</td><td>10.288</td><td>9.844</td><td>10.3</td><td>89.05</td><td>9.295</td><td>1.0</td><td>1.0</td><td>1.0</td><td>1.0</td><td>1.0</td><td>1.0</td><td>1.0</td><td>1.0</td></tr></tbody></table></div>"
            ],
            "text/plain": [
              "shape: (9, 18)\n",
              "┌───────────┬───────────┬───────────┬───────────┬───┬───────────┬───────────┬───────────┬──────────┐\n",
              "│ statistic ┆           ┆ timestamp ┆ TP2       ┆ … ┆ LPS       ┆ Pressure_ ┆ Oil_level ┆ Caudal_i │\n",
              "│ ---       ┆ ---       ┆ ---       ┆ ---       ┆   ┆ ---       ┆ switch    ┆ ---       ┆ mpulses  │\n",
              "│ str       ┆ f64       ┆ str       ┆ f64       ┆   ┆ f64       ┆ ---       ┆ f64       ┆ ---      │\n",
              "│           ┆           ┆           ┆           ┆   ┆           ┆ f64       ┆           ┆ f64      │\n",
              "╞═══════════╪═══════════╪═══════════╪═══════════╪═══╪═══════════╪═══════════╪═══════════╪══════════╡\n",
              "│ count     ┆ 1.516948e ┆ 1516948   ┆ 1.516948e ┆ … ┆ 1.516948e ┆ 1.516948e ┆ 1.516948e ┆ 1.516948 │\n",
              "│           ┆ 6         ┆           ┆ 6         ┆   ┆ 6         ┆ 6         ┆ 6         ┆ e6       │\n",
              "│ null_coun ┆ 0.0       ┆ 0         ┆ 0.0       ┆ … ┆ 0.0       ┆ 0.0       ┆ 0.0       ┆ 0.0      │\n",
              "│ t         ┆           ┆           ┆           ┆   ┆           ┆           ┆           ┆          │\n",
              "│ mean      ┆ 7.584735e ┆ null      ┆ 1.367826  ┆ … ┆ 0.00342   ┆ 0.991437  ┆ 0.904156  ┆ 0.937107 │\n",
              "│           ┆ 6         ┆           ┆           ┆   ┆           ┆           ┆           ┆          │\n",
              "│ std       ┆ 4.3791e6  ┆ null      ┆ 3.25093   ┆ … ┆ 0.058381  ┆ 0.092141  ┆ 0.294378  ┆ 0.242771 │\n",
              "│ min       ┆ 0.0       ┆ 2020-02-0 ┆ -0.032    ┆ … ┆ 0.0       ┆ 0.0       ┆ 0.0       ┆ 0.0      │\n",
              "│           ┆           ┆ 1         ┆           ┆   ┆           ┆           ┆           ┆          │\n",
              "│           ┆           ┆ 00:00:00  ┆           ┆   ┆           ┆           ┆           ┆          │\n",
              "│ 25%       ┆ 3.79237e6 ┆ null      ┆ -0.014    ┆ … ┆ 0.0       ┆ 1.0       ┆ 1.0       ┆ 1.0      │\n",
              "│ 50%       ┆ 7.58474e6 ┆ null      ┆ -0.012    ┆ … ┆ 0.0       ┆ 1.0       ┆ 1.0       ┆ 1.0      │\n",
              "│ 75%       ┆ 1.13771e7 ┆ null      ┆ -0.01     ┆ … ┆ 0.0       ┆ 1.0       ┆ 1.0       ┆ 1.0      │\n",
              "│ max       ┆ 1.516947e ┆ 2020-09-0 ┆ 10.676    ┆ … ┆ 1.0       ┆ 1.0       ┆ 1.0       ┆ 1.0      │\n",
              "│           ┆ 7         ┆ 1         ┆           ┆   ┆           ┆           ┆           ┆          │\n",
              "│           ┆           ┆ 03:59:50  ┆           ┆   ┆           ┆           ┆           ┆          │\n",
              "└───────────┴───────────┴───────────┴───────────┴───┴───────────┴───────────┴───────────┴──────────┘"
            ]
          },
          "execution_count": 6,
          "metadata": {},
          "output_type": "execute_result"
        }
      ],
      "source": [
        "df_pl.describe()"
      ]
    },
    {
      "cell_type": "markdown",
      "metadata": {},
      "source": [
        "# CPU Benchmarking"
      ]
    },
    {
      "cell_type": "code",
      "execution_count": 9,
      "metadata": {},
      "outputs": [],
      "source": [
        "# Function to measure the time it takes to run a function, and store the results\n",
        "\n",
        "\n",
        "def measure_time(func, trials, metadata, container, *args, **kwargs):\n",
        "    # Measure the time it takes to run the function\n",
        "    times = []\n",
        "    for _ in range(trials):\n",
        "        start_time = time.perf_counter()\n",
        "        func(*args, **kwargs)\n",
        "        end_time = time.perf_counter()\n",
        "        times.append(end_time - start_time)\n",
        "\n",
        "    interim = pl.DataFrame(\n",
        "        {\"time\": times, \"package\": metadata[\"package\"], \"task\": metadata[\"task\"]}\n",
        "    )\n",
        "    container = pl.concat([container, interim])\n",
        "\n",
        "    return container"
      ]
    },
    {
      "cell_type": "code",
      "execution_count": 10,
      "metadata": {},
      "outputs": [],
      "source": [
        "# Defining prerequisites for the benchmarking\n",
        "vars_of_interest = [\n",
        "    \"TP2\",\n",
        "    \"TP3\",\n",
        "    \"H1\",\n",
        "    \"DV_pressure\",\n",
        "    \"Reservoirs\",\n",
        "    \"Oil_temperature\",\n",
        "    \"Motor_current\",\n",
        "]\n",
        "vars_of_interest_pd = {var: \"mean\" for var in vars_of_interest}"
      ]
    },
    {
      "cell_type": "code",
      "execution_count": 11,
      "metadata": {},
      "outputs": [],
      "source": [
        "# Defining test functions\n",
        "\n",
        "def read_csv_pl():\n",
        "    return pl.read_csv(\"./data/MetroPT3(AirCompressor).csv\")\n",
        "\n",
        "\n",
        "def read_csv_pd():\n",
        "    return pd.read_csv(\"./data/MetroPT3(AirCompressor).csv\")\n",
        "\n",
        "\n",
        "def describe_pl():\n",
        "    return df_pl.describe()\n",
        "\n",
        "\n",
        "def describe_pd():\n",
        "    return df_pd.describe()\n",
        "\n",
        "\n",
        "def filter_groupby_pl():\n",
        "    return (\n",
        "        df_pl.filter(pl.col(\"COMP\") == pl.lit(1))\n",
        "        .group_by(\"DV_eletric\")\n",
        "        .agg(cs.by_name(vars_of_interest).mean())\n",
        "    )                   \n",
        "\n",
        "\n",
        "def filter_groupby_pd():\n",
        "    return df_pd[df_pd[\"COMP\"] == 1].groupby(\"DV_eletric\").agg(vars_of_interest_pd)\n",
        "\n",
        "\n",
        "\n",
        "def sort_pl():\n",
        "    return df_pl.sort(by=\"timestamp\")\n",
        "\n",
        "\n",
        "def sort_pd():\n",
        "    return df_pd.sort_values(\"timestamp\")"
      ]
    },
    {
      "cell_type": "code",
      "execution_count": 18,
      "metadata": {},
      "outputs": [],
      "source": [
        "# Prepare the benchmarking container\n",
        "benchmark = pl.DataFrame()\n",
        "\n",
        "# Running the tests\n",
        "benchmark = measure_time(\n",
        "    func=describe_pl,\n",
        "    trials=20,\n",
        "    container=benchmark,\n",
        "    metadata={\"package\": \"polars\", \"task\": \"describe\"},\n",
        ")\n",
        "benchmark = measure_time(\n",
        "    func=describe_pd,\n",
        "    trials=20,\n",
        "    container=benchmark,\n",
        "    metadata={\"package\": \"pandas\", \"task\": \"describe\"},\n",
        ")\n",
        "\n",
        "benchmark = measure_time(\n",
        "    func=read_csv_pl,\n",
        "    trials=20,\n",
        "    container=benchmark,\n",
        "    metadata={\"package\": \"polars\", \"task\": \"read_csv\"},\n",
        ")\n",
        "benchmark = measure_time(\n",
        "    func=read_csv_pd,\n",
        "    trials=20,\n",
        "    container=benchmark,\n",
        "    metadata={\"package\": \"pandas\", \"task\": \"read_csv\"},\n",
        ")\n",
        "\n",
        "benchmark = measure_time(\n",
        "    func=filter_groupby_pl,\n",
        "    trials=20,\n",
        "    container=benchmark,\n",
        "    metadata={\"package\": \"polars\", \"task\": \"filter_groupby\"},\n",
        ")\n",
        "\n",
        "benchmark = measure_time(\n",
        "    func=filter_groupby_pd,\n",
        "    trials=20,\n",
        "    container=benchmark,\n",
        "    metadata={\"package\": \"pandas\", \"task\": \"filter_groupby\"},\n",
        ")\n",
        "\n",
        "\n",
        "benchmark = measure_time(\n",
        "    func=sort_pl,\n",
        "    trials=20,\n",
        "    container=benchmark,\n",
        "    metadata={\"package\": \"polars\", \"task\": \"sort\"},\n",
        ")\n",
        "\n",
        "benchmark = measure_time(\n",
        "    func=sort_pd,\n",
        "    trials=20,\n",
        "    container=benchmark,\n",
        "    metadata={\"package\": \"pandas\", \"task\": \"sort\"},\n",
        ")"
      ]
    },
    {
      "cell_type": "code",
      "execution_count": 86,
      "metadata": {},
      "outputs": [
        {
          "data": {
            "application/vnd.plotly.v1+json": {
              "config": {
                "plotlyServerURL": "https://plot.ly"
              },
              "data": [
                {
                  "alignmentgroup": "True",
                  "hovertemplate": "package=pandas<br>task=%{x}<br>mean_time=%{y}<extra></extra>",
                  "legendgroup": "pandas",
                  "marker": {
                    "color": "#e4048c",
                    "line": {
                      "color": "rgba(0, 0, 0, 0)",
                      "width": 0
                    },
                    "pattern": {
                      "shape": ""
                    }
                  },
                  "name": "pandas",
                  "offsetgroup": "pandas",
                  "orientation": "v",
                  "showlegend": true,
                  "text": [
                    "5.16s",
                    "0.73s",
                    "0.23s",
                    "0.81s"
                  ],
                  "textfont": {
                    "color": "white",
                    "size": 20
                  },
                  "textposition": "outside",
                  "type": "bar",
                  "x": [
                    "read_csv",
                    "describe",
                    "filter_groupby",
                    "sort"
                  ],
                  "xaxis": "x",
                  "y": [
                    5.156006738350015,
                    0.7271337958500226,
                    0.22983542759993725,
                    0.8127488064998488
                  ],
                  "yaxis": "y"
                },
                {
                  "alignmentgroup": "True",
                  "hovertemplate": "package=polars<br>task=%{x}<br>mean_time=%{y}<extra></extra>",
                  "legendgroup": "polars",
                  "marker": {
                    "color": "#107cff",
                    "line": {
                      "color": "rgba(0, 0, 0, 0)",
                      "width": 0
                    },
                    "pattern": {
                      "shape": ""
                    }
                  },
                  "name": "polars",
                  "offsetgroup": "polars",
                  "orientation": "v",
                  "showlegend": true,
                  "text": [
                    "0.27s",
                    "0.17s",
                    "0.06s",
                    "0.06s"
                  ],
                  "textfont": {
                    "color": "white",
                    "size": 20
                  },
                  "textposition": "outside",
                  "type": "bar",
                  "x": [
                    "read_csv",
                    "describe",
                    "filter_groupby",
                    "sort"
                  ],
                  "xaxis": "x",
                  "y": [
                    0.27143287889998646,
                    0.16641702814999917,
                    0.05793073540003206,
                    0.061966071549977644
                  ],
                  "yaxis": "y"
                }
              ],
              "layout": {
                "barmode": "group",
                "height": 630,
                "legend": {
                  "font": {
                    "color": "white",
                    "size": 25
                  },
                  "title": {
                    "text": ""
                  },
                  "tracegroupgap": 0,
                  "x": 0.5,
                  "xanchor": "center",
                  "y": 0.8,
                  "yanchor": "top"
                },
                "margin": {
                  "b": 100,
                  "l": 100,
                  "r": 100,
                  "t": 100
                },
                "paper_bgcolor": "rgb(37, 50, 59)",
                "plot_bgcolor": "rgba(0, 0, 0, 0)",
                "template": {
                  "data": {
                    "bar": [
                      {
                        "error_x": {
                          "color": "#2a3f5f"
                        },
                        "error_y": {
                          "color": "#2a3f5f"
                        },
                        "marker": {
                          "line": {
                            "color": "#E5ECF6",
                            "width": 0.5
                          },
                          "pattern": {
                            "fillmode": "overlay",
                            "size": 10,
                            "solidity": 0.2
                          }
                        },
                        "type": "bar"
                      }
                    ],
                    "barpolar": [
                      {
                        "marker": {
                          "line": {
                            "color": "#E5ECF6",
                            "width": 0.5
                          },
                          "pattern": {
                            "fillmode": "overlay",
                            "size": 10,
                            "solidity": 0.2
                          }
                        },
                        "type": "barpolar"
                      }
                    ],
                    "carpet": [
                      {
                        "aaxis": {
                          "endlinecolor": "#2a3f5f",
                          "gridcolor": "white",
                          "linecolor": "white",
                          "minorgridcolor": "white",
                          "startlinecolor": "#2a3f5f"
                        },
                        "baxis": {
                          "endlinecolor": "#2a3f5f",
                          "gridcolor": "white",
                          "linecolor": "white",
                          "minorgridcolor": "white",
                          "startlinecolor": "#2a3f5f"
                        },
                        "type": "carpet"
                      }
                    ],
                    "choropleth": [
                      {
                        "colorbar": {
                          "outlinewidth": 0,
                          "ticks": ""
                        },
                        "type": "choropleth"
                      }
                    ],
                    "contour": [
                      {
                        "colorbar": {
                          "outlinewidth": 0,
                          "ticks": ""
                        },
                        "colorscale": [
                          [
                            0,
                            "#0d0887"
                          ],
                          [
                            0.1111111111111111,
                            "#46039f"
                          ],
                          [
                            0.2222222222222222,
                            "#7201a8"
                          ],
                          [
                            0.3333333333333333,
                            "#9c179e"
                          ],
                          [
                            0.4444444444444444,
                            "#bd3786"
                          ],
                          [
                            0.5555555555555556,
                            "#d8576b"
                          ],
                          [
                            0.6666666666666666,
                            "#ed7953"
                          ],
                          [
                            0.7777777777777778,
                            "#fb9f3a"
                          ],
                          [
                            0.8888888888888888,
                            "#fdca26"
                          ],
                          [
                            1,
                            "#f0f921"
                          ]
                        ],
                        "type": "contour"
                      }
                    ],
                    "contourcarpet": [
                      {
                        "colorbar": {
                          "outlinewidth": 0,
                          "ticks": ""
                        },
                        "type": "contourcarpet"
                      }
                    ],
                    "heatmap": [
                      {
                        "colorbar": {
                          "outlinewidth": 0,
                          "ticks": ""
                        },
                        "colorscale": [
                          [
                            0,
                            "#0d0887"
                          ],
                          [
                            0.1111111111111111,
                            "#46039f"
                          ],
                          [
                            0.2222222222222222,
                            "#7201a8"
                          ],
                          [
                            0.3333333333333333,
                            "#9c179e"
                          ],
                          [
                            0.4444444444444444,
                            "#bd3786"
                          ],
                          [
                            0.5555555555555556,
                            "#d8576b"
                          ],
                          [
                            0.6666666666666666,
                            "#ed7953"
                          ],
                          [
                            0.7777777777777778,
                            "#fb9f3a"
                          ],
                          [
                            0.8888888888888888,
                            "#fdca26"
                          ],
                          [
                            1,
                            "#f0f921"
                          ]
                        ],
                        "type": "heatmap"
                      }
                    ],
                    "heatmapgl": [
                      {
                        "colorbar": {
                          "outlinewidth": 0,
                          "ticks": ""
                        },
                        "colorscale": [
                          [
                            0,
                            "#0d0887"
                          ],
                          [
                            0.1111111111111111,
                            "#46039f"
                          ],
                          [
                            0.2222222222222222,
                            "#7201a8"
                          ],
                          [
                            0.3333333333333333,
                            "#9c179e"
                          ],
                          [
                            0.4444444444444444,
                            "#bd3786"
                          ],
                          [
                            0.5555555555555556,
                            "#d8576b"
                          ],
                          [
                            0.6666666666666666,
                            "#ed7953"
                          ],
                          [
                            0.7777777777777778,
                            "#fb9f3a"
                          ],
                          [
                            0.8888888888888888,
                            "#fdca26"
                          ],
                          [
                            1,
                            "#f0f921"
                          ]
                        ],
                        "type": "heatmapgl"
                      }
                    ],
                    "histogram": [
                      {
                        "marker": {
                          "pattern": {
                            "fillmode": "overlay",
                            "size": 10,
                            "solidity": 0.2
                          }
                        },
                        "type": "histogram"
                      }
                    ],
                    "histogram2d": [
                      {
                        "colorbar": {
                          "outlinewidth": 0,
                          "ticks": ""
                        },
                        "colorscale": [
                          [
                            0,
                            "#0d0887"
                          ],
                          [
                            0.1111111111111111,
                            "#46039f"
                          ],
                          [
                            0.2222222222222222,
                            "#7201a8"
                          ],
                          [
                            0.3333333333333333,
                            "#9c179e"
                          ],
                          [
                            0.4444444444444444,
                            "#bd3786"
                          ],
                          [
                            0.5555555555555556,
                            "#d8576b"
                          ],
                          [
                            0.6666666666666666,
                            "#ed7953"
                          ],
                          [
                            0.7777777777777778,
                            "#fb9f3a"
                          ],
                          [
                            0.8888888888888888,
                            "#fdca26"
                          ],
                          [
                            1,
                            "#f0f921"
                          ]
                        ],
                        "type": "histogram2d"
                      }
                    ],
                    "histogram2dcontour": [
                      {
                        "colorbar": {
                          "outlinewidth": 0,
                          "ticks": ""
                        },
                        "colorscale": [
                          [
                            0,
                            "#0d0887"
                          ],
                          [
                            0.1111111111111111,
                            "#46039f"
                          ],
                          [
                            0.2222222222222222,
                            "#7201a8"
                          ],
                          [
                            0.3333333333333333,
                            "#9c179e"
                          ],
                          [
                            0.4444444444444444,
                            "#bd3786"
                          ],
                          [
                            0.5555555555555556,
                            "#d8576b"
                          ],
                          [
                            0.6666666666666666,
                            "#ed7953"
                          ],
                          [
                            0.7777777777777778,
                            "#fb9f3a"
                          ],
                          [
                            0.8888888888888888,
                            "#fdca26"
                          ],
                          [
                            1,
                            "#f0f921"
                          ]
                        ],
                        "type": "histogram2dcontour"
                      }
                    ],
                    "mesh3d": [
                      {
                        "colorbar": {
                          "outlinewidth": 0,
                          "ticks": ""
                        },
                        "type": "mesh3d"
                      }
                    ],
                    "parcoords": [
                      {
                        "line": {
                          "colorbar": {
                            "outlinewidth": 0,
                            "ticks": ""
                          }
                        },
                        "type": "parcoords"
                      }
                    ],
                    "pie": [
                      {
                        "automargin": true,
                        "type": "pie"
                      }
                    ],
                    "scatter": [
                      {
                        "fillpattern": {
                          "fillmode": "overlay",
                          "size": 10,
                          "solidity": 0.2
                        },
                        "type": "scatter"
                      }
                    ],
                    "scatter3d": [
                      {
                        "line": {
                          "colorbar": {
                            "outlinewidth": 0,
                            "ticks": ""
                          }
                        },
                        "marker": {
                          "colorbar": {
                            "outlinewidth": 0,
                            "ticks": ""
                          }
                        },
                        "type": "scatter3d"
                      }
                    ],
                    "scattercarpet": [
                      {
                        "marker": {
                          "colorbar": {
                            "outlinewidth": 0,
                            "ticks": ""
                          }
                        },
                        "type": "scattercarpet"
                      }
                    ],
                    "scattergeo": [
                      {
                        "marker": {
                          "colorbar": {
                            "outlinewidth": 0,
                            "ticks": ""
                          }
                        },
                        "type": "scattergeo"
                      }
                    ],
                    "scattergl": [
                      {
                        "marker": {
                          "colorbar": {
                            "outlinewidth": 0,
                            "ticks": ""
                          }
                        },
                        "type": "scattergl"
                      }
                    ],
                    "scattermapbox": [
                      {
                        "marker": {
                          "colorbar": {
                            "outlinewidth": 0,
                            "ticks": ""
                          }
                        },
                        "type": "scattermapbox"
                      }
                    ],
                    "scatterpolar": [
                      {
                        "marker": {
                          "colorbar": {
                            "outlinewidth": 0,
                            "ticks": ""
                          }
                        },
                        "type": "scatterpolar"
                      }
                    ],
                    "scatterpolargl": [
                      {
                        "marker": {
                          "colorbar": {
                            "outlinewidth": 0,
                            "ticks": ""
                          }
                        },
                        "type": "scatterpolargl"
                      }
                    ],
                    "scatterternary": [
                      {
                        "marker": {
                          "colorbar": {
                            "outlinewidth": 0,
                            "ticks": ""
                          }
                        },
                        "type": "scatterternary"
                      }
                    ],
                    "surface": [
                      {
                        "colorbar": {
                          "outlinewidth": 0,
                          "ticks": ""
                        },
                        "colorscale": [
                          [
                            0,
                            "#0d0887"
                          ],
                          [
                            0.1111111111111111,
                            "#46039f"
                          ],
                          [
                            0.2222222222222222,
                            "#7201a8"
                          ],
                          [
                            0.3333333333333333,
                            "#9c179e"
                          ],
                          [
                            0.4444444444444444,
                            "#bd3786"
                          ],
                          [
                            0.5555555555555556,
                            "#d8576b"
                          ],
                          [
                            0.6666666666666666,
                            "#ed7953"
                          ],
                          [
                            0.7777777777777778,
                            "#fb9f3a"
                          ],
                          [
                            0.8888888888888888,
                            "#fdca26"
                          ],
                          [
                            1,
                            "#f0f921"
                          ]
                        ],
                        "type": "surface"
                      }
                    ],
                    "table": [
                      {
                        "cells": {
                          "fill": {
                            "color": "#EBF0F8"
                          },
                          "line": {
                            "color": "white"
                          }
                        },
                        "header": {
                          "fill": {
                            "color": "#C8D4E3"
                          },
                          "line": {
                            "color": "white"
                          }
                        },
                        "type": "table"
                      }
                    ]
                  },
                  "layout": {
                    "annotationdefaults": {
                      "arrowcolor": "#2a3f5f",
                      "arrowhead": 0,
                      "arrowwidth": 1
                    },
                    "autotypenumbers": "strict",
                    "coloraxis": {
                      "colorbar": {
                        "outlinewidth": 0,
                        "ticks": ""
                      }
                    },
                    "colorscale": {
                      "diverging": [
                        [
                          0,
                          "#8e0152"
                        ],
                        [
                          0.1,
                          "#c51b7d"
                        ],
                        [
                          0.2,
                          "#de77ae"
                        ],
                        [
                          0.3,
                          "#f1b6da"
                        ],
                        [
                          0.4,
                          "#fde0ef"
                        ],
                        [
                          0.5,
                          "#f7f7f7"
                        ],
                        [
                          0.6,
                          "#e6f5d0"
                        ],
                        [
                          0.7,
                          "#b8e186"
                        ],
                        [
                          0.8,
                          "#7fbc41"
                        ],
                        [
                          0.9,
                          "#4d9221"
                        ],
                        [
                          1,
                          "#276419"
                        ]
                      ],
                      "sequential": [
                        [
                          0,
                          "#0d0887"
                        ],
                        [
                          0.1111111111111111,
                          "#46039f"
                        ],
                        [
                          0.2222222222222222,
                          "#7201a8"
                        ],
                        [
                          0.3333333333333333,
                          "#9c179e"
                        ],
                        [
                          0.4444444444444444,
                          "#bd3786"
                        ],
                        [
                          0.5555555555555556,
                          "#d8576b"
                        ],
                        [
                          0.6666666666666666,
                          "#ed7953"
                        ],
                        [
                          0.7777777777777778,
                          "#fb9f3a"
                        ],
                        [
                          0.8888888888888888,
                          "#fdca26"
                        ],
                        [
                          1,
                          "#f0f921"
                        ]
                      ],
                      "sequentialminus": [
                        [
                          0,
                          "#0d0887"
                        ],
                        [
                          0.1111111111111111,
                          "#46039f"
                        ],
                        [
                          0.2222222222222222,
                          "#7201a8"
                        ],
                        [
                          0.3333333333333333,
                          "#9c179e"
                        ],
                        [
                          0.4444444444444444,
                          "#bd3786"
                        ],
                        [
                          0.5555555555555556,
                          "#d8576b"
                        ],
                        [
                          0.6666666666666666,
                          "#ed7953"
                        ],
                        [
                          0.7777777777777778,
                          "#fb9f3a"
                        ],
                        [
                          0.8888888888888888,
                          "#fdca26"
                        ],
                        [
                          1,
                          "#f0f921"
                        ]
                      ]
                    },
                    "colorway": [
                      "#636efa",
                      "#EF553B",
                      "#00cc96",
                      "#ab63fa",
                      "#FFA15A",
                      "#19d3f3",
                      "#FF6692",
                      "#B6E880",
                      "#FF97FF",
                      "#FECB52"
                    ],
                    "font": {
                      "color": "#2a3f5f"
                    },
                    "geo": {
                      "bgcolor": "white",
                      "lakecolor": "white",
                      "landcolor": "#E5ECF6",
                      "showlakes": true,
                      "showland": true,
                      "subunitcolor": "white"
                    },
                    "hoverlabel": {
                      "align": "left"
                    },
                    "hovermode": "closest",
                    "mapbox": {
                      "style": "light"
                    },
                    "paper_bgcolor": "white",
                    "plot_bgcolor": "#E5ECF6",
                    "polar": {
                      "angularaxis": {
                        "gridcolor": "white",
                        "linecolor": "white",
                        "ticks": ""
                      },
                      "bgcolor": "#E5ECF6",
                      "radialaxis": {
                        "gridcolor": "white",
                        "linecolor": "white",
                        "ticks": ""
                      }
                    },
                    "scene": {
                      "xaxis": {
                        "backgroundcolor": "#E5ECF6",
                        "gridcolor": "white",
                        "gridwidth": 2,
                        "linecolor": "white",
                        "showbackground": true,
                        "ticks": "",
                        "zerolinecolor": "white"
                      },
                      "yaxis": {
                        "backgroundcolor": "#E5ECF6",
                        "gridcolor": "white",
                        "gridwidth": 2,
                        "linecolor": "white",
                        "showbackground": true,
                        "ticks": "",
                        "zerolinecolor": "white"
                      },
                      "zaxis": {
                        "backgroundcolor": "#E5ECF6",
                        "gridcolor": "white",
                        "gridwidth": 2,
                        "linecolor": "white",
                        "showbackground": true,
                        "ticks": "",
                        "zerolinecolor": "white"
                      }
                    },
                    "shapedefaults": {
                      "line": {
                        "color": "#2a3f5f"
                      }
                    },
                    "ternary": {
                      "aaxis": {
                        "gridcolor": "white",
                        "linecolor": "white",
                        "ticks": ""
                      },
                      "baxis": {
                        "gridcolor": "white",
                        "linecolor": "white",
                        "ticks": ""
                      },
                      "bgcolor": "#E5ECF6",
                      "caxis": {
                        "gridcolor": "white",
                        "linecolor": "white",
                        "ticks": ""
                      }
                    },
                    "title": {
                      "x": 0.05
                    },
                    "xaxis": {
                      "automargin": true,
                      "gridcolor": "white",
                      "linecolor": "white",
                      "ticks": "",
                      "title": {
                        "standoff": 15
                      },
                      "zerolinecolor": "white",
                      "zerolinewidth": 2
                    },
                    "yaxis": {
                      "automargin": true,
                      "gridcolor": "white",
                      "linecolor": "white",
                      "ticks": "",
                      "title": {
                        "standoff": 15
                      },
                      "zerolinecolor": "white",
                      "zerolinewidth": 2
                    }
                  }
                },
                "title": {
                  "font": {
                    "color": "white",
                    "size": 40
                  },
                  "text": "Benchmarking Wall Time",
                  "x": 0.5,
                  "xanchor": "center"
                },
                "width": 1200,
                "xaxis": {
                  "anchor": "y",
                  "domain": [
                    0,
                    1
                  ],
                  "showgrid": false,
                  "tickfont": {
                    "color": "white",
                    "size": 20
                  },
                  "title": {
                    "text": ""
                  }
                },
                "yaxis": {
                  "anchor": "x",
                  "domain": [
                    0,
                    1
                  ],
                  "range": [
                    0,
                    5.6716074121850175
                  ],
                  "showgrid": false,
                  "showticklabels": false,
                  "tickfont": {
                    "color": "white",
                    "size": 20
                  },
                  "title": {
                    "font": {
                      "color": "white",
                      "size": 25
                    },
                    "text": ""
                  }
                }
              }
            },
            "text/html": [
              "<div>                            <div id=\"1c5cbad1-4faa-4bc3-aaef-cf2c3254e93a\" class=\"plotly-graph-div\" style=\"height:630px; width:1200px;\"></div>            <script type=\"text/javascript\">                require([\"plotly\"], function(Plotly) {                    window.PLOTLYENV=window.PLOTLYENV || {};                                    if (document.getElementById(\"1c5cbad1-4faa-4bc3-aaef-cf2c3254e93a\")) {                    Plotly.newPlot(                        \"1c5cbad1-4faa-4bc3-aaef-cf2c3254e93a\",                        [{\"alignmentgroup\":\"True\",\"hovertemplate\":\"package=pandas\\u003cbr\\u003etask=%{x}\\u003cbr\\u003emean_time=%{y}\\u003cextra\\u003e\\u003c\\u002fextra\\u003e\",\"legendgroup\":\"pandas\",\"marker\":{\"color\":\"#e4048c\",\"pattern\":{\"shape\":\"\"},\"line\":{\"color\":\"rgba(0, 0, 0, 0)\",\"width\":0}},\"name\":\"pandas\",\"offsetgroup\":\"pandas\",\"orientation\":\"v\",\"showlegend\":true,\"textposition\":\"outside\",\"x\":[\"read_csv\",\"describe\",\"filter_groupby\",\"sort\"],\"xaxis\":\"x\",\"y\":[5.156006738350015,0.7271337958500226,0.22983542759993725,0.8127488064998488],\"yaxis\":\"y\",\"type\":\"bar\",\"textfont\":{\"color\":\"white\",\"size\":20},\"text\":[\"5.16s\",\"0.73s\",\"0.23s\",\"0.81s\"]},{\"alignmentgroup\":\"True\",\"hovertemplate\":\"package=polars\\u003cbr\\u003etask=%{x}\\u003cbr\\u003emean_time=%{y}\\u003cextra\\u003e\\u003c\\u002fextra\\u003e\",\"legendgroup\":\"polars\",\"marker\":{\"color\":\"#107cff\",\"pattern\":{\"shape\":\"\"},\"line\":{\"color\":\"rgba(0, 0, 0, 0)\",\"width\":0}},\"name\":\"polars\",\"offsetgroup\":\"polars\",\"orientation\":\"v\",\"showlegend\":true,\"textposition\":\"outside\",\"x\":[\"read_csv\",\"describe\",\"filter_groupby\",\"sort\"],\"xaxis\":\"x\",\"y\":[0.27143287889998646,0.16641702814999917,0.05793073540003206,0.061966071549977644],\"yaxis\":\"y\",\"type\":\"bar\",\"textfont\":{\"color\":\"white\",\"size\":20},\"text\":[\"0.27s\",\"0.17s\",\"0.06s\",\"0.06s\"]}],                        {\"template\":{\"data\":{\"histogram2dcontour\":[{\"type\":\"histogram2dcontour\",\"colorbar\":{\"outlinewidth\":0,\"ticks\":\"\"},\"colorscale\":[[0.0,\"#0d0887\"],[0.1111111111111111,\"#46039f\"],[0.2222222222222222,\"#7201a8\"],[0.3333333333333333,\"#9c179e\"],[0.4444444444444444,\"#bd3786\"],[0.5555555555555556,\"#d8576b\"],[0.6666666666666666,\"#ed7953\"],[0.7777777777777778,\"#fb9f3a\"],[0.8888888888888888,\"#fdca26\"],[1.0,\"#f0f921\"]]}],\"choropleth\":[{\"type\":\"choropleth\",\"colorbar\":{\"outlinewidth\":0,\"ticks\":\"\"}}],\"histogram2d\":[{\"type\":\"histogram2d\",\"colorbar\":{\"outlinewidth\":0,\"ticks\":\"\"},\"colorscale\":[[0.0,\"#0d0887\"],[0.1111111111111111,\"#46039f\"],[0.2222222222222222,\"#7201a8\"],[0.3333333333333333,\"#9c179e\"],[0.4444444444444444,\"#bd3786\"],[0.5555555555555556,\"#d8576b\"],[0.6666666666666666,\"#ed7953\"],[0.7777777777777778,\"#fb9f3a\"],[0.8888888888888888,\"#fdca26\"],[1.0,\"#f0f921\"]]}],\"heatmap\":[{\"type\":\"heatmap\",\"colorbar\":{\"outlinewidth\":0,\"ticks\":\"\"},\"colorscale\":[[0.0,\"#0d0887\"],[0.1111111111111111,\"#46039f\"],[0.2222222222222222,\"#7201a8\"],[0.3333333333333333,\"#9c179e\"],[0.4444444444444444,\"#bd3786\"],[0.5555555555555556,\"#d8576b\"],[0.6666666666666666,\"#ed7953\"],[0.7777777777777778,\"#fb9f3a\"],[0.8888888888888888,\"#fdca26\"],[1.0,\"#f0f921\"]]}],\"heatmapgl\":[{\"type\":\"heatmapgl\",\"colorbar\":{\"outlinewidth\":0,\"ticks\":\"\"},\"colorscale\":[[0.0,\"#0d0887\"],[0.1111111111111111,\"#46039f\"],[0.2222222222222222,\"#7201a8\"],[0.3333333333333333,\"#9c179e\"],[0.4444444444444444,\"#bd3786\"],[0.5555555555555556,\"#d8576b\"],[0.6666666666666666,\"#ed7953\"],[0.7777777777777778,\"#fb9f3a\"],[0.8888888888888888,\"#fdca26\"],[1.0,\"#f0f921\"]]}],\"contourcarpet\":[{\"type\":\"contourcarpet\",\"colorbar\":{\"outlinewidth\":0,\"ticks\":\"\"}}],\"contour\":[{\"type\":\"contour\",\"colorbar\":{\"outlinewidth\":0,\"ticks\":\"\"},\"colorscale\":[[0.0,\"#0d0887\"],[0.1111111111111111,\"#46039f\"],[0.2222222222222222,\"#7201a8\"],[0.3333333333333333,\"#9c179e\"],[0.4444444444444444,\"#bd3786\"],[0.5555555555555556,\"#d8576b\"],[0.6666666666666666,\"#ed7953\"],[0.7777777777777778,\"#fb9f3a\"],[0.8888888888888888,\"#fdca26\"],[1.0,\"#f0f921\"]]}],\"surface\":[{\"type\":\"surface\",\"colorbar\":{\"outlinewidth\":0,\"ticks\":\"\"},\"colorscale\":[[0.0,\"#0d0887\"],[0.1111111111111111,\"#46039f\"],[0.2222222222222222,\"#7201a8\"],[0.3333333333333333,\"#9c179e\"],[0.4444444444444444,\"#bd3786\"],[0.5555555555555556,\"#d8576b\"],[0.6666666666666666,\"#ed7953\"],[0.7777777777777778,\"#fb9f3a\"],[0.8888888888888888,\"#fdca26\"],[1.0,\"#f0f921\"]]}],\"mesh3d\":[{\"type\":\"mesh3d\",\"colorbar\":{\"outlinewidth\":0,\"ticks\":\"\"}}],\"scatter\":[{\"fillpattern\":{\"fillmode\":\"overlay\",\"size\":10,\"solidity\":0.2},\"type\":\"scatter\"}],\"parcoords\":[{\"type\":\"parcoords\",\"line\":{\"colorbar\":{\"outlinewidth\":0,\"ticks\":\"\"}}}],\"scatterpolargl\":[{\"type\":\"scatterpolargl\",\"marker\":{\"colorbar\":{\"outlinewidth\":0,\"ticks\":\"\"}}}],\"bar\":[{\"error_x\":{\"color\":\"#2a3f5f\"},\"error_y\":{\"color\":\"#2a3f5f\"},\"marker\":{\"line\":{\"color\":\"#E5ECF6\",\"width\":0.5},\"pattern\":{\"fillmode\":\"overlay\",\"size\":10,\"solidity\":0.2}},\"type\":\"bar\"}],\"scattergeo\":[{\"type\":\"scattergeo\",\"marker\":{\"colorbar\":{\"outlinewidth\":0,\"ticks\":\"\"}}}],\"scatterpolar\":[{\"type\":\"scatterpolar\",\"marker\":{\"colorbar\":{\"outlinewidth\":0,\"ticks\":\"\"}}}],\"histogram\":[{\"marker\":{\"pattern\":{\"fillmode\":\"overlay\",\"size\":10,\"solidity\":0.2}},\"type\":\"histogram\"}],\"scattergl\":[{\"type\":\"scattergl\",\"marker\":{\"colorbar\":{\"outlinewidth\":0,\"ticks\":\"\"}}}],\"scatter3d\":[{\"type\":\"scatter3d\",\"line\":{\"colorbar\":{\"outlinewidth\":0,\"ticks\":\"\"}},\"marker\":{\"colorbar\":{\"outlinewidth\":0,\"ticks\":\"\"}}}],\"scattermapbox\":[{\"type\":\"scattermapbox\",\"marker\":{\"colorbar\":{\"outlinewidth\":0,\"ticks\":\"\"}}}],\"scatterternary\":[{\"type\":\"scatterternary\",\"marker\":{\"colorbar\":{\"outlinewidth\":0,\"ticks\":\"\"}}}],\"scattercarpet\":[{\"type\":\"scattercarpet\",\"marker\":{\"colorbar\":{\"outlinewidth\":0,\"ticks\":\"\"}}}],\"carpet\":[{\"aaxis\":{\"endlinecolor\":\"#2a3f5f\",\"gridcolor\":\"white\",\"linecolor\":\"white\",\"minorgridcolor\":\"white\",\"startlinecolor\":\"#2a3f5f\"},\"baxis\":{\"endlinecolor\":\"#2a3f5f\",\"gridcolor\":\"white\",\"linecolor\":\"white\",\"minorgridcolor\":\"white\",\"startlinecolor\":\"#2a3f5f\"},\"type\":\"carpet\"}],\"table\":[{\"cells\":{\"fill\":{\"color\":\"#EBF0F8\"},\"line\":{\"color\":\"white\"}},\"header\":{\"fill\":{\"color\":\"#C8D4E3\"},\"line\":{\"color\":\"white\"}},\"type\":\"table\"}],\"barpolar\":[{\"marker\":{\"line\":{\"color\":\"#E5ECF6\",\"width\":0.5},\"pattern\":{\"fillmode\":\"overlay\",\"size\":10,\"solidity\":0.2}},\"type\":\"barpolar\"}],\"pie\":[{\"automargin\":true,\"type\":\"pie\"}]},\"layout\":{\"autotypenumbers\":\"strict\",\"colorway\":[\"#636efa\",\"#EF553B\",\"#00cc96\",\"#ab63fa\",\"#FFA15A\",\"#19d3f3\",\"#FF6692\",\"#B6E880\",\"#FF97FF\",\"#FECB52\"],\"font\":{\"color\":\"#2a3f5f\"},\"hovermode\":\"closest\",\"hoverlabel\":{\"align\":\"left\"},\"paper_bgcolor\":\"white\",\"plot_bgcolor\":\"#E5ECF6\",\"polar\":{\"bgcolor\":\"#E5ECF6\",\"angularaxis\":{\"gridcolor\":\"white\",\"linecolor\":\"white\",\"ticks\":\"\"},\"radialaxis\":{\"gridcolor\":\"white\",\"linecolor\":\"white\",\"ticks\":\"\"}},\"ternary\":{\"bgcolor\":\"#E5ECF6\",\"aaxis\":{\"gridcolor\":\"white\",\"linecolor\":\"white\",\"ticks\":\"\"},\"baxis\":{\"gridcolor\":\"white\",\"linecolor\":\"white\",\"ticks\":\"\"},\"caxis\":{\"gridcolor\":\"white\",\"linecolor\":\"white\",\"ticks\":\"\"}},\"coloraxis\":{\"colorbar\":{\"outlinewidth\":0,\"ticks\":\"\"}},\"colorscale\":{\"sequential\":[[0.0,\"#0d0887\"],[0.1111111111111111,\"#46039f\"],[0.2222222222222222,\"#7201a8\"],[0.3333333333333333,\"#9c179e\"],[0.4444444444444444,\"#bd3786\"],[0.5555555555555556,\"#d8576b\"],[0.6666666666666666,\"#ed7953\"],[0.7777777777777778,\"#fb9f3a\"],[0.8888888888888888,\"#fdca26\"],[1.0,\"#f0f921\"]],\"sequentialminus\":[[0.0,\"#0d0887\"],[0.1111111111111111,\"#46039f\"],[0.2222222222222222,\"#7201a8\"],[0.3333333333333333,\"#9c179e\"],[0.4444444444444444,\"#bd3786\"],[0.5555555555555556,\"#d8576b\"],[0.6666666666666666,\"#ed7953\"],[0.7777777777777778,\"#fb9f3a\"],[0.8888888888888888,\"#fdca26\"],[1.0,\"#f0f921\"]],\"diverging\":[[0,\"#8e0152\"],[0.1,\"#c51b7d\"],[0.2,\"#de77ae\"],[0.3,\"#f1b6da\"],[0.4,\"#fde0ef\"],[0.5,\"#f7f7f7\"],[0.6,\"#e6f5d0\"],[0.7,\"#b8e186\"],[0.8,\"#7fbc41\"],[0.9,\"#4d9221\"],[1,\"#276419\"]]},\"xaxis\":{\"gridcolor\":\"white\",\"linecolor\":\"white\",\"ticks\":\"\",\"title\":{\"standoff\":15},\"zerolinecolor\":\"white\",\"automargin\":true,\"zerolinewidth\":2},\"yaxis\":{\"gridcolor\":\"white\",\"linecolor\":\"white\",\"ticks\":\"\",\"title\":{\"standoff\":15},\"zerolinecolor\":\"white\",\"automargin\":true,\"zerolinewidth\":2},\"scene\":{\"xaxis\":{\"backgroundcolor\":\"#E5ECF6\",\"gridcolor\":\"white\",\"linecolor\":\"white\",\"showbackground\":true,\"ticks\":\"\",\"zerolinecolor\":\"white\",\"gridwidth\":2},\"yaxis\":{\"backgroundcolor\":\"#E5ECF6\",\"gridcolor\":\"white\",\"linecolor\":\"white\",\"showbackground\":true,\"ticks\":\"\",\"zerolinecolor\":\"white\",\"gridwidth\":2},\"zaxis\":{\"backgroundcolor\":\"#E5ECF6\",\"gridcolor\":\"white\",\"linecolor\":\"white\",\"showbackground\":true,\"ticks\":\"\",\"zerolinecolor\":\"white\",\"gridwidth\":2}},\"shapedefaults\":{\"line\":{\"color\":\"#2a3f5f\"}},\"annotationdefaults\":{\"arrowcolor\":\"#2a3f5f\",\"arrowhead\":0,\"arrowwidth\":1},\"geo\":{\"bgcolor\":\"white\",\"landcolor\":\"#E5ECF6\",\"subunitcolor\":\"white\",\"showland\":true,\"showlakes\":true,\"lakecolor\":\"white\"},\"title\":{\"x\":0.05},\"mapbox\":{\"style\":\"light\"}}},\"xaxis\":{\"anchor\":\"y\",\"domain\":[0.0,1.0],\"title\":{\"text\":\"\"},\"tickfont\":{\"size\":20,\"color\":\"white\"},\"showgrid\":false},\"yaxis\":{\"anchor\":\"x\",\"domain\":[0.0,1.0],\"title\":{\"text\":\"\",\"font\":{\"size\":25,\"color\":\"white\"}},\"tickfont\":{\"size\":20,\"color\":\"white\"},\"showticklabels\":false,\"showgrid\":false,\"range\":[0,5.6716074121850175]},\"legend\":{\"title\":{\"text\":\"\"},\"tracegroupgap\":0,\"font\":{\"color\":\"white\",\"size\":25},\"yanchor\":\"top\",\"y\":0.8,\"xanchor\":\"center\",\"x\":0.5},\"margin\":{\"t\":100,\"l\":100,\"r\":100,\"b\":100},\"barmode\":\"group\",\"title\":{\"font\":{\"color\":\"white\",\"size\":40},\"text\":\"Benchmarking Wall Time\",\"x\":0.5,\"xanchor\":\"center\"},\"height\":630,\"width\":1200,\"plot_bgcolor\":\"rgba(0, 0, 0, 0)\",\"paper_bgcolor\":\"rgb(37, 50, 59)\"},                        {\"responsive\": true}                    ).then(function(){\n",
              "                            \n",
              "var gd = document.getElementById('1c5cbad1-4faa-4bc3-aaef-cf2c3254e93a');\n",
              "var x = new MutationObserver(function (mutations, observer) {{\n",
              "        var display = window.getComputedStyle(gd).display;\n",
              "        if (!display || display === 'none') {{\n",
              "            console.log([gd, 'removed!']);\n",
              "            Plotly.purge(gd);\n",
              "            observer.disconnect();\n",
              "        }}\n",
              "}});\n",
              "\n",
              "// Listen for the removal of the full notebook cells\n",
              "var notebookContainer = gd.closest('#notebook-container');\n",
              "if (notebookContainer) {{\n",
              "    x.observe(notebookContainer, {childList: true});\n",
              "}}\n",
              "\n",
              "// Listen for the clearing of the current output cell\n",
              "var outputEl = gd.closest('.output');\n",
              "if (outputEl) {{\n",
              "    x.observe(outputEl, {childList: true});\n",
              "}}\n",
              "\n",
              "                        })                };                });            </script>        </div>"
            ]
          },
          "metadata": {},
          "output_type": "display_data"
        }
      ],
      "source": [
        "from turtle import width\n",
        "import plotly.express as px\n",
        "\n",
        "# Group by package and task, calculate mean and standard error\n",
        "df_grouped = benchmark.group_by([\"package\", \"task\"]).agg(\n",
        "    mean_time=pl.mean(\"time\"),\n",
        "    std_error=pl.std(\"time\"),\n",
        ")\n",
        "\n",
        "\n",
        "# Define the custom order\n",
        "custom_order = ['read_csv', 'describe', 'filter_groupby', 'sort']\n",
        "df_order = pl.DataFrame({\n",
        "    'task': custom_order,\n",
        "    'order': list(range(len(custom_order)))\n",
        "})\n",
        "df_grouped = df_grouped.join(df_order, on='task')\n",
        "df_grouped = df_grouped.sort('order')\n",
        "df_grouped = df_grouped.drop('order')\n",
        "\n",
        "# Create the bar plot\n",
        "\n",
        "fig = px.bar(\n",
        "    df_grouped,\n",
        "    x=\"task\",\n",
        "    y=\"mean_time\",\n",
        "    color=\"package\",\n",
        "    color_discrete_map={\"pandas\": \"#e4048c\", \"polars\": \"#107cff\"},\n",
        "    barmode=\"group\",\n",
        "    #error_y=\"std_error\",\n",
        "\n",
        ")\n",
        "\n",
        "fig.update_layout(\n",
        "    {   \"height\": 630,\n",
        "        \"width\": 1200,\n",
        "        \"plot_bgcolor\": \"rgba(0, 0, 0, 0)\",\n",
        "        \"paper_bgcolor\": \"rgb(37, 50, 59)\",  # dark blue background\n",
        "        \"legend\": {\n",
        "            \"font\": {\"color\": \"white\", \"size\": 25},\n",
        "            \"title_text\": \"\",\n",
        "            \"yanchor\": \"top\",\n",
        "            \"y\": 0.8,\n",
        "            \"xanchor\": \"center\",\n",
        "            \"x\": 0.5,\n",
        "        },  # white legend\n",
        "        \"title\": {\n",
        "            \"text\": \"Benchmarking Wall Time\",\n",
        "            \"font\": {\"color\": \"white\", \"size\": 40},  # white title\n",
        "            \"x\": 0.5,  # center title\n",
        "            \"xanchor\": \"center\",  # center title\n",
        "        },\n",
        "        \"margin\": {\"l\": 100, \"r\": 100, \"t\": 100, \"b\": 100},  # increase margins\n",
        "    }\n",
        ")\n",
        "\n",
        "# Add text labels\n",
        "fig.for_each_trace(lambda trace: trace.update(text = [f'{y:.2f}s' for y in trace.y], textposition='outside', textfont=dict(color='white', size=20)))\n",
        "\n",
        "\n",
        "# Turn off grid lines and set axis labels and title to white\n",
        "fig.update_xaxes(title_text=\"\", showgrid=False, tickfont=dict(size=20, color='white'))\n",
        "fig.update_yaxes(title_text=\"\", showticklabels=False, showgrid=False, title_font=dict(size=25, color='white'), tickfont=dict(size=20, color='white'))\n",
        "\n",
        "# Increase the y-axis range by 10% to create space for the label of the highest bar\n",
        "max_y = df_grouped['mean_time'].max()\n",
        "fig.update_yaxes(range=[0, max_y * 1.1])\n",
        "\n",
        "# Remove lines around bars\n",
        "fig.update_traces(marker_line_width=0, marker_line_color='rgba(0, 0, 0, 0)')\n",
        "\n",
        "\n",
        "fig.show()"
      ]
    },
    {
      "cell_type": "markdown",
      "metadata": {
        "id": "jVdU_VDxNO8L"
      },
      "source": [
        "<html>\n",
        "<body>\n",
        "    <div style=\"display: flex;\">\n",
        "            <a href=\"https://medium.com/@jgrygolec\" style=\"width: 45em; height: 15em; background-color: white; padding-left: 1em; display: flex; flex-direction: column; justify-content: center; color: inherit; text-decoration: none;\">\n",
        "            <p style=\"margin: 0; font-size: 1.5em; color: #3D4849;\">Thank you for attention!</p>\n",
        "            <p style=\"margin: 0; font-size: 1.5em; color: #3D4849; font-weight: bold;\">Click to see more of my articles on Medium.</p>\n",
        "            <p style=\"margin: 0; font-size: 1.5em; color: #3D4849;\">BR,</p>\n",
        "            <p style=\"margin: 0; font-size: 1.5em; color: #3D4849;\">Jarek Grygolec</p>\n",
        "        </a>\n",
        "        <a href=\"https://medium.com/@jgrygolec\" style=\"width: 30em; height: 15em; background-repeat: no-repeat; background-size: cover; background-position: center;\">\n",
        "                    <img src=\"https://miro.medium.com/v2/resize:fit:3992/0*WCQwsoZC0FA2-haq\" style=\"width: 100%; height: 100%; object-fit: cover;\"></a>\n",
        "    </div>\n",
        "</body>\n",
        "</html>"
      ]
    }
  ],
  "metadata": {
    "colab": {
      "provenance": []
    },
    "kernelspec": {
      "display_name": "rtb",
      "language": "python",
      "name": "python3"
    },
    "language_info": {
      "codemirror_mode": {
        "name": "ipython",
        "version": 3
      },
      "file_extension": ".py",
      "mimetype": "text/x-python",
      "name": "python",
      "nbconvert_exporter": "python",
      "pygments_lexer": "ipython3",
      "version": "3.11.4"
    }
  },
  "nbformat": 4,
  "nbformat_minor": 0
}
